{
  "nbformat": 4,
  "nbformat_minor": 0,
  "metadata": {
    "colab": {
      "name": "Seq2Seq.ipynb",
      "provenance": [],
      "collapsed_sections": [
        "QpIdQP5hia8Q",
        "zpgivv-3zoBf",
        "U-70yAgUVxzE",
        "r99TFj4eDqD8",
        "6QKB2ccxJ_9L",
        "OwG4T9TRMvaQ",
        "ug4lJ29I_Kks",
        "fvtbnbXTXkJc",
        "MqzleT380osX",
        "lsBWWstumTyv",
        "C_s9YFvS8-jQ",
        "lNEMyVQ1NvA4",
        "UUWMYuWHN22-",
        "cn4w0tV-N4MQ",
        "2M-GcQyUN6XN",
        "ktscwE43nzD0",
        "DHpt6Oa5w-BJ",
        "raVipwd0ljBO"
      ],
      "toc_visible": true,
      "machine_shape": "hm",
      "include_colab_link": true
    },
    "kernelspec": {
      "name": "python3",
      "display_name": "Python 3"
    },
    "accelerator": "GPU"
  },
  "cells": [
    {
      "cell_type": "markdown",
      "metadata": {
        "id": "view-in-github",
        "colab_type": "text"
      },
      "source": [
        "<a href=\"https://colab.research.google.com/github/Rajesh-Khanna/NLP-Drug-review-classification/blob/master/Seq2Seq_with_Attention.ipynb\" target=\"_parent\"><img src=\"https://colab.research.google.com/assets/colab-badge.svg\" alt=\"Open In Colab\"/></a>"
      ]
    },
    {
      "cell_type": "markdown",
      "metadata": {
        "id": "ke6uwaoIz6Az",
        "colab_type": "text"
      },
      "source": [
        "##Glove Embedding\n",
        "Embeding_D = 50"
      ]
    },
    {
      "cell_type": "markdown",
      "metadata": {
        "id": "DqjH9ukPywr-",
        "colab_type": "text"
      },
      "source": [
        "#Seq2Seq attention"
      ]
    },
    {
      "cell_type": "markdown",
      "metadata": {
        "id": "QpIdQP5hia8Q",
        "colab_type": "text"
      },
      "source": [
        "# Download Dataset"
      ]
    },
    {
      "cell_type": "code",
      "metadata": {
        "id": "q_DmcYyHycfH",
        "colab_type": "code",
        "outputId": "ca2a36b2-5e3d-4801-9669-e576ed0ad28a",
        "colab": {
          "base_uri": "https://localhost:8080/"
        }
      },
      "source": [
        "!curl --output dataset.zip https://archive.ics.uci.edu/ml/machine-learning-databases/00462/drugsCom_raw.zip\n",
        "!unzip dataset.zip\n",
        "# !rm dataset.zip"
      ],
      "execution_count": 0,
      "outputs": [
        {
          "output_type": "stream",
          "text": [
            "  % Total    % Received % Xferd  Average Speed   Time    Time     Time  Current\n",
            "                                 Dload  Upload   Total   Spent    Left  Speed\n",
            "100 40.9M  100 40.9M    0     0  50.2M      0 --:--:-- --:--:-- --:--:-- 50.2M\n",
            "Archive:  dataset.zip\n",
            "  inflating: drugsComTest_raw.tsv    \n",
            "  inflating: drugsComTrain_raw.tsv   \n"
          ],
          "name": "stdout"
        }
      ]
    },
    {
      "cell_type": "code",
      "metadata": {
        "id": "d6QBBCUnykJ8",
        "colab_type": "code",
        "outputId": "b5d14545-7faa-42b5-cfef-50a743b68ca6",
        "colab": {
          "base_uri": "https://localhost:8080/"
        }
      },
      "source": [
        "import pandas as pd\n",
        "import html\n",
        "from nltk.tokenize import word_tokenize,RegexpTokenizer\n",
        "from nltk.corpus import stopwords \n",
        "import nltk\n",
        "nltk.download('stopwords')\n",
        "nltk.download('punkt')\n",
        "import gensim\n",
        "import numpy as np\n",
        "from keras.utils.np_utils import to_categorical\n",
        "from sklearn.model_selection import train_test_split\n",
        "from keras.preprocessing.sequence import pad_sequences\n",
        "import h5py"
      ],
      "execution_count": 0,
      "outputs": [
        {
          "output_type": "stream",
          "text": [
            "[nltk_data] Downloading package stopwords to /root/nltk_data...\n",
            "[nltk_data]   Unzipping corpora/stopwords.zip.\n",
            "[nltk_data] Downloading package punkt to /root/nltk_data...\n",
            "[nltk_data]   Unzipping tokenizers/punkt.zip.\n"
          ],
          "name": "stdout"
        },
        {
          "output_type": "stream",
          "text": [
            "Using TensorFlow backend.\n"
          ],
          "name": "stderr"
        },
        {
          "output_type": "display_data",
          "data": {
            "text/html": [
              "<p style=\"color: red;\">\n",
              "The default version of TensorFlow in Colab will soon switch to TensorFlow 2.x.<br>\n",
              "We recommend you <a href=\"https://www.tensorflow.org/guide/migrate\" target=\"_blank\">upgrade</a> now \n",
              "or ensure your notebook will continue to use TensorFlow 1.x via the <code>%tensorflow_version 1.x</code> magic:\n",
              "<a href=\"https://colab.research.google.com/notebooks/tensorflow_version.ipynb\" target=\"_blank\">more info</a>.</p>\n"
            ],
            "text/plain": [
              "<IPython.core.display.HTML object>"
            ]
          },
          "metadata": {
            "tags": []
          }
        }
      ]
    },
    {
      "cell_type": "markdown",
      "metadata": {
        "id": "zpgivv-3zoBf",
        "colab_type": "text"
      },
      "source": [
        "#Loading Data\n",
        "Tokenization,removing stopwords"
      ]
    },
    {
      "cell_type": "code",
      "metadata": {
        "id": "JlQqiCrizOjJ",
        "colab_type": "code",
        "colab": {}
      },
      "source": [
        "# Loading Data\n",
        "\n",
        "def load_dataset(filename,classes=0):\n",
        "    df = pd.read_csv(filename, sep='\\t')\n",
        "    df.drop(df.columns[0], axis=1, inplace=True)\n",
        "    df.drop(['drugName', 'condition', 'date', 'usefulCount'], axis=1, inplace=True)\n",
        "    df['review'] = df['review'].apply(lambda x: x[1:-1])\n",
        "    df['review'] = df['review'].apply(html.unescape)\n",
        "    df['rating'] = df['rating'].astype('int64')\n",
        "    df['label'] = 0\n",
        "\n",
        "    print(df.groupby('rating').size())\n",
        "\n",
        "\n",
        "    label_range = [0,4,6,10]\n",
        "    if(classes == 2):\n",
        "        label_range = [0,5,10]\n",
        "    for i,r in enumerate(label_range):\n",
        "        if(i == 0):\n",
        "            continue\n",
        "        df.label[(df['rating'] > label_range[i-1]) & (df['rating'] <=  label_range[i])] = i-1\n",
        "    return df\n",
        "\n",
        "# df = load_dataset(\"drugsComTrain_raw.tsv\")\n",
        "# df_test = load_dataset(\"drugsComTest_raw.tsv\")\n",
        "sequence_length = 100"
      ],
      "execution_count": 0,
      "outputs": []
    },
    {
      "cell_type": "code",
      "metadata": {
        "id": "DH-MKgxtzwFF",
        "colab_type": "code",
        "colab": {}
      },
      "source": [
        "stop_words = set(stopwords.words('english'))  \n",
        "tokenizer = RegexpTokenizer(r'\\w+')"
      ],
      "execution_count": 0,
      "outputs": []
    },
    {
      "cell_type": "code",
      "metadata": {
        "id": "UZP4w-Fozzb4",
        "colab_type": "code",
        "colab": {}
      },
      "source": [
        "def func(row):\n",
        "    l = tokenizer.tokenize(row['review'])\n",
        "    s = [i.lower() for i in l if i not in stop_words]\n",
        "    return s\n",
        "# df['processed'] = df.apply (lambda row: func(row), axis=1)\n"
      ],
      "execution_count": 0,
      "outputs": []
    },
    {
      "cell_type": "markdown",
      "metadata": {
        "id": "K7FnAub9Mzz6",
        "colab_type": "text"
      },
      "source": [
        "#Embedings"
      ]
    },
    {
      "cell_type": "markdown",
      "metadata": {
        "id": "U-70yAgUVxzE",
        "colab_type": "text"
      },
      "source": [
        "## Glove embedings"
      ]
    },
    {
      "cell_type": "markdown",
      "metadata": {
        "id": "r99TFj4eDqD8",
        "colab_type": "text"
      },
      "source": [
        "### Download Glove embeddings"
      ]
    },
    {
      "cell_type": "code",
      "metadata": {
        "id": "_ux6hL9qRGZW",
        "colab_type": "code",
        "outputId": "49e80f6e-0350-46da-f210-4becf24a62c4",
        "colab": {
          "base_uri": "https://localhost:8080/"
        }
      },
      "source": [
        "!wget \"http://downloads.cs.stanford.edu/nlp/data/glove.6B.zip\"\n",
        "!unzip glove.6B.zip\n",
        "!rm glove.6B.zip"
      ],
      "execution_count": 0,
      "outputs": [
        {
          "output_type": "stream",
          "text": [
            "--2019-11-24 16:17:36--  http://downloads.cs.stanford.edu/nlp/data/glove.6B.zip\n",
            "Resolving downloads.cs.stanford.edu (downloads.cs.stanford.edu)... 171.64.64.22\n",
            "Connecting to downloads.cs.stanford.edu (downloads.cs.stanford.edu)|171.64.64.22|:80... connected.\n",
            "HTTP request sent, awaiting response... 200 OK\n",
            "Length: 862182613 (822M) [application/zip]\n",
            "Saving to: ‘glove.6B.zip’\n",
            "\n",
            "glove.6B.zip        100%[===================>] 822.24M  1.85MB/s    in 6m 30s  \n",
            "\n",
            "2019-11-24 16:24:06 (2.11 MB/s) - ‘glove.6B.zip’ saved [862182613/862182613]\n",
            "\n",
            "Archive:  glove.6B.zip\n",
            "  inflating: glove.6B.50d.txt        \n",
            "  inflating: glove.6B.100d.txt       \n",
            "  inflating: glove.6B.200d.txt       \n",
            "  inflating: glove.6B.300d.txt       \n"
          ],
          "name": "stdout"
        }
      ]
    },
    {
      "cell_type": "markdown",
      "metadata": {
        "id": "6QKB2ccxJ_9L",
        "colab_type": "text"
      },
      "source": [
        "### Util functions"
      ]
    },
    {
      "cell_type": "code",
      "metadata": {
        "id": "9bl9-7Zsfm2j",
        "colab_type": "code",
        "colab": {}
      },
      "source": [
        "def embed(processed, w2v_dict, default_vec):\n",
        "    vectors = []\n",
        "    for w in processed:\n",
        "        if(w in w2v_dict):\n",
        "            vectors.append(w2v_dict[w])\n",
        "        else:\n",
        "            vectors.append(default_vec)\n",
        "    vectors = np.array(vectors)\n",
        "    return vectors\n",
        "\n",
        "def embed_using_glove(df, embed_dim=50):\n",
        "    # Load Glove embeddings.\n",
        "    GLOVE_FILE = 'glove.6B.' + str(embed_dim) + 'd.txt'\n",
        "    # Get number of vectors and hidden dimensions\n",
        "    with open(GLOVE_FILE, 'r') as f:\n",
        "        for i, line in enumerate(f):\n",
        "            pass\n",
        "    n_vec = i + 1\n",
        "    hidden_dim = len(line.split(' ')) - 1\n",
        "    # Find the average of all embeddings to be assigned to tokens not in the embeddings.\n",
        "    # Create a word to vector dictionary for embedding.\n",
        "    avg_vec = np.zeros((hidden_dim), dtype=np.float32)\n",
        "    w2v_dict = {}\n",
        "    count = 0\n",
        "    with open(GLOVE_FILE, 'r') as f:\n",
        "        for line in f:\n",
        "            w2v_dict[line.split(' ')[:1][0]] = np.array([float(n) for n in line.split(' ')[1:]], dtype=np.float32)\n",
        "            avg_vec += np.array([float(n) for n in line.split(' ')[1:]], dtype=np.float32)\n",
        "            count+=1\n",
        "    avg_vec/=count\n",
        "\n",
        "    df['vectors'] = df.apply(lambda row: embed(row['processed'], w2v_dict, avg_vec), axis=1)\n",
        "    return avg_vec"
      ],
      "execution_count": 0,
      "outputs": []
    },
    {
      "cell_type": "markdown",
      "metadata": {
        "id": "0skbA-VnKDOc",
        "colab_type": "text"
      },
      "source": [
        "### Convert tokens in to Glove embeddings and save them to file."
      ]
    },
    {
      "cell_type": "code",
      "metadata": {
        "id": "rwjVr2tLJmNN",
        "colab_type": "code",
        "colab": {}
      },
      "source": [
        "\n",
        "# embed_using_glove(df_train, 50)\n",
        "#df_train.to_pickle(\"train_glove_50.pckl\")\n",
        "# embed_using_glove(df_test, 50)\n",
        "# df_test.to_pickle(\"test_glove_50.pckl\")\n"
      ],
      "execution_count": 0,
      "outputs": []
    },
    {
      "cell_type": "markdown",
      "metadata": {
        "colab_type": "text",
        "heading_collapsed": true,
        "id": "OwG4T9TRMvaQ"
      },
      "source": [
        "## Word2Vec embeddings"
      ]
    },
    {
      "cell_type": "markdown",
      "metadata": {
        "colab_type": "text",
        "heading_collapsed": true,
        "hidden": true,
        "id": "O5sARRHwM0Fl"
      },
      "source": [
        "### Download the Google word2vec embeddings"
      ]
    },
    {
      "cell_type": "code",
      "metadata": {
        "ExecuteTime": {
          "end_time": "2019-11-08T21:46:56.858133Z",
          "start_time": "2019-11-08T21:42:14.222728Z"
        },
        "colab_type": "code",
        "hidden": true,
        "id": "24KezgZuRbwk",
        "outputId": "6ddb23de-c9c5-429b-b66c-b29880e5f8f5",
        "colab": {
          "base_uri": "https://localhost:8080/"
        }
      },
      "source": [
        "!curl --output word2vec.bin.gz https://s3.amazonaws.com/dl4j-distribution/GoogleNews-vectors-negative300.bin.gz\n",
        "!gunzip word2vec.bin.gz"
      ],
      "execution_count": 0,
      "outputs": [
        {
          "output_type": "stream",
          "text": [
            "  % Total    % Received % Xferd  Average Speed   Time    Time     Time  Current\n",
            "                                 Dload  Upload   Total   Spent    Left  Speed\n",
            "100 1570M  100 1570M    0     0  44.6M      0  0:00:35  0:00:35 --:--:-- 45.8M\n"
          ],
          "name": "stdout"
        }
      ]
    },
    {
      "cell_type": "markdown",
      "metadata": {
        "colab_type": "text",
        "heading_collapsed": true,
        "hidden": true,
        "id": "f_Koey_WSjiY"
      },
      "source": [
        "### Load the word2vec embeddings into memory"
      ]
    },
    {
      "cell_type": "code",
      "metadata": {
        "ExecuteTime": {
          "end_time": "2019-11-08T21:59:19.615363Z",
          "start_time": "2019-11-08T21:58:09.951419Z"
        },
        "colab_type": "code",
        "hidden": true,
        "id": "3Iiw7NcRSqjA",
        "colab": {}
      },
      "source": [
        ""
      ],
      "execution_count": 0,
      "outputs": []
    },
    {
      "cell_type": "markdown",
      "metadata": {
        "colab_type": "text",
        "heading_collapsed": true,
        "hidden": true,
        "id": "cNUQxRghW70T"
      },
      "source": [
        "### Util funcitons"
      ]
    },
    {
      "cell_type": "code",
      "metadata": {
        "ExecuteTime": {
          "end_time": "2019-11-08T21:59:33.641391Z",
          "start_time": "2019-11-08T21:59:33.634808Z"
        },
        "colab_type": "code",
        "hidden": true,
        "id": "yyQQerUzW68n",
        "colab": {}
      },
      "source": [
        "def embed_w2v(processed, w2v_dict, default_vec):\n",
        "    vectors = []\n",
        "    for w in processed:\n",
        "        if(w in w2v_dict):\n",
        "            vectors.append(w2v_dict[w])\n",
        "        else:\n",
        "            vectors.append(default_vec)\n",
        "    vectors = np.array(vectors)\n",
        "    return vectors\n"
      ],
      "execution_count": 0,
      "outputs": []
    },
    {
      "cell_type": "markdown",
      "metadata": {
        "colab_type": "text",
        "heading_collapsed": true,
        "hidden": true,
        "id": "1epAFPfIxWC-"
      },
      "source": [
        "### Get equal-class versions of train and test dataset"
      ]
    },
    {
      "cell_type": "code",
      "metadata": {
        "id": "pRK6atCUdLNN",
        "colab_type": "code",
        "colab": {}
      },
      "source": [
        "# df_test_w2v['label'].value_counts()\n",
        "# df_test_w2v"
      ],
      "execution_count": 0,
      "outputs": []
    },
    {
      "cell_type": "code",
      "metadata": {
        "ExecuteTime": {
          "end_time": "2019-11-08T22:00:05.788109Z",
          "start_time": "2019-11-08T22:00:05.638070Z"
        },
        "colab_type": "code",
        "hidden": true,
        "id": "Aqw1UeLhxWDR",
        "colab": {}
      },
      "source": [
        "# df_train_w2v = pd.concat([df_train[df_train['label']==0].sample(n=4829).reset_index(drop=True),df_train[df_train['label']==1].sample(n=4829).reset_index(drop=True),df_train[df_train['label']==2].sample(n=4829).reset_index(drop=True)],ignore_index=True)\n",
        "# df_test_w2v = pd.concat([df_test[df_test['label']==0].sample(n=4829).reset_index(drop=True),df_test[df_test['label']==1].sample(n=4829).reset_index(drop=True),df_test[df_test['label']==2].sample(n=4829).reset_index(drop=True)],ignore_index=True)"
      ],
      "execution_count": 0,
      "outputs": []
    },
    {
      "cell_type": "markdown",
      "metadata": {
        "colab_type": "text",
        "heading_collapsed": true,
        "hidden": true,
        "id": "HHE64eMvfUg9"
      },
      "source": [
        "### Convert the tokens into Word2Vec embeddings"
      ]
    },
    {
      "cell_type": "code",
      "metadata": {
        "ExecuteTime": {
          "end_time": "2019-11-08T22:00:32.891534Z",
          "start_time": "2019-11-08T22:00:21.978251Z"
        },
        "colab_type": "code",
        "hidden": true,
        "id": "sUw50_VeUU5c",
        "colab": {}
      },
      "source": [
        "# w2v_avg = np.average(w2v_model.vectors, axis=0)\n",
        "# df_train_w2v['vectors'] = df_train_w2v.apply(lambda row: embed_w2v(row['processed'], w2v_model, w2v_avg), axis=1)\n",
        "# df_test_w2v['vectors'] = df_test_w2v.apply(lambda row: embed_w2v(row['processed'], w2v_model, w2v_avg), axis=1)"
      ],
      "execution_count": 0,
      "outputs": []
    },
    {
      "cell_type": "markdown",
      "metadata": {
        "heading_collapsed": true,
        "hidden": true,
        "id": "unLYkdPwYLtR",
        "colab_type": "text"
      },
      "source": [
        "### Save the Embeddings to file"
      ]
    },
    {
      "cell_type": "code",
      "metadata": {
        "ExecuteTime": {
          "end_time": "2019-11-08T22:05:18.963018Z",
          "start_time": "2019-11-08T22:04:14.983253Z"
        },
        "colab_type": "code",
        "hidden": true,
        "id": "LH6rJMjryvzC",
        "colab": {}
      },
      "source": [
        "# df_train_w2v.to_pickle(\"train_w2v.pckl\")\n",
        "# df_test_w2v.to_pickle(\"test_w2v.pckl\")"
      ],
      "execution_count": 0,
      "outputs": []
    },
    {
      "cell_type": "code",
      "metadata": {
        "id": "3ND-rucOSrUR",
        "colab_type": "code",
        "colab": {}
      },
      "source": [
        "def embeding_using_w2v(df):\n",
        "    from gensim.models import KeyedVectors\n",
        "    w2v_model = KeyedVectors.load_word2vec_format('word2vec.bin', binary=True)\n",
        "    w2v_avg = np.average(w2v_model.vectors, axis=0)\n",
        "\n",
        "    df['vectors'] = df.apply(lambda row: embed_w2v(row['processed'], w2v_model, w2v_avg), axis=1)\n",
        "    df['vectors'] = df.apply(lambda row: embed_w2v(row['processed'], w2v_model, w2v_avg), axis=1)    \n",
        "    return w2v_avg"
      ],
      "execution_count": 0,
      "outputs": []
    },
    {
      "cell_type": "markdown",
      "metadata": {
        "id": "ug4lJ29I_Kks",
        "colab_type": "text"
      },
      "source": [
        "## Elmo embeddings"
      ]
    },
    {
      "cell_type": "markdown",
      "metadata": {
        "id": "fvtbnbXTXkJc",
        "colab_type": "text"
      },
      "source": [
        "### Install allennlp"
      ]
    },
    {
      "cell_type": "code",
      "metadata": {
        "id": "wX4DiLtJXnxI",
        "colab_type": "code",
        "outputId": "283cc7f8-99dc-4568-dc8b-e6f032f02a7a",
        "colab": {
          "base_uri": "https://localhost:8080/"
        }
      },
      "source": [
        "!pip install allennlp"
      ],
      "execution_count": 0,
      "outputs": [
        {
          "output_type": "stream",
          "text": [
            "Collecting allennlp\n",
            "\u001b[?25l  Downloading https://files.pythonhosted.org/packages/bb/bb/041115d8bad1447080e5d1e30097c95e4b66e36074277afce8620a61cee3/allennlp-0.9.0-py3-none-any.whl (7.6MB)\n",
            "\u001b[K     |████████████████████████████████| 7.6MB 4.7MB/s \n",
            "\u001b[?25hRequirement already satisfied: nltk in /usr/local/lib/python3.6/dist-packages (from allennlp) (3.2.5)\n",
            "Collecting jsonpickle\n",
            "  Downloading https://files.pythonhosted.org/packages/07/07/c157520a3ebd166c8c24c6ae0ecae7c3968eb4653ff0e5af369bb82f004d/jsonpickle-1.2-py2.py3-none-any.whl\n",
            "Requirement already satisfied: editdistance in /usr/local/lib/python3.6/dist-packages (from allennlp) (0.5.3)\n",
            "Requirement already satisfied: scipy in /usr/local/lib/python3.6/dist-packages (from allennlp) (1.3.2)\n",
            "Requirement already satisfied: pytz>=2017.3 in /usr/local/lib/python3.6/dist-packages (from allennlp) (2018.9)\n",
            "Requirement already satisfied: flask>=1.0.2 in /usr/local/lib/python3.6/dist-packages (from allennlp) (1.1.1)\n",
            "Collecting word2number>=1.1\n",
            "  Downloading https://files.pythonhosted.org/packages/4a/29/a31940c848521f0725f0df6b25dca8917f13a2025b0e8fcbe5d0457e45e6/word2number-1.1.zip\n",
            "Collecting ftfy\n",
            "\u001b[?25l  Downloading https://files.pythonhosted.org/packages/75/ca/2d9a5030eaf1bcd925dab392762b9709a7ad4bd486a90599d93cd79cb188/ftfy-5.6.tar.gz (58kB)\n",
            "\u001b[K     |████████████████████████████████| 61kB 7.9MB/s \n",
            "\u001b[?25hCollecting jsonnet>=0.10.0; sys_platform != \"win32\"\n",
            "\u001b[?25l  Downloading https://files.pythonhosted.org/packages/fe/a6/e69e38f1f259fcf8532d8bd2c4bc88764f42d7b35a41423a7f4b035cc5ce/jsonnet-0.14.0.tar.gz (253kB)\n",
            "\u001b[K     |████████████████████████████████| 256kB 50.2MB/s \n",
            "\u001b[?25hRequirement already satisfied: tqdm>=4.19 in /usr/local/lib/python3.6/dist-packages (from allennlp) (4.28.1)\n",
            "Collecting numpydoc>=0.8.0\n",
            "  Downloading https://files.pythonhosted.org/packages/6a/f3/7cfe4c616e4b9fe05540256cc9c6661c052c8a4cec2915732793b36e1843/numpydoc-0.9.1.tar.gz\n",
            "Requirement already satisfied: matplotlib>=2.2.3 in /usr/local/lib/python3.6/dist-packages (from allennlp) (3.1.1)\n",
            "Requirement already satisfied: boto3 in /usr/local/lib/python3.6/dist-packages (from allennlp) (1.10.18)\n",
            "Collecting overrides\n",
            "  Downloading https://files.pythonhosted.org/packages/8b/a0/0d4a9dcd28de9bf263e9436b5876ba199cc4e4a19d0dc4e85eed657b1b77/overrides-2.5.tar.gz\n",
            "Requirement already satisfied: spacy<2.2,>=2.1.0 in /usr/local/lib/python3.6/dist-packages (from allennlp) (2.1.9)\n",
            "Requirement already satisfied: h5py in /usr/local/lib/python3.6/dist-packages (from allennlp) (2.8.0)\n",
            "Requirement already satisfied: numpy in /usr/local/lib/python3.6/dist-packages (from allennlp) (1.17.4)\n",
            "Requirement already satisfied: scikit-learn in /usr/local/lib/python3.6/dist-packages (from allennlp) (0.21.3)\n",
            "Collecting conllu==1.3.1\n",
            "  Downloading https://files.pythonhosted.org/packages/ae/54/b0ae1199f3d01666821b028cd967f7c0ac527ab162af433d3da69242cea2/conllu-1.3.1-py2.py3-none-any.whl\n",
            "Collecting parsimonious>=0.8.0\n",
            "\u001b[?25l  Downloading https://files.pythonhosted.org/packages/02/fc/067a3f89869a41009e1a7cdfb14725f8ddd246f30f63c645e8ef8a1c56f4/parsimonious-0.8.1.tar.gz (45kB)\n",
            "\u001b[K     |████████████████████████████████| 51kB 7.4MB/s \n",
            "\u001b[?25hCollecting flaky\n",
            "  Downloading https://files.pythonhosted.org/packages/fe/12/0f169abf1aa07c7edef4855cca53703d2e6b7ecbded7829588ac7e7e3424/flaky-3.6.1-py2.py3-none-any.whl\n",
            "Requirement already satisfied: requests>=2.18 in /usr/local/lib/python3.6/dist-packages (from allennlp) (2.21.0)\n",
            "Requirement already satisfied: pytest in /usr/local/lib/python3.6/dist-packages (from allennlp) (3.6.4)\n",
            "Requirement already satisfied: torch>=1.2.0 in /usr/local/lib/python3.6/dist-packages (from allennlp) (1.3.1)\n",
            "Collecting tensorboardX>=1.2\n",
            "\u001b[?25l  Downloading https://files.pythonhosted.org/packages/a6/5c/e918d9f190baab8d55bad52840d8091dd5114cc99f03eaa6d72d404503cc/tensorboardX-1.9-py2.py3-none-any.whl (190kB)\n",
            "\u001b[K     |████████████████████████████████| 194kB 39.0MB/s \n",
            "\u001b[?25hRequirement already satisfied: gevent>=1.3.6 in /usr/local/lib/python3.6/dist-packages (from allennlp) (1.4.0)\n",
            "Requirement already satisfied: sqlparse>=0.2.4 in /usr/local/lib/python3.6/dist-packages (from allennlp) (0.3.0)\n",
            "Collecting responses>=0.7\n",
            "  Downloading https://files.pythonhosted.org/packages/d1/5a/b887e89925f1de7890ef298a74438371ed4ed29b33def9e6d02dc6036fd8/responses-0.10.6-py2.py3-none-any.whl\n",
            "Collecting flask-cors>=3.0.7\n",
            "  Downloading https://files.pythonhosted.org/packages/78/38/e68b11daa5d613e3a91e4bf3da76c94ac9ee0d9cd515af9c1ab80d36f709/Flask_Cors-3.0.8-py2.py3-none-any.whl\n",
            "Collecting pytorch-pretrained-bert>=0.6.0\n",
            "\u001b[?25l  Downloading https://files.pythonhosted.org/packages/d7/e0/c08d5553b89973d9a240605b9c12404bcf8227590de62bae27acbcfe076b/pytorch_pretrained_bert-0.6.2-py3-none-any.whl (123kB)\n",
            "\u001b[K     |████████████████████████████████| 133kB 50.8MB/s \n",
            "\u001b[?25hCollecting pytorch-transformers==1.1.0\n",
            "\u001b[?25l  Downloading https://files.pythonhosted.org/packages/50/89/ad0d6bb932d0a51793eaabcf1617a36ff530dc9ab9e38f765a35dc293306/pytorch_transformers-1.1.0-py3-none-any.whl (158kB)\n",
            "\u001b[K     |████████████████████████████████| 163kB 55.0MB/s \n",
            "\u001b[?25hCollecting unidecode\n",
            "\u001b[?25l  Downloading https://files.pythonhosted.org/packages/d0/42/d9edfed04228bacea2d824904cae367ee9efd05e6cce7ceaaedd0b0ad964/Unidecode-1.1.1-py2.py3-none-any.whl (238kB)\n",
            "\u001b[K     |████████████████████████████████| 245kB 50.5MB/s \n",
            "\u001b[?25hRequirement already satisfied: six in /usr/local/lib/python3.6/dist-packages (from nltk->allennlp) (1.12.0)\n",
            "Requirement already satisfied: Jinja2>=2.10.1 in /usr/local/lib/python3.6/dist-packages (from flask>=1.0.2->allennlp) (2.10.3)\n",
            "Requirement already satisfied: Werkzeug>=0.15 in /usr/local/lib/python3.6/dist-packages (from flask>=1.0.2->allennlp) (0.16.0)\n",
            "Requirement already satisfied: itsdangerous>=0.24 in /usr/local/lib/python3.6/dist-packages (from flask>=1.0.2->allennlp) (1.1.0)\n",
            "Requirement already satisfied: click>=5.1 in /usr/local/lib/python3.6/dist-packages (from flask>=1.0.2->allennlp) (7.0)\n",
            "Requirement already satisfied: wcwidth in /usr/local/lib/python3.6/dist-packages (from ftfy->allennlp) (0.1.7)\n",
            "Requirement already satisfied: sphinx>=1.6.5 in /usr/local/lib/python3.6/dist-packages (from numpydoc>=0.8.0->allennlp) (1.8.5)\n",
            "Requirement already satisfied: python-dateutil>=2.1 in /usr/local/lib/python3.6/dist-packages (from matplotlib>=2.2.3->allennlp) (2.6.1)\n",
            "Requirement already satisfied: cycler>=0.10 in /usr/local/lib/python3.6/dist-packages (from matplotlib>=2.2.3->allennlp) (0.10.0)\n",
            "Requirement already satisfied: kiwisolver>=1.0.1 in /usr/local/lib/python3.6/dist-packages (from matplotlib>=2.2.3->allennlp) (1.1.0)\n",
            "Requirement already satisfied: pyparsing!=2.0.4,!=2.1.2,!=2.1.6,>=2.0.1 in /usr/local/lib/python3.6/dist-packages (from matplotlib>=2.2.3->allennlp) (2.4.5)\n",
            "Requirement already satisfied: jmespath<1.0.0,>=0.7.1 in /usr/local/lib/python3.6/dist-packages (from boto3->allennlp) (0.9.4)\n",
            "Requirement already satisfied: botocore<1.14.0,>=1.13.18 in /usr/local/lib/python3.6/dist-packages (from boto3->allennlp) (1.13.18)\n",
            "Requirement already satisfied: s3transfer<0.3.0,>=0.2.0 in /usr/local/lib/python3.6/dist-packages (from boto3->allennlp) (0.2.1)\n",
            "Requirement already satisfied: srsly<1.1.0,>=0.0.6 in /usr/local/lib/python3.6/dist-packages (from spacy<2.2,>=2.1.0->allennlp) (0.2.0)\n",
            "Requirement already satisfied: plac<1.0.0,>=0.9.6 in /usr/local/lib/python3.6/dist-packages (from spacy<2.2,>=2.1.0->allennlp) (0.9.6)\n",
            "Requirement already satisfied: preshed<2.1.0,>=2.0.1 in /usr/local/lib/python3.6/dist-packages (from spacy<2.2,>=2.1.0->allennlp) (2.0.1)\n",
            "Requirement already satisfied: blis<0.3.0,>=0.2.2 in /usr/local/lib/python3.6/dist-packages (from spacy<2.2,>=2.1.0->allennlp) (0.2.4)\n",
            "Requirement already satisfied: murmurhash<1.1.0,>=0.28.0 in /usr/local/lib/python3.6/dist-packages (from spacy<2.2,>=2.1.0->allennlp) (1.0.2)\n",
            "Requirement already satisfied: cymem<2.1.0,>=2.0.2 in /usr/local/lib/python3.6/dist-packages (from spacy<2.2,>=2.1.0->allennlp) (2.0.3)\n",
            "Requirement already satisfied: thinc<7.1.0,>=7.0.8 in /usr/local/lib/python3.6/dist-packages (from spacy<2.2,>=2.1.0->allennlp) (7.0.8)\n",
            "Requirement already satisfied: wasabi<1.1.0,>=0.2.0 in /usr/local/lib/python3.6/dist-packages (from spacy<2.2,>=2.1.0->allennlp) (0.4.0)\n",
            "Requirement already satisfied: joblib>=0.11 in /usr/local/lib/python3.6/dist-packages (from scikit-learn->allennlp) (0.14.0)\n",
            "Requirement already satisfied: certifi>=2017.4.17 in /usr/local/lib/python3.6/dist-packages (from requests>=2.18->allennlp) (2019.9.11)\n",
            "Requirement already satisfied: urllib3<1.25,>=1.21.1 in /usr/local/lib/python3.6/dist-packages (from requests>=2.18->allennlp) (1.24.3)\n",
            "Requirement already satisfied: idna<2.9,>=2.5 in /usr/local/lib/python3.6/dist-packages (from requests>=2.18->allennlp) (2.8)\n",
            "Requirement already satisfied: chardet<3.1.0,>=3.0.2 in /usr/local/lib/python3.6/dist-packages (from requests>=2.18->allennlp) (3.0.4)\n",
            "Requirement already satisfied: attrs>=17.4.0 in /usr/local/lib/python3.6/dist-packages (from pytest->allennlp) (19.3.0)\n",
            "Requirement already satisfied: pluggy<0.8,>=0.5 in /usr/local/lib/python3.6/dist-packages (from pytest->allennlp) (0.7.1)\n",
            "Requirement already satisfied: py>=1.5.0 in /usr/local/lib/python3.6/dist-packages (from pytest->allennlp) (1.8.0)\n",
            "Requirement already satisfied: setuptools in /usr/local/lib/python3.6/dist-packages (from pytest->allennlp) (41.6.0)\n",
            "Requirement already satisfied: atomicwrites>=1.0 in /usr/local/lib/python3.6/dist-packages (from pytest->allennlp) (1.3.0)\n",
            "Requirement already satisfied: more-itertools>=4.0.0 in /usr/local/lib/python3.6/dist-packages (from pytest->allennlp) (7.2.0)\n",
            "Requirement already satisfied: protobuf>=3.8.0 in /usr/local/lib/python3.6/dist-packages (from tensorboardX>=1.2->allennlp) (3.10.0)\n",
            "Requirement already satisfied: greenlet>=0.4.14; platform_python_implementation == \"CPython\" in /usr/local/lib/python3.6/dist-packages (from gevent>=1.3.6->allennlp) (0.4.15)\n",
            "Collecting regex\n",
            "\u001b[?25l  Downloading https://files.pythonhosted.org/packages/e3/8e/cbf2295643d7265e7883326fb4654e643bfc93b3a8a8274d8010a39d8804/regex-2019.11.1-cp36-cp36m-manylinux1_x86_64.whl (643kB)\n",
            "\u001b[K     |████████████████████████████████| 645kB 42.3MB/s \n",
            "\u001b[?25hCollecting sentencepiece\n",
            "\u001b[?25l  Downloading https://files.pythonhosted.org/packages/14/3d/efb655a670b98f62ec32d66954e1109f403db4d937c50d779a75b9763a29/sentencepiece-0.1.83-cp36-cp36m-manylinux1_x86_64.whl (1.0MB)\n",
            "\u001b[K     |████████████████████████████████| 1.0MB 37.1MB/s \n",
            "\u001b[?25hRequirement already satisfied: MarkupSafe>=0.23 in /usr/local/lib/python3.6/dist-packages (from Jinja2>=2.10.1->flask>=1.0.2->allennlp) (1.1.1)\n",
            "Requirement already satisfied: snowballstemmer>=1.1 in /usr/local/lib/python3.6/dist-packages (from sphinx>=1.6.5->numpydoc>=0.8.0->allennlp) (2.0.0)\n",
            "Requirement already satisfied: Pygments>=2.0 in /usr/local/lib/python3.6/dist-packages (from sphinx>=1.6.5->numpydoc>=0.8.0->allennlp) (2.1.3)\n",
            "Requirement already satisfied: babel!=2.0,>=1.3 in /usr/local/lib/python3.6/dist-packages (from sphinx>=1.6.5->numpydoc>=0.8.0->allennlp) (2.7.0)\n",
            "Requirement already satisfied: alabaster<0.8,>=0.7 in /usr/local/lib/python3.6/dist-packages (from sphinx>=1.6.5->numpydoc>=0.8.0->allennlp) (0.7.12)\n",
            "Requirement already satisfied: imagesize in /usr/local/lib/python3.6/dist-packages (from sphinx>=1.6.5->numpydoc>=0.8.0->allennlp) (1.1.0)\n",
            "Requirement already satisfied: packaging in /usr/local/lib/python3.6/dist-packages (from sphinx>=1.6.5->numpydoc>=0.8.0->allennlp) (19.2)\n",
            "Requirement already satisfied: sphinxcontrib-websupport in /usr/local/lib/python3.6/dist-packages (from sphinx>=1.6.5->numpydoc>=0.8.0->allennlp) (1.1.2)\n",
            "Requirement already satisfied: docutils>=0.11 in /usr/local/lib/python3.6/dist-packages (from sphinx>=1.6.5->numpydoc>=0.8.0->allennlp) (0.15.2)\n",
            "Building wheels for collected packages: word2number, ftfy, jsonnet, numpydoc, overrides, parsimonious\n",
            "  Building wheel for word2number (setup.py) ... \u001b[?25l\u001b[?25hdone\n",
            "  Created wheel for word2number: filename=word2number-1.1-cp36-none-any.whl size=5588 sha256=e441dd3f106a9705b2a37836ee4194672275a95da52c307372442d69352f639c\n",
            "  Stored in directory: /root/.cache/pip/wheels/46/2f/53/5f5c1d275492f2fce1cdab9a9bb12d49286dead829a4078e0e\n",
            "  Building wheel for ftfy (setup.py) ... \u001b[?25l\u001b[?25hdone\n",
            "  Created wheel for ftfy: filename=ftfy-5.6-cp36-none-any.whl size=44553 sha256=969cfc2dea1ef7dd1b247c4bbde7d45dcc21e858e1e7b004deb9bf8de04a418b\n",
            "  Stored in directory: /root/.cache/pip/wheels/43/34/ce/cbb38d71543c408de56f3c5e26ce8ba495a0fa5a28eaaf1046\n",
            "  Building wheel for jsonnet (setup.py) ... \u001b[?25l\u001b[?25hdone\n",
            "  Created wheel for jsonnet: filename=jsonnet-0.14.0-cp36-cp36m-linux_x86_64.whl size=3320385 sha256=f40b1de696f171b4a846d2bf619dd72306772a385d01c51997ad09ff3a911807\n",
            "  Stored in directory: /root/.cache/pip/wheels/5b/b7/83/985f0f758fbb34f14989a0fab86d18890d1cc5ae12f26967bc\n",
            "  Building wheel for numpydoc (setup.py) ... \u001b[?25l\u001b[?25hdone\n",
            "  Created wheel for numpydoc: filename=numpydoc-0.9.1-cp36-none-any.whl size=31872 sha256=28508aff468fb6bb12c9a48cd83e115afc365c5651d74a0fbfae0ffe184db00d\n",
            "  Stored in directory: /root/.cache/pip/wheels/51/30/d1/92a39ba40f21cb70e53f8af96eb98f002a781843c065406500\n",
            "  Building wheel for overrides (setup.py) ... \u001b[?25l\u001b[?25hdone\n",
            "  Created wheel for overrides: filename=overrides-2.5-cp36-none-any.whl size=5407 sha256=51a858ecb333b3594f77bfde8c3e43e91bb96e12d1d29c4a37711eb597c883b0\n",
            "  Stored in directory: /root/.cache/pip/wheels/be/56/0c/f5ce8e2403ae7d881e5d638fca1c1c5d21dac8eb6df5a6950f\n",
            "  Building wheel for parsimonious (setup.py) ... \u001b[?25l\u001b[?25hdone\n",
            "  Created wheel for parsimonious: filename=parsimonious-0.8.1-cp36-none-any.whl size=42709 sha256=d33766a84bd205037ff74781e5c53277009339a94c386dd131586b45bbb472bd\n",
            "  Stored in directory: /root/.cache/pip/wheels/b7/8d/e7/a0e74217da5caeb3c1c7689639b6d28ddbf9985b840bc96a9a\n",
            "Successfully built word2number ftfy jsonnet numpydoc overrides parsimonious\n",
            "Installing collected packages: jsonpickle, word2number, ftfy, jsonnet, numpydoc, overrides, conllu, parsimonious, flaky, tensorboardX, responses, flask-cors, regex, pytorch-pretrained-bert, sentencepiece, pytorch-transformers, unidecode, allennlp\n",
            "Successfully installed allennlp-0.9.0 conllu-1.3.1 flaky-3.6.1 flask-cors-3.0.8 ftfy-5.6 jsonnet-0.14.0 jsonpickle-1.2 numpydoc-0.9.1 overrides-2.5 parsimonious-0.8.1 pytorch-pretrained-bert-0.6.2 pytorch-transformers-1.1.0 regex-2019.11.1 responses-0.10.6 sentencepiece-0.1.83 tensorboardX-1.9 unidecode-1.1.1 word2number-1.1\n"
          ],
          "name": "stdout"
        }
      ]
    },
    {
      "cell_type": "markdown",
      "metadata": {
        "id": "Hv2O9HmcoSV7",
        "colab_type": "text"
      },
      "source": [
        "### Imports"
      ]
    },
    {
      "cell_type": "code",
      "metadata": {
        "id": "LhYYiddBjbfK",
        "colab_type": "code",
        "colab": {}
      },
      "source": [
        "from allennlp.commands.elmo import ElmoEmbedder\n",
        "import sys"
      ],
      "execution_count": 0,
      "outputs": []
    },
    {
      "cell_type": "markdown",
      "metadata": {
        "id": "vne2Ej3koUES",
        "colab_type": "text"
      },
      "source": [
        "### Util functions"
      ]
    },
    {
      "cell_type": "code",
      "metadata": {
        "id": "uhMhSy3xXoeN",
        "colab_type": "code",
        "colab": {}
      },
      "source": [
        "avg_elmo_embedding = ['1']\n",
        "def create_elmo_embeddings(elmo, documents, max_sentences = 1000):\n",
        "    num_sentences = min(max_sentences, len(documents)) if max_sentences > 0 else len(documents)\n",
        "    print(\"\\n\\n:: Lookup of \" + str(num_sentences) + \" ELMo representations. This takes a while ::\")\n",
        "    embeddings = []\n",
        "    tokens = documents['processed'].to_numpy()\n",
        "    \n",
        "    documentIdx = 0\n",
        "    for elmo_embedding in elmo.embed_sentences(tokens):  \n",
        "        document = documents.iloc[documentIdx]\n",
        "        # Average the 3 layers returned from ELMo\n",
        "        avg_elmo_embedding = np.average(elmo_embedding, axis=0)             \n",
        "        embeddings.append(avg_elmo_embedding)        \n",
        "        \n",
        "        # Some progress info\n",
        "        documentIdx += 1\n",
        "        percent = 100.0 * documentIdx / num_sentences\n",
        "        line = '[{0}{1}]'.format('=' * int(percent / 2), ' ' * (50 - int(percent / 2)))\n",
        "        status = '\\r{0:3.0f}%{1} {2:3d}/{3:3d} sentences'\n",
        "        sys.stdout.write(status.format(percent, line, documentIdx, num_sentences))\n",
        "        \n",
        "        if max_sentences > 0 and documentIdx >= max_sentences:\n",
        "            break\n",
        "            \n",
        "    return embeddings\n"
      ],
      "execution_count": 0,
      "outputs": []
    },
    {
      "cell_type": "markdown",
      "metadata": {
        "colab_type": "text",
        "id": "qmrAEErXwpDA"
      },
      "source": [
        "### Get smaller versions of train and test dataset"
      ]
    },
    {
      "cell_type": "code",
      "metadata": {
        "id": "6dzCGQ9MZN7u",
        "colab_type": "code",
        "colab": {}
      },
      "source": [
        "# df_train_elmo = df_train.sample(n=int(df_train.shape[0]/20)).reset_index(drop=True)\n",
        "# df_test_elmo = df_test.sample(n=int(df_test.shape[0]/20)).reset_index(drop=True)"
      ],
      "execution_count": 0,
      "outputs": []
    },
    {
      "cell_type": "markdown",
      "metadata": {
        "id": "uqmLae0uoXe7",
        "colab_type": "text"
      },
      "source": [
        "### Get ELMo embeddings"
      ]
    },
    {
      "cell_type": "code",
      "metadata": {
        "id": "2frbjy9yokoS",
        "colab_type": "code",
        "colab": {}
      },
      "source": [
        "# elmo = ElmoEmbedder(cuda_device=0) #Set cuda_device to the ID of your GPU if you have one\n",
        "# df_train_elmo['elmo_embeddings'] = create_elmo_embeddings(elmo, df_train_elmo, -1)\n",
        "# df_test_elmo['elmo_embeddings'] = create_elmo_embeddings(elmo, df_test_elmo, -1)"
      ],
      "execution_count": 0,
      "outputs": []
    },
    {
      "cell_type": "code",
      "metadata": {
        "id": "eUw1U_vTUi7A",
        "colab_type": "code",
        "colab": {}
      },
      "source": [
        "def embeding_using_elmo(df):\n",
        "    elmo = ElmoEmbedder(cuda_device=0) #Set cuda_device to the ID of your GPU if you have one\n",
        "    df['vectors'] = create_elmo_embeddings(elmo, df, -1)\n",
        "    return np.full_like(range(1024),0.0)"
      ],
      "execution_count": 0,
      "outputs": []
    },
    {
      "cell_type": "markdown",
      "metadata": {
        "id": "MqzleT380osX",
        "colab_type": "text"
      },
      "source": [
        "#Padding\n",
        "Sequence length = 100"
      ]
    },
    {
      "cell_type": "code",
      "metadata": {
        "id": "fssYrFmO0yVX",
        "colab_type": "code",
        "colab": {}
      },
      "source": [
        "sequence_length = 100\n",
        "num_classes = 3"
      ],
      "execution_count": 0,
      "outputs": []
    },
    {
      "cell_type": "code",
      "metadata": {
        "id": "4_q_6kQhBUfy",
        "colab_type": "code",
        "colab": {}
      },
      "source": [
        "def v2w(vec,avg_vec,w2v_dict):\n",
        "    if((vec==avg_vec).all()):\n",
        "        return 'UNK'\n",
        "    if(np.all(vec == 0)):\n",
        "        return 'None'\n",
        "    for k in w2v_dict:\n",
        "        if((w2v_dict[k]==vec).all()):\n",
        "            return k\n",
        "    return 'OOV'"
      ],
      "execution_count": 0,
      "outputs": []
    },
    {
      "cell_type": "markdown",
      "metadata": {
        "id": "lsBWWstumTyv",
        "colab_type": "text"
      },
      "source": [
        "# GetData"
      ]
    },
    {
      "cell_type": "code",
      "metadata": {
        "id": "r83PZ5gIltcI",
        "colab_type": "code",
        "colab": {}
      },
      "source": [
        "def getData(normalize = False,k = -1,k_test = 1000,classes=3,embed = 'glove'):\n",
        "    df_train = load_dataset(\"drugsComTrain_raw.tsv\",classes)\n",
        "    df_test = load_dataset(\"drugsComTest_raw.tsv\",classes)\n",
        "    \n",
        "    print(df_train.groupby('label').size())\n",
        "    print(df_test.groupby('label').size())\n",
        "\n",
        "\n",
        "    if(normalize):\n",
        "        mn = df_train.groupby('label').size().min()\n",
        "        if(classes == 3):\n",
        "            df_train = pd.concat([df_train[df_train['label']==0].sample(n=mn).reset_index(drop=True),df_train[df_train['label']==1].sample(n=mn).reset_index(drop=True),df_train[df_train['label']==2].sample(n=mn).reset_index(drop=True)],ignore_index=True)\n",
        "        else:\n",
        "            df_train = pd.concat([df_train[df_train['label']==0].sample(n=mn).reset_index(drop=True),df_train[df_train['label']==1].sample(n=mn).reset_index(drop=True)],ignore_index=True)\n",
        "        mn = df_test.groupby('label').size().min()\n",
        "        if(classes == 3):\n",
        "            df_test = pd.concat([df_test[df_test['label']==0].sample(n=mn).reset_index(drop=True),df_test[df_test['label']==1].sample(n=mn).reset_index(drop=True),df_test[df_test['label']==2].sample(n=mn).reset_index(drop=True)],ignore_index=True)\n",
        "        else:\n",
        "            df_test = pd.concat([df_test[df_test['label']==0].sample(n=mn).reset_index(drop=True),df_test[df_test['label']==1].sample(n=mn).reset_index(drop=True)],ignore_index=True)\n",
        "\n",
        "    if(k!=-1):\n",
        "        df_train = df_train.sample(n=k).reset_index(drop=True)\n",
        "\n",
        "    if(k_test!=-1):\n",
        "        df_test = df_test.sample(n=k_test).reset_index(drop=True)\n",
        "\n",
        "    df_train['processed'] = df_train.apply (lambda row: func(row), axis=1)\n",
        "    df_test['processed'] = df_test.apply (lambda row: func(row), axis=1)\n",
        "\n",
        "    if(embed == 'glove'):\n",
        "        w2v_avg = embed_using_glove(df_train, 50)\n",
        "        w2v_avg = embed_using_glove(df_test, 50)\n",
        "\n",
        "    if(embed == 'w2v'):\n",
        "        w2v_avg = embeding_using_w2v(df_train)\n",
        "        w2v_avg = embeding_using_w2v(df_test)\n",
        "\n",
        "    if(embed == 'elmo'):\n",
        "        w2v_avg = embeding_using_elmo(df_train)\n",
        "        w2v_avg = embeding_using_elmo(df_test)\n",
        "\n",
        "    # df_train['vectors'] = df_train.apply (lambda row: foo(row['processed']), axis=1)\n",
        "    # df_test['vectors'] = df_test.apply (lambda row: foo(row['processed']), axis=1)\n",
        "\n",
        "    train_data = pad_sequences(df_train['vectors'], maxlen=sequence_length,dtype='float32')\n",
        "    train_labels = pd.get_dummies(df_train['label']).to_numpy().reshape(-1,1,classes)\n",
        "\n",
        "    test_data = pad_sequences(df_test['vectors'], maxlen=sequence_length,dtype='float32')\n",
        "    test_labels = pd.get_dummies(df_test['label']).to_numpy().reshape(-1,1,classes)\n",
        "\n",
        "    _GO=np.array([[range(classes)]]*train_labels.shape[0])\n",
        "    _GO_test=np.array([[range(classes)]]*test_labels.shape[0])\n",
        "    _GO.shape\n",
        "\n",
        "    print(df_train.groupby('label').size())\n",
        "    print(df_test.groupby('label').size())\n",
        "\n",
        "    xTrain = {'ex':train_data,'dx':_GO}\n",
        "    xTest = {'ex':test_data,'dx':_GO_test}\n",
        "    print(train_data.shape,test_data.shape)\n",
        "\n",
        "    return xTrain,xTest,train_labels,test_labels"
      ],
      "execution_count": 0,
      "outputs": []
    },
    {
      "cell_type": "markdown",
      "metadata": {
        "id": "C_s9YFvS8-jQ",
        "colab_type": "text"
      },
      "source": [
        "#Model"
      ]
    },
    {
      "cell_type": "code",
      "metadata": {
        "id": "GX_GSCLr89aa",
        "colab_type": "code",
        "colab": {}
      },
      "source": [
        "from tensorflow.keras.layers import Input,GRU,Attention,Bidirectional,Concatenate,RepeatVector,dot,Activation,concatenate,Dense,TimeDistributed\n",
        "from tensorflow.keras.models import Model"
      ],
      "execution_count": 0,
      "outputs": []
    },
    {
      "cell_type": "code",
      "metadata": {
        "id": "QlUM3IIkiFUQ",
        "colab_type": "code",
        "colab": {}
      },
      "source": [
        "def seq2seq(embed,classes=3):\n",
        "\n",
        "    if(embed == 'glove'):\n",
        "        EMBEDDING_D = 50\n",
        "    if(embed == 'w2v'):\n",
        "        EMBEDDING_D = 300\n",
        "    if(embed == 'elmo'):\n",
        "        EMBEDDING_D = 1024\n",
        "\n",
        "    encoder_inputs = Input(batch_shape=(None, sequence_length, EMBEDDING_D), name='ex')\n",
        "    decoder_inputs = Input(batch_shape=(None, 1, classes), name='dx')\n",
        "\n",
        "    # Encoder network\n",
        "    encoder_gru = Bidirectional(GRU(64, return_sequences=True, return_state=True, name='encoder_gru'),merge_mode='concat')\n",
        "    encoder_out, state_h,state_c = encoder_gru(encoder_inputs)\n",
        "    encoder_state = [state_h,state_c]\n",
        "    print(encoder_out.shape)\n",
        "    print(state_h.shape)\n",
        "    print(state_c.shape)\n",
        "\n",
        "\n",
        "    # Decoder network\n",
        "    decoder_gru = Bidirectional(GRU(64, return_sequences=True, return_state=True, name='decoder_gru'),merge_mode='concat')\n",
        "    decoder_out, _,_ = decoder_gru(decoder_inputs, initial_state=encoder_state)\n",
        "\n",
        "    print(decoder_out.shape)\n",
        "\n",
        "    #Attention Layer\n",
        "    attn_out = dot([decoder_out, encoder_out], axes=[2, 2])\n",
        "\n",
        "    print(attn_out.shape)\n",
        "\n",
        "    attention = Activation('softmax')(attn_out)\n",
        "\n",
        "    context = dot([attention, encoder_out], axes=[2,1])\n",
        "\n",
        "    decoder_concat_input = concatenate([context, decoder_out])\n",
        "\n",
        "    # decoder_concat_input = Concatenate(axis=-1, name='concat_layer')([decoder_out, attn_out])\n",
        "\n",
        "    dense = Dense(classes, activation='softmax', name='softmax_layer')\n",
        "    dense_time = TimeDistributed(dense, name='time_distributed_layer')\n",
        "    decoder_pred = dense_time(decoder_concat_input)\n",
        "\n",
        "    full_model = Model(inputs=[encoder_inputs, decoder_inputs], outputs=decoder_pred)\n",
        "    full_model.compile(optimizer='adam', loss='categorical_crossentropy', metrics=['accuracy'])\n",
        "    attention_model = Model(inputs=[encoder_inputs, decoder_inputs], outputs=attention)\n",
        "    full_model.compile(optimizer='adam', loss='categorical_crossentropy', metrics=['accuracy'])\n",
        "\n",
        "    return full_model,attention_model"
      ],
      "execution_count": 0,
      "outputs": []
    },
    {
      "cell_type": "markdown",
      "metadata": {
        "id": "lNEMyVQ1NvA4",
        "colab_type": "text"
      },
      "source": [
        "#Training"
      ]
    },
    {
      "cell_type": "markdown",
      "metadata": {
        "id": "UUWMYuWHN22-",
        "colab_type": "text"
      },
      "source": [
        "##Glove"
      ]
    },
    {
      "cell_type": "code",
      "metadata": {
        "id": "KyjWOPLOXvp4",
        "colab_type": "code",
        "outputId": "3a120e75-dcbb-48d2-b897-71a0b2eea106",
        "colab": {
          "base_uri": "https://localhost:8080/",
          "height": 975
        }
      },
      "source": [
        "xTrain,xVal,yTrain,yVal = getData(normalize=True,k=10000)\n",
        "full_model,attention_model = seq2seq(embed='glove')"
      ],
      "execution_count": 0,
      "outputs": [
        {
          "output_type": "stream",
          "text": [
            "rating\n",
            "1     21619\n",
            "2      6931\n",
            "3      6513\n",
            "4      5012\n",
            "5      8013\n",
            "6      6343\n",
            "7      9456\n",
            "8     18890\n",
            "9     27531\n",
            "10    50989\n",
            "dtype: int64\n"
          ],
          "name": "stdout"
        },
        {
          "output_type": "stream",
          "text": [
            "/usr/local/lib/python3.6/dist-packages/ipykernel_launcher.py:20: SettingWithCopyWarning: \n",
            "A value is trying to be set on a copy of a slice from a DataFrame\n",
            "\n",
            "See the caveats in the documentation: http://pandas.pydata.org/pandas-docs/stable/user_guide/indexing.html#returning-a-view-versus-a-copy\n"
          ],
          "name": "stderr"
        },
        {
          "output_type": "stream",
          "text": [
            "rating\n",
            "1      7299\n",
            "2      2334\n",
            "3      2205\n",
            "4      1659\n",
            "5      2710\n",
            "6      2119\n",
            "7      3091\n",
            "8      6156\n",
            "9      9177\n",
            "10    17016\n",
            "dtype: int64\n",
            "label\n",
            "0     40075\n",
            "1     14356\n",
            "2    106866\n",
            "dtype: int64\n",
            "label\n",
            "0    13497\n",
            "1     4829\n",
            "2    35440\n",
            "dtype: int64\n",
            "label\n",
            "0    3302\n",
            "1    3363\n",
            "2    3335\n",
            "dtype: int64\n",
            "label\n",
            "0    331\n",
            "1    352\n",
            "2    317\n",
            "dtype: int64\n",
            "(10000, 100, 50) (1000, 100, 50)\n",
            "(?, 100, 128)\n",
            "(?, 64)\n",
            "(?, 64)\n",
            "(?, 1, 128)\n",
            "(?, 1, 100)\n"
          ],
          "name": "stdout"
        }
      ]
    },
    {
      "cell_type": "code",
      "metadata": {
        "id": "6a-LYVtJ8MF8",
        "colab_type": "code",
        "outputId": "241c3c6c-80ac-451f-9962-276117f84611",
        "colab": {
          "base_uri": "https://localhost:8080/",
          "height": 555
        }
      },
      "source": [
        "training = full_model.fit(x=xTrain, y = yTrain, epochs=15, batch_size=128,validation_split=0.1)"
      ],
      "execution_count": 0,
      "outputs": [
        {
          "output_type": "stream",
          "text": [
            "Train on 9000 samples, validate on 1000 samples\n",
            "Epoch 1/15\n",
            "9000/9000 [==============================] - 17s 2ms/sample - loss: 1.0831 - acc: 0.3940 - val_loss: 1.0522 - val_acc: 0.4430\n",
            "Epoch 2/15\n",
            "9000/9000 [==============================] - 15s 2ms/sample - loss: 1.0287 - acc: 0.4710 - val_loss: 1.0022 - val_acc: 0.5060\n",
            "Epoch 3/15\n",
            "9000/9000 [==============================] - 15s 2ms/sample - loss: 0.9976 - acc: 0.4957 - val_loss: 0.9829 - val_acc: 0.5100\n",
            "Epoch 4/15\n",
            "9000/9000 [==============================] - 15s 2ms/sample - loss: 0.9677 - acc: 0.5167 - val_loss: 0.9677 - val_acc: 0.5160\n",
            "Epoch 5/15\n",
            "9000/9000 [==============================] - 15s 2ms/sample - loss: 0.9525 - acc: 0.5259 - val_loss: 0.9544 - val_acc: 0.5270\n",
            "Epoch 6/15\n",
            "9000/9000 [==============================] - 15s 2ms/sample - loss: 0.9205 - acc: 0.5546 - val_loss: 0.9620 - val_acc: 0.5240\n",
            "Epoch 7/15\n",
            "9000/9000 [==============================] - 15s 2ms/sample - loss: 0.8983 - acc: 0.5723 - val_loss: 0.9309 - val_acc: 0.5260\n",
            "Epoch 8/15\n",
            "9000/9000 [==============================] - 15s 2ms/sample - loss: 0.8713 - acc: 0.5876 - val_loss: 0.9648 - val_acc: 0.5310\n",
            "Epoch 9/15\n",
            "9000/9000 [==============================] - 15s 2ms/sample - loss: 0.8581 - acc: 0.5959 - val_loss: 0.9639 - val_acc: 0.5310\n",
            "Epoch 10/15\n",
            "9000/9000 [==============================] - 15s 2ms/sample - loss: 0.8234 - acc: 0.6186 - val_loss: 0.9571 - val_acc: 0.5460\n",
            "Epoch 11/15\n",
            "9000/9000 [==============================] - 15s 2ms/sample - loss: 0.8028 - acc: 0.6274 - val_loss: 0.9455 - val_acc: 0.5430\n",
            "Epoch 12/15\n",
            "9000/9000 [==============================] - 15s 2ms/sample - loss: 0.7710 - acc: 0.6483 - val_loss: 0.9523 - val_acc: 0.5540\n",
            "Epoch 13/15\n",
            "9000/9000 [==============================] - 15s 2ms/sample - loss: 0.7381 - acc: 0.6646 - val_loss: 1.0163 - val_acc: 0.5400\n",
            "Epoch 14/15\n",
            "9000/9000 [==============================] - 15s 2ms/sample - loss: 0.7176 - acc: 0.6760 - val_loss: 0.9811 - val_acc: 0.5350\n",
            "Epoch 15/15\n",
            "9000/9000 [==============================] - 15s 2ms/sample - loss: 0.6691 - acc: 0.7031 - val_loss: 1.0087 - val_acc: 0.5440\n"
          ],
          "name": "stdout"
        }
      ]
    },
    {
      "cell_type": "code",
      "metadata": {
        "id": "t3t7kBjWvSMA",
        "colab_type": "code",
        "outputId": "6af77455-b4f1-47fa-c2d6-092087fe76c8",
        "colab": {
          "base_uri": "https://localhost:8080/",
          "height": 191
        }
      },
      "source": [
        "from sklearn.metrics import classification_report\n",
        "import numpy as np\n",
        "\n",
        "Y_test = np.argmax(yVal, axis=2).reshape((-1)) # Convert one-hot to index\n",
        "y_pred = full_model.predict(xVal)\n",
        "y_pred = y_pred.argmax(axis=2).reshape((-1))\n",
        "print(classification_report(Y_test, y_pred))"
      ],
      "execution_count": 0,
      "outputs": [
        {
          "output_type": "stream",
          "text": [
            "              precision    recall  f1-score   support\n",
            "\n",
            "           0       0.54      0.55      0.55       331\n",
            "           1       0.49      0.41      0.45       352\n",
            "           2       0.56      0.65      0.60       317\n",
            "\n",
            "    accuracy                           0.53      1000\n",
            "   macro avg       0.53      0.54      0.53      1000\n",
            "weighted avg       0.53      0.53      0.53      1000\n",
            "\n"
          ],
          "name": "stdout"
        }
      ]
    },
    {
      "cell_type": "code",
      "metadata": {
        "id": "MdCe73C_wSmD",
        "colab_type": "code",
        "outputId": "1de012ee-4e4f-4515-8ef9-cf2875ed5161",
        "colab": {
          "base_uri": "https://localhost:8080/",
          "height": 337
        }
      },
      "source": [
        "from sklearn import metrics\n",
        "cm=metrics.confusion_matrix(Y_test,y_pred)\n",
        "\n",
        "import seaborn as sn\n",
        "import pandas as pd\n",
        "import matplotlib.pyplot as plt\n",
        "\n",
        "df_cm = pd.DataFrame(cm, index = ['negative','neutral','positive'],\n",
        "                  columns = ['negative','neutral','postive'])\n",
        "plt.figure(figsize = (5,5))\n",
        "\n",
        "ax = sn.heatmap(df_cm, annot=True)\n",
        "\n",
        "bottom, top = ax.get_ylim()\n",
        "ax.set_ylim(bottom + 0.5, top - 0.5)"
      ],
      "execution_count": 0,
      "outputs": [
        {
          "output_type": "execute_result",
          "data": {
            "text/plain": [
              "(3.0, 0.0)"
            ]
          },
          "metadata": {
            "tags": []
          },
          "execution_count": 43
        },
        {
          "output_type": "display_data",
          "data": {
            "image/png": "[encoded data removed]",
            "text/plain": [
              "<Figure size 360x360 with 2 Axes>"
            ]
          },
          "metadata": {
            "tags": []
          }
        }
      ]
    },
    {
      "cell_type": "code",
      "metadata": {
        "id": "xFFQGeEpVVFk",
        "colab_type": "code",
        "outputId": "26cb1007-5158-441b-b7a9-c19aae2f0877",
        "colab": {
          "base_uri": "https://localhost:8080/",
          "height": 337
        }
      },
      "source": [
        "from sklearn import metrics\n",
        "cm=metrics.confusion_matrix(Y_test,y_pred)\n",
        "\n",
        "import seaborn as sn\n",
        "import pandas as pd\n",
        "import matplotlib.pyplot as plt\n",
        "\n",
        "df_cm = pd.DataFrame(cm, index = ['negative','neutral','positive'],\n",
        "                  columns = ['negative','neutral','postive'])\n",
        "plt.figure(figsize = (5,5))\n",
        "\n",
        "ax = sn.heatmap(df_cm, annot=True)\n",
        "\n",
        "bottom, top = ax.get_ylim()\n",
        "ax.set_ylim(bottom + 0.5, top - 0.5)"
      ],
      "execution_count": 0,
      "outputs": [
        {
          "output_type": "execute_result",
          "data": {
            "text/plain": [
              "(3.0, 0.0)"
            ]
          },
          "metadata": {
            "tags": []
          },
          "execution_count": 45
        },
        {
          "output_type": "display_data",
          "data": {
            "image/png": "[encoded data removed]",
            "text/plain": [
              "<Figure size 360x360 with 2 Axes>"
            ]
          },
          "metadata": {
            "tags": []
          }
        }
      ]
    },
    {
      "cell_type": "code",
      "metadata": {
        "id": "TQZ5Q9feSJZ7",
        "colab_type": "code",
        "outputId": "48ec64d1-f4a0-4d6c-d797-57d018705feb",
        "colab": {
          "base_uri": "https://localhost:8080/",
          "height": 358
        }
      },
      "source": [
        "y_pred = attention_model.predict(xVal)\n",
        "y_pred_class = full_model.predict(xVal)\n",
        "\n",
        "req = np.argmax(y_pred,axis = 2).reshape((-1))\n",
        "classes = np.argmax(y_pred_class,axis=2).reshape(-1)\n",
        "imp_vecs = xVal\n",
        "pos_words = []\n",
        "neg_words = []\n",
        "neu_words = []\n",
        "for i,vecs in enumerate(imp_vecs):\n",
        "    if(classes[i] == 0):\n",
        "        neg_words.append({'word':v2w(vecs)})\n",
        "    if(classes[i] == 1):\n",
        "        neu_words.append({'word':v2w(vecs)})\n",
        "    if(classes[i] == 2):\n",
        "        pos_words.append({'word':v2w(vecs)})\n",
        "\n",
        "neg_words = pd.DataFrame(neg_words)\n",
        "neu_words = pd.DataFrame(neu_words)\n",
        "pos_words = pd.DataFrame(pos_words)\n",
        "\n",
        "print(neg_words['word'].value_counts())\n",
        "print(neu_words['word'].value_counts())\n",
        "print(pos_words['word'].value_counts())"
      ],
      "execution_count": 0,
      "outputs": [
        {
          "output_type": "error",
          "ename": "NameError",
          "evalue": "ignored",
          "traceback": [
            "\u001b[0;31m---------------------------------------------------------------------------\u001b[0m",
            "\u001b[0;31mNameError\u001b[0m                                 Traceback (most recent call last)",
            "\u001b[0;32m<ipython-input-47-c2f1eee16472>\u001b[0m in \u001b[0;36m<module>\u001b[0;34m()\u001b[0m\n\u001b[1;32m     12\u001b[0m         \u001b[0mneg_words\u001b[0m\u001b[0;34m.\u001b[0m\u001b[0mappend\u001b[0m\u001b[0;34m(\u001b[0m\u001b[0;34m{\u001b[0m\u001b[0;34m'word'\u001b[0m\u001b[0;34m:\u001b[0m\u001b[0mv2w\u001b[0m\u001b[0;34m(\u001b[0m\u001b[0mvecs\u001b[0m\u001b[0;34m)\u001b[0m\u001b[0;34m}\u001b[0m\u001b[0;34m)\u001b[0m\u001b[0;34m\u001b[0m\u001b[0;34m\u001b[0m\u001b[0m\n\u001b[1;32m     13\u001b[0m     \u001b[0;32mif\u001b[0m\u001b[0;34m(\u001b[0m\u001b[0mclasses\u001b[0m\u001b[0;34m[\u001b[0m\u001b[0mi\u001b[0m\u001b[0;34m]\u001b[0m \u001b[0;34m==\u001b[0m \u001b[0;36m1\u001b[0m\u001b[0;34m)\u001b[0m\u001b[0;34m:\u001b[0m\u001b[0;34m\u001b[0m\u001b[0;34m\u001b[0m\u001b[0m\n\u001b[0;32m---> 14\u001b[0;31m         \u001b[0mneu_words\u001b[0m\u001b[0;34m.\u001b[0m\u001b[0mappend\u001b[0m\u001b[0;34m(\u001b[0m\u001b[0;34m{\u001b[0m\u001b[0;34m'word'\u001b[0m\u001b[0;34m:\u001b[0m\u001b[0mv2w\u001b[0m\u001b[0;34m(\u001b[0m\u001b[0mvecs\u001b[0m\u001b[0;34m)\u001b[0m\u001b[0;34m}\u001b[0m\u001b[0;34m)\u001b[0m\u001b[0;34m\u001b[0m\u001b[0;34m\u001b[0m\u001b[0m\n\u001b[0m\u001b[1;32m     15\u001b[0m     \u001b[0;32mif\u001b[0m\u001b[0;34m(\u001b[0m\u001b[0mclasses\u001b[0m\u001b[0;34m[\u001b[0m\u001b[0mi\u001b[0m\u001b[0;34m]\u001b[0m \u001b[0;34m==\u001b[0m \u001b[0;36m2\u001b[0m\u001b[0;34m)\u001b[0m\u001b[0;34m:\u001b[0m\u001b[0;34m\u001b[0m\u001b[0;34m\u001b[0m\u001b[0m\n\u001b[1;32m     16\u001b[0m         \u001b[0mpos_words\u001b[0m\u001b[0;34m.\u001b[0m\u001b[0mappend\u001b[0m\u001b[0;34m(\u001b[0m\u001b[0;34m{\u001b[0m\u001b[0;34m'word'\u001b[0m\u001b[0;34m:\u001b[0m\u001b[0mv2w\u001b[0m\u001b[0;34m(\u001b[0m\u001b[0mvecs\u001b[0m\u001b[0;34m)\u001b[0m\u001b[0;34m}\u001b[0m\u001b[0;34m)\u001b[0m\u001b[0;34m\u001b[0m\u001b[0;34m\u001b[0m\u001b[0m\n",
            "\u001b[0;32m<ipython-input-38-c853a3bde3cf>\u001b[0m in \u001b[0;36mv2w\u001b[0;34m(vec)\u001b[0m\n\u001b[1;32m      1\u001b[0m \u001b[0;32mdef\u001b[0m \u001b[0mv2w\u001b[0m\u001b[0;34m(\u001b[0m\u001b[0mvec\u001b[0m\u001b[0;34m)\u001b[0m\u001b[0;34m:\u001b[0m\u001b[0;34m\u001b[0m\u001b[0;34m\u001b[0m\u001b[0m\n\u001b[0;32m----> 2\u001b[0;31m     \u001b[0;32mif\u001b[0m\u001b[0;34m(\u001b[0m\u001b[0;34m(\u001b[0m\u001b[0mvec\u001b[0m\u001b[0;34m==\u001b[0m\u001b[0mavg_vec\u001b[0m\u001b[0;34m)\u001b[0m\u001b[0;34m.\u001b[0m\u001b[0mall\u001b[0m\u001b[0;34m(\u001b[0m\u001b[0;34m)\u001b[0m\u001b[0;34m)\u001b[0m\u001b[0;34m:\u001b[0m\u001b[0;34m\u001b[0m\u001b[0;34m\u001b[0m\u001b[0m\n\u001b[0m\u001b[1;32m      3\u001b[0m         \u001b[0;32mreturn\u001b[0m \u001b[0;34m'UNK'\u001b[0m\u001b[0;34m\u001b[0m\u001b[0;34m\u001b[0m\u001b[0m\n\u001b[1;32m      4\u001b[0m     \u001b[0;32mif\u001b[0m\u001b[0;34m(\u001b[0m\u001b[0mnp\u001b[0m\u001b[0;34m.\u001b[0m\u001b[0mprod\u001b[0m\u001b[0;34m(\u001b[0m\u001b[0mvec\u001b[0m\u001b[0;34m)\u001b[0m \u001b[0;34m==\u001b[0m \u001b[0;36m0\u001b[0m\u001b[0;34m)\u001b[0m\u001b[0;34m:\u001b[0m\u001b[0;34m\u001b[0m\u001b[0;34m\u001b[0m\u001b[0m\n\u001b[1;32m      5\u001b[0m         \u001b[0;32mreturn\u001b[0m \u001b[0;34m'None'\u001b[0m\u001b[0;34m\u001b[0m\u001b[0;34m\u001b[0m\u001b[0m\n",
            "\u001b[0;31mNameError\u001b[0m: name 'avg_vec' is not defined"
          ]
        }
      ]
    },
    {
      "cell_type": "markdown",
      "metadata": {
        "id": "cn4w0tV-N4MQ",
        "colab_type": "text"
      },
      "source": [
        "##Word2Vec"
      ]
    },
    {
      "cell_type": "code",
      "metadata": {
        "colab_type": "code",
        "outputId": "e27f1be1-fcfd-474e-fb73-30503f65e079",
        "id": "tzZodXJ5PLT_",
        "colab": {
          "base_uri": "https://localhost:8080/",
          "height": 1000
        }
      },
      "source": [
        "xTrain,xVal,yTrain,yVal = getData(normalize=True,k=10000,embed='w2v')\n"
      ],
      "execution_count": 0,
      "outputs": [
        {
          "output_type": "stream",
          "text": [
            "rating\n",
            "1     21619\n",
            "2      6931\n",
            "3      6513\n",
            "4      5012\n",
            "5      8013\n",
            "6      6343\n",
            "7      9456\n",
            "8     18890\n",
            "9     27531\n",
            "10    50989\n",
            "dtype: int64\n"
          ],
          "name": "stdout"
        },
        {
          "output_type": "stream",
          "text": [
            "/usr/local/lib/python3.6/dist-packages/ipykernel_launcher.py:20: SettingWithCopyWarning: \n",
            "A value is trying to be set on a copy of a slice from a DataFrame\n",
            "\n",
            "See the caveats in the documentation: http://pandas.pydata.org/pandas-docs/stable/user_guide/indexing.html#returning-a-view-versus-a-copy\n"
          ],
          "name": "stderr"
        },
        {
          "output_type": "stream",
          "text": [
            "rating\n",
            "1      7299\n",
            "2      2334\n",
            "3      2205\n",
            "4      1659\n",
            "5      2710\n",
            "6      2119\n",
            "7      3091\n",
            "8      6156\n",
            "9      9177\n",
            "10    17016\n",
            "dtype: int64\n",
            "label\n",
            "0     40075\n",
            "1     14356\n",
            "2    106866\n",
            "dtype: int64\n",
            "label\n",
            "0    13497\n",
            "1     4829\n",
            "2    35440\n",
            "dtype: int64\n"
          ],
          "name": "stdout"
        },
        {
          "output_type": "stream",
          "text": [
            "/usr/local/lib/python3.6/dist-packages/smart_open/smart_open_lib.py:402: UserWarning: This function is deprecated, use smart_open.open instead. See the migration notes for details: https://github.com/RaRe-Technologies/smart_open/blob/master/README.rst#migrating-to-the-new-open-function\n",
            "  'See the migration notes for details: %s' % _MIGRATION_NOTES_URL\n"
          ],
          "name": "stderr"
        },
        {
          "output_type": "stream",
          "text": [
            "label\n",
            "0    3304\n",
            "1    3349\n",
            "2    3347\n",
            "dtype: int64\n",
            "label\n",
            "0    334\n",
            "1    351\n",
            "2    315\n",
            "dtype: int64\n",
            "(10000, 100, 300) (1000, 100, 300)\n",
            "WARNING:tensorflow:From /usr/local/lib/python3.6/dist-packages/tensorflow_core/python/ops/init_ops.py:97: calling GlorotUniform.__init__ (from tensorflow.python.ops.init_ops) with dtype is deprecated and will be removed in a future version.\n",
            "Instructions for updating:\n",
            "Call initializer instance with the dtype argument instead of passing it to the constructor\n",
            "WARNING:tensorflow:From /usr/local/lib/python3.6/dist-packages/tensorflow_core/python/ops/init_ops.py:97: calling Orthogonal.__init__ (from tensorflow.python.ops.init_ops) with dtype is deprecated and will be removed in a future version.\n",
            "Instructions for updating:\n",
            "Call initializer instance with the dtype argument instead of passing it to the constructor\n",
            "WARNING:tensorflow:From /usr/local/lib/python3.6/dist-packages/tensorflow_core/python/ops/init_ops.py:97: calling Zeros.__init__ (from tensorflow.python.ops.init_ops) with dtype is deprecated and will be removed in a future version.\n",
            "Instructions for updating:\n",
            "Call initializer instance with the dtype argument instead of passing it to the constructor\n",
            "WARNING:tensorflow:From /usr/local/lib/python3.6/dist-packages/tensorflow_core/python/ops/resource_variable_ops.py:1630: calling BaseResourceVariable.__init__ (from tensorflow.python.ops.resource_variable_ops) with constraint is deprecated and will be removed in a future version.\n",
            "Instructions for updating:\n",
            "If using Keras pass *_constraint arguments to layers.\n",
            "(?, 100, 128)\n",
            "(?, 64)\n",
            "(?, 64)\n",
            "(?, 1, 128)\n",
            "(?, 1, 100)\n"
          ],
          "name": "stdout"
        }
      ]
    },
    {
      "cell_type": "code",
      "metadata": {
        "id": "ln3gFHwobftJ",
        "colab_type": "code",
        "outputId": "515f0e3d-a67a-4e9a-f8fe-052525297c5d",
        "colab": {
          "base_uri": "https://localhost:8080/",
          "height": 104
        }
      },
      "source": [
        "full_model,attention_model = seq2seq(embed='w2v')"
      ],
      "execution_count": 0,
      "outputs": [
        {
          "output_type": "stream",
          "text": [
            "(?, 100, 128)\n",
            "(?, 64)\n",
            "(?, 64)\n",
            "(?, 1, 128)\n",
            "(?, 1, 100)\n"
          ],
          "name": "stdout"
        }
      ]
    },
    {
      "cell_type": "code",
      "metadata": {
        "colab_type": "code",
        "outputId": "e23cc919-3302-4cc3-a64d-7d99ca44604c",
        "id": "_gWnl96-PLUM",
        "colab": {
          "base_uri": "https://localhost:8080/",
          "height": 627
        }
      },
      "source": [
        "training = full_model.fit(x=xTrain, y = yTrain, epochs=15, batch_size=128,validation_split=0.1)"
      ],
      "execution_count": 0,
      "outputs": [
        {
          "output_type": "stream",
          "text": [
            "WARNING:tensorflow:From /usr/local/lib/python3.6/dist-packages/tensorflow_core/python/ops/math_grad.py:1424: where (from tensorflow.python.ops.array_ops) is deprecated and will be removed in a future version.\n",
            "Instructions for updating:\n",
            "Use tf.where in 2.0, which has the same broadcast rule as np.where\n",
            "Train on 9000 samples, validate on 1000 samples\n",
            "Epoch 1/15\n",
            "9000/9000 [==============================] - 24s 3ms/sample - loss: 1.0641 - acc: 0.4230 - val_loss: 0.9801 - val_acc: 0.5390\n",
            "Epoch 2/15\n",
            "9000/9000 [==============================] - 22s 2ms/sample - loss: 0.9571 - acc: 0.5342 - val_loss: 0.9254 - val_acc: 0.5770\n",
            "Epoch 3/15\n",
            "9000/9000 [==============================] - 22s 2ms/sample - loss: 0.9138 - acc: 0.5637 - val_loss: 0.9248 - val_acc: 0.5570\n",
            "Epoch 4/15\n",
            "9000/9000 [==============================] - 22s 2ms/sample - loss: 0.8834 - acc: 0.5809 - val_loss: 0.8941 - val_acc: 0.5920\n",
            "Epoch 5/15\n",
            "9000/9000 [==============================] - 22s 2ms/sample - loss: 0.8542 - acc: 0.5989 - val_loss: 0.9024 - val_acc: 0.5650\n",
            "Epoch 6/15\n",
            "9000/9000 [==============================] - 22s 2ms/sample - loss: 0.8282 - acc: 0.6160 - val_loss: 0.9032 - val_acc: 0.5790\n",
            "Epoch 7/15\n",
            "9000/9000 [==============================] - 22s 2ms/sample - loss: 0.8084 - acc: 0.6262 - val_loss: 0.8848 - val_acc: 0.5980\n",
            "Epoch 8/15\n",
            "9000/9000 [==============================] - 21s 2ms/sample - loss: 0.7673 - acc: 0.6551 - val_loss: 0.8888 - val_acc: 0.5870\n",
            "Epoch 9/15\n",
            "9000/9000 [==============================] - 22s 2ms/sample - loss: 0.7326 - acc: 0.6748 - val_loss: 0.8742 - val_acc: 0.5800\n",
            "Epoch 10/15\n",
            "9000/9000 [==============================] - 23s 3ms/sample - loss: 0.6982 - acc: 0.6898 - val_loss: 0.9188 - val_acc: 0.5770\n",
            "Epoch 11/15\n",
            "9000/9000 [==============================] - 22s 2ms/sample - loss: 0.6672 - acc: 0.7057 - val_loss: 0.9482 - val_acc: 0.5890\n",
            "Epoch 12/15\n",
            "9000/9000 [==============================] - 22s 2ms/sample - loss: 0.6136 - acc: 0.7361 - val_loss: 0.9744 - val_acc: 0.5960\n",
            "Epoch 13/15\n",
            "9000/9000 [==============================] - 22s 2ms/sample - loss: 0.5724 - acc: 0.7562 - val_loss: 1.0608 - val_acc: 0.5590\n",
            "Epoch 14/15\n",
            "9000/9000 [==============================] - 22s 2ms/sample - loss: 0.5321 - acc: 0.7791 - val_loss: 1.0478 - val_acc: 0.5890\n",
            "Epoch 15/15\n",
            "9000/9000 [==============================] - 22s 2ms/sample - loss: 0.4839 - acc: 0.8017 - val_loss: 1.0830 - val_acc: 0.5910\n"
          ],
          "name": "stdout"
        }
      ]
    },
    {
      "cell_type": "code",
      "metadata": {
        "colab_type": "code",
        "outputId": "efcb4bed-d31a-4d7f-b567-0e168d5c2b03",
        "id": "kXHtNPGlPLUX",
        "colab": {
          "base_uri": "https://localhost:8080/",
          "height": 243
        }
      },
      "source": [
        "from sklearn.metrics import classification_report\n",
        "import numpy as np\n",
        "\n",
        "Y_test = np.argmax(yVal, axis=2).reshape((-1)) # Convert one-hot to index\n",
        "print(Y_test.shape)\n",
        "y_pred = full_model.predict(xVal)\n",
        "print(y_pred.shape)\n",
        "y_pred = y_pred.argmax(axis=2).reshape((-1))\n",
        "print(y_pred.shape)\n",
        "print(classification_report(Y_test, y_pred))"
      ],
      "execution_count": 0,
      "outputs": [
        {
          "output_type": "stream",
          "text": [
            "(1000,)\n",
            "(1000, 1, 3)\n",
            "(1000,)\n",
            "              precision    recall  f1-score   support\n",
            "\n",
            "           0       0.63      0.59      0.61       334\n",
            "           1       0.52      0.58      0.55       351\n",
            "           2       0.64      0.62      0.63       315\n",
            "\n",
            "    accuracy                           0.59      1000\n",
            "   macro avg       0.60      0.59      0.59      1000\n",
            "weighted avg       0.60      0.59      0.59      1000\n",
            "\n"
          ],
          "name": "stdout"
        }
      ]
    },
    {
      "cell_type": "code",
      "metadata": {
        "colab_type": "code",
        "outputId": "76877f7d-189e-4380-836f-03f428ca586a",
        "id": "F7AoVUumPLUg",
        "colab": {
          "base_uri": "https://localhost:8080/",
          "height": 337
        }
      },
      "source": [
        "from sklearn import metrics\n",
        "cm=metrics.confusion_matrix(Y_test,y_pred)\n",
        "\n",
        "import seaborn as sn\n",
        "import pandas as pd\n",
        "import matplotlib.pyplot as plt\n",
        "\n",
        "df_cm = pd.DataFrame(cm, index = ['negative','neutral','positive'],\n",
        "                  columns = ['negative','neutral','postive'])\n",
        "plt.figure(figsize = (5,5))\n",
        "\n",
        "ax = sn.heatmap(df_cm, annot=True)\n",
        "\n",
        "bottom, top = ax.get_ylim()\n",
        "ax.set_ylim(bottom + 0.5, top - 0.5)"
      ],
      "execution_count": 0,
      "outputs": [
        {
          "output_type": "execute_result",
          "data": {
            "text/plain": [
              "(3.0, 0.0)"
            ]
          },
          "metadata": {
            "tags": []
          },
          "execution_count": 30
        },
        {
          "output_type": "display_data",
          "data": {
            "image/png": "[encoded data removed]",
            "text/plain": [
              "<Figure size 360x360 with 2 Axes>"
            ]
          },
          "metadata": {
            "tags": []
          }
        }
      ]
    },
    {
      "cell_type": "code",
      "metadata": {
        "id": "IQZRCOB3aOQ6",
        "colab_type": "code",
        "colab": {}
      },
      "source": [
        "# y_pred = attention_model.predict(xVal)\n",
        "# y_pred_class = full_model.predict(xVal)\n",
        "\n",
        "# req = np.argmax(y_pred,axis = 2).reshape((-1))\n",
        "# classes = np.argmax(y_pred_class,axis=2).reshape(-1)\n",
        "# imp_vecs = xVal\n",
        "# pos_words = []\n",
        "# neg_words = []\n",
        "# neu_words = []\n",
        "# for i,vecs in enumerate(imp_vecs):\n",
        "#     if(classes[i] == 0):\n",
        "#         neg_words.append({'word':v2w(vecs,avg_vec,)})\n",
        "#     if(classes[i] == 1):\n",
        "#         neu_words.append({'word':v2w(vecs)})\n",
        "#     if(classes[i] == 2):\n",
        "#         pos_words.append({'word':v2w(vecs)})\n",
        "\n",
        "# neg_words = pd.DataFrame(neg_words)\n",
        "# neu_words = pd.DataFrame(neu_words)\n",
        "# pos_words = pd.DataFrame(pos_words)\n",
        "\n",
        "# print(neg_words['word'].value_counts())\n",
        "# print(neu_words['word'].value_counts())\n",
        "# print(pos_words['word'].value_counts())"
      ],
      "execution_count": 0,
      "outputs": []
    },
    {
      "cell_type": "markdown",
      "metadata": {
        "id": "2M-GcQyUN6XN",
        "colab_type": "text"
      },
      "source": [
        "##Elmo"
      ]
    },
    {
      "cell_type": "code",
      "metadata": {
        "colab_type": "code",
        "outputId": "24255f9f-7f62-48cf-daa1-9766162f5375",
        "id": "plGYTUMGPRf-",
        "colab": {
          "base_uri": "https://localhost:8080/",
          "height": 1000
        }
      },
      "source": [
        "xTrain,xVal,yTrain,yVal = getData(normalize=True,k=5000,embed='elmo')\n",
        "full_model,attention_model = seq2seq(embed='elmo')"
      ],
      "execution_count": 0,
      "outputs": [
        {
          "output_type": "stream",
          "text": [
            "rating\n",
            "1     21619\n",
            "2      6931\n",
            "3      6513\n",
            "4      5012\n",
            "5      8013\n",
            "6      6343\n",
            "7      9456\n",
            "8     18890\n",
            "9     27531\n",
            "10    50989\n",
            "dtype: int64\n"
          ],
          "name": "stdout"
        },
        {
          "output_type": "stream",
          "text": [
            "/usr/local/lib/python3.6/dist-packages/ipykernel_launcher.py:20: SettingWithCopyWarning: \n",
            "A value is trying to be set on a copy of a slice from a DataFrame\n",
            "\n",
            "See the caveats in the documentation: http://pandas.pydata.org/pandas-docs/stable/user_guide/indexing.html#returning-a-view-versus-a-copy\n"
          ],
          "name": "stderr"
        },
        {
          "output_type": "stream",
          "text": [
            "rating\n",
            "1      7299\n",
            "2      2334\n",
            "3      2205\n",
            "4      1659\n",
            "5      2710\n",
            "6      2119\n",
            "7      3091\n",
            "8      6156\n",
            "9      9177\n",
            "10    17016\n",
            "dtype: int64\n",
            "label\n",
            "0     40075\n",
            "1     14356\n",
            "2    106866\n",
            "dtype: int64\n",
            "label\n",
            "0    13497\n",
            "1     4829\n",
            "2    35440\n",
            "dtype: int64\n"
          ],
          "name": "stdout"
        },
        {
          "output_type": "stream",
          "text": [
            "100%|██████████| 336/336 [00:00<00:00, 905710.89B/s]\n",
            "100%|██████████| 374434792/374434792 [00:11<00:00, 32457044.78B/s]\n"
          ],
          "name": "stderr"
        },
        {
          "output_type": "stream",
          "text": [
            "\n",
            "\n",
            ":: Lookup of 5000 ELMo representations. This takes a while ::\n",
            "100%[==================================================] 5000/5000 sentences\n",
            "\n",
            ":: Lookup of 1000 ELMo representations. This takes a while ::\n",
            "100%[==================================================] 1000/1000 sentenceslabel\n",
            "0    1681\n",
            "1    1641\n",
            "2    1678\n",
            "dtype: int64\n",
            "label\n",
            "0    323\n",
            "1    322\n",
            "2    355\n",
            "dtype: int64\n",
            "(5000, 100, 1024) (1000, 100, 1024)\n",
            "(?, 100, 128)\n",
            "(?, 64)\n",
            "(?, 64)\n",
            "(?, 1, 128)\n",
            "(?, 1, 100)\n"
          ],
          "name": "stdout"
        }
      ]
    },
    {
      "cell_type": "code",
      "metadata": {
        "colab_type": "code",
        "outputId": "14ae923b-d92f-4dde-c38a-7419165a02fc",
        "id": "cfEbwc0VPRgM",
        "colab": {
          "base_uri": "https://localhost:8080/",
          "height": 555
        }
      },
      "source": [
        "training = full_model.fit(x=xTrain, y = yTrain, epochs=15, batch_size=128,validation_split=0.1)"
      ],
      "execution_count": 0,
      "outputs": [
        {
          "output_type": "stream",
          "text": [
            "Train on 4500 samples, validate on 500 samples\n",
            "Epoch 1/15\n",
            "4500/4500 [==============================] - 14s 3ms/sample - loss: 1.0738 - acc: 0.4218 - val_loss: 1.0276 - val_acc: 0.4660\n",
            "Epoch 2/15\n",
            "4500/4500 [==============================] - 12s 3ms/sample - loss: 0.9543 - acc: 0.5422 - val_loss: 0.9799 - val_acc: 0.5140\n",
            "Epoch 3/15\n",
            "4500/4500 [==============================] - 12s 3ms/sample - loss: 0.8358 - acc: 0.6260 - val_loss: 0.9441 - val_acc: 0.5320\n",
            "Epoch 4/15\n",
            "4500/4500 [==============================] - 12s 3ms/sample - loss: 0.7400 - acc: 0.6756 - val_loss: 0.9717 - val_acc: 0.5200\n",
            "Epoch 5/15\n",
            "4500/4500 [==============================] - 12s 3ms/sample - loss: 0.6235 - acc: 0.7504 - val_loss: 1.0851 - val_acc: 0.5160\n",
            "Epoch 6/15\n",
            "4500/4500 [==============================] - 12s 3ms/sample - loss: 0.4913 - acc: 0.8149 - val_loss: 1.1109 - val_acc: 0.5200\n",
            "Epoch 7/15\n",
            "4500/4500 [==============================] - 12s 3ms/sample - loss: 0.3789 - acc: 0.8600 - val_loss: 1.2224 - val_acc: 0.5320\n",
            "Epoch 8/15\n",
            "4500/4500 [==============================] - 12s 3ms/sample - loss: 0.2334 - acc: 0.9300 - val_loss: 1.3681 - val_acc: 0.5420\n",
            "Epoch 9/15\n",
            "4500/4500 [==============================] - 12s 3ms/sample - loss: 0.1591 - acc: 0.9587 - val_loss: 1.5772 - val_acc: 0.5320\n",
            "Epoch 10/15\n",
            "4500/4500 [==============================] - 12s 3ms/sample - loss: 0.0863 - acc: 0.9833 - val_loss: 1.7532 - val_acc: 0.5320\n",
            "Epoch 11/15\n",
            "4500/4500 [==============================] - 11s 3ms/sample - loss: 0.0511 - acc: 0.9922 - val_loss: 1.8653 - val_acc: 0.5160\n",
            "Epoch 12/15\n",
            "4500/4500 [==============================] - 12s 3ms/sample - loss: 0.0248 - acc: 0.9984 - val_loss: 2.0603 - val_acc: 0.5140\n",
            "Epoch 13/15\n",
            "4500/4500 [==============================] - 12s 3ms/sample - loss: 0.0139 - acc: 0.9998 - val_loss: 2.2244 - val_acc: 0.5220\n",
            "Epoch 14/15\n",
            "4500/4500 [==============================] - 12s 3ms/sample - loss: 0.0085 - acc: 1.0000 - val_loss: 2.3187 - val_acc: 0.5240\n",
            "Epoch 15/15\n",
            "4500/4500 [==============================] - 12s 3ms/sample - loss: 0.0058 - acc: 1.0000 - val_loss: 2.3874 - val_acc: 0.5360\n"
          ],
          "name": "stdout"
        }
      ]
    },
    {
      "cell_type": "code",
      "metadata": {
        "colab_type": "code",
        "outputId": "3d908494-0355-4369-dce9-1775e8c3792a",
        "id": "SRnElbItPRga",
        "colab": {
          "base_uri": "https://localhost:8080/",
          "height": 191
        }
      },
      "source": [
        "from sklearn.metrics import classification_report\n",
        "import numpy as np\n",
        "\n",
        "Y_test = np.argmax(yVal, axis=2).reshape((-1)) # Convert one-hot to index\n",
        "y_pred = full_model.predict(xVal)\n",
        "y_pred = y_pred.argmax(axis=2).reshape((-1))\n",
        "print(classification_report(Y_test, y_pred))"
      ],
      "execution_count": 0,
      "outputs": [
        {
          "output_type": "stream",
          "text": [
            "              precision    recall  f1-score   support\n",
            "\n",
            "           0       0.58      0.58      0.58       323\n",
            "           1       0.49      0.52      0.50       322\n",
            "           2       0.65      0.61      0.63       355\n",
            "\n",
            "    accuracy                           0.57      1000\n",
            "   macro avg       0.57      0.57      0.57      1000\n",
            "weighted avg       0.57      0.57      0.57      1000\n",
            "\n"
          ],
          "name": "stdout"
        }
      ]
    },
    {
      "cell_type": "code",
      "metadata": {
        "colab_type": "code",
        "outputId": "c3c050e9-8648-4015-84e1-c8d019fcd229",
        "id": "ruBfOOKoPRgi",
        "colab": {
          "base_uri": "https://localhost:8080/",
          "height": 337
        }
      },
      "source": [
        "from sklearn import metrics\n",
        "cm=metrics.confusion_matrix(Y_test,y_pred)\n",
        "\n",
        "import seaborn as sn\n",
        "import pandas as pd\n",
        "import matplotlib.pyplot as plt\n",
        "\n",
        "df_cm = pd.DataFrame(cm, index = ['negative','neutral','positive'],\n",
        "                  columns = ['negative','neutral','postive'])\n",
        "plt.figure(figsize = (5,5))\n",
        "\n",
        "ax = sn.heatmap(df_cm, annot=True)\n",
        "\n",
        "bottom, top = ax.get_ylim()\n",
        "ax.set_ylim(bottom + 0.5, top - 0.5)"
      ],
      "execution_count": 0,
      "outputs": [
        {
          "output_type": "execute_result",
          "data": {
            "text/plain": [
              "(3.0, 0.0)"
            ]
          },
          "metadata": {
            "tags": []
          },
          "execution_count": 43
        },
        {
          "output_type": "display_data",
          "data": {
            "image/png": "[encoded data removed]",
            "text/plain": [
              "<Figure size 360x360 with 2 Axes>"
            ]
          },
          "metadata": {
            "tags": []
          }
        }
      ]
    },
    {
      "cell_type": "code",
      "metadata": {
        "id": "3MZdTH3NaQnw",
        "colab_type": "code",
        "colab": {}
      },
      "source": [
        "# y_pred = attention_model.predict(xVal)\n",
        "# y_pred_class = full_model.predict(xVal)\n",
        "\n",
        "# req = np.argmax(y_pred,axis = 2).reshape((-1))\n",
        "# classes = np.argmax(y_pred_class,axis=2).reshape(-1)\n",
        "# imp_vecs = xVal\n",
        "# pos_words = []\n",
        "# neg_words = []\n",
        "# neu_words = []\n",
        "# for i,vecs in enumerate(imp_vecs):\n",
        "#     if(classes[i] == 0):\n",
        "#         neg_words.append({'word':v2w(vecs)})\n",
        "#     if(classes[i] == 1):\n",
        "#         neu_words.append({'word':v2w(vecs)})\n",
        "#     if(classes[i] == 2):\n",
        "#         pos_words.append({'word':v2w(vecs)})\n",
        "\n",
        "# neg_words = pd.DataFrame(neg_words)\n",
        "# neu_words = pd.DataFrame(neu_words)\n",
        "# pos_words = pd.DataFrame(pos_words)\n",
        "\n",
        "# print(neg_words['word'].value_counts())\n",
        "# print(neu_words['word'].value_counts())\n",
        "# print(pos_words['word'].value_counts())"
      ],
      "execution_count": 0,
      "outputs": []
    },
    {
      "cell_type": "code",
      "metadata": {
        "id": "d6Y6W5EHgAJX",
        "colab_type": "code",
        "outputId": "16192a6c-9d15-48be-ec7f-e234213c4b5c",
        "colab": {
          "base_uri": "https://localhost:8080/",
          "height": 1000
        }
      },
      "source": [
        "xTrain,xVal,yTrain,yVal = getData(normalize=True,k=5000,embed='elmo',classes=2)"
      ],
      "execution_count": 0,
      "outputs": [
        {
          "output_type": "stream",
          "text": [
            "rating\n",
            "1     21619\n",
            "2      6931\n",
            "3      6513\n",
            "4      5012\n",
            "5      8013\n",
            "6      6343\n",
            "7      9456\n",
            "8     18890\n",
            "9     27531\n",
            "10    50989\n",
            "dtype: int64\n"
          ],
          "name": "stdout"
        },
        {
          "output_type": "stream",
          "text": [
            "/usr/local/lib/python3.6/dist-packages/ipykernel_launcher.py:20: SettingWithCopyWarning: \n",
            "A value is trying to be set on a copy of a slice from a DataFrame\n",
            "\n",
            "See the caveats in the documentation: http://pandas.pydata.org/pandas-docs/stable/user_guide/indexing.html#returning-a-view-versus-a-copy\n"
          ],
          "name": "stderr"
        },
        {
          "output_type": "stream",
          "text": [
            "rating\n",
            "1      7299\n",
            "2      2334\n",
            "3      2205\n",
            "4      1659\n",
            "5      2710\n",
            "6      2119\n",
            "7      3091\n",
            "8      6156\n",
            "9      9177\n",
            "10    17016\n",
            "dtype: int64\n",
            "label\n",
            "0     48088\n",
            "1    113209\n",
            "dtype: int64\n",
            "label\n",
            "0    16207\n",
            "1    37559\n",
            "dtype: int64\n",
            "\n",
            "\n",
            ":: Lookup of 5000 ELMo representations. This takes a while ::\n",
            "100%[==================================================] 5000/5000 sentences\n",
            "\n",
            ":: Lookup of 1000 ELMo representations. This takes a while ::\n",
            "100%[==================================================] 1000/1000 sentenceslabel\n",
            "0    2538\n",
            "1    2462\n",
            "dtype: int64\n",
            "label\n",
            "0    527\n",
            "1    473\n",
            "dtype: int64\n",
            "(5000, 100, 1024) (1000, 100, 1024)\n",
            "(?, 100, 128)\n",
            "(?, 64)\n",
            "(?, 64)\n",
            "(?, 1, 128)\n",
            "(?, 1, 100)\n"
          ],
          "name": "stdout"
        }
      ]
    },
    {
      "cell_type": "code",
      "metadata": {
        "id": "Ah4bYPs0hHN2",
        "colab_type": "code",
        "outputId": "37d73f84-833f-4fea-c9c6-38a4f78186c8",
        "colab": {
          "base_uri": "https://localhost:8080/",
          "height": 104
        }
      },
      "source": [
        "full_model,attention_model = seq2seq(embed='elmo',classes=2)"
      ],
      "execution_count": 0,
      "outputs": [
        {
          "output_type": "stream",
          "text": [
            "(?, 100, 128)\n",
            "(?, 64)\n",
            "(?, 64)\n",
            "(?, 1, 128)\n",
            "(?, 1, 100)\n"
          ],
          "name": "stdout"
        }
      ]
    },
    {
      "cell_type": "code",
      "metadata": {
        "id": "D3NzGtaegFC8",
        "colab_type": "code",
        "outputId": "114f279a-3226-470c-870d-863b3b5f9546",
        "colab": {
          "base_uri": "https://localhost:8080/",
          "height": 555
        }
      },
      "source": [
        "training = full_model.fit(x=xTrain, y = yTrain, epochs=15, batch_size=128,validation_split=0.1)"
      ],
      "execution_count": 0,
      "outputs": [
        {
          "output_type": "stream",
          "text": [
            "Train on 4500 samples, validate on 500 samples\n",
            "Epoch 1/15\n",
            "4500/4500 [==============================] - 14s 3ms/sample - loss: 0.6650 - acc: 0.5913 - val_loss: 0.5873 - val_acc: 0.6840\n",
            "Epoch 2/15\n",
            "4500/4500 [==============================] - 12s 3ms/sample - loss: 0.5402 - acc: 0.7316 - val_loss: 0.5973 - val_acc: 0.6800\n",
            "Epoch 3/15\n",
            "4500/4500 [==============================] - 12s 3ms/sample - loss: 0.4628 - acc: 0.7791 - val_loss: 0.4963 - val_acc: 0.7480\n",
            "Epoch 4/15\n",
            "4500/4500 [==============================] - 12s 3ms/sample - loss: 0.3618 - acc: 0.8376 - val_loss: 0.5183 - val_acc: 0.7480\n",
            "Epoch 5/15\n",
            "4500/4500 [==============================] - 12s 3ms/sample - loss: 0.2553 - acc: 0.8996 - val_loss: 0.5492 - val_acc: 0.7580\n",
            "Epoch 6/15\n",
            "4500/4500 [==============================] - 12s 3ms/sample - loss: 0.1552 - acc: 0.9424 - val_loss: 0.7053 - val_acc: 0.7480\n",
            "Epoch 7/15\n",
            "4500/4500 [==============================] - 12s 3ms/sample - loss: 0.0748 - acc: 0.9789 - val_loss: 0.8649 - val_acc: 0.7440\n",
            "Epoch 8/15\n",
            "4500/4500 [==============================] - 13s 3ms/sample - loss: 0.0462 - acc: 0.9878 - val_loss: 0.9546 - val_acc: 0.7460\n",
            "Epoch 9/15\n",
            "4500/4500 [==============================] - 12s 3ms/sample - loss: 0.0627 - acc: 0.9791 - val_loss: 0.9036 - val_acc: 0.7460\n",
            "Epoch 10/15\n",
            "4500/4500 [==============================] - 12s 3ms/sample - loss: 0.0399 - acc: 0.9889 - val_loss: 0.9439 - val_acc: 0.7260\n",
            "Epoch 11/15\n",
            "4500/4500 [==============================] - 12s 3ms/sample - loss: 0.0197 - acc: 0.9964 - val_loss: 1.2325 - val_acc: 0.7480\n",
            "Epoch 12/15\n",
            "4500/4500 [==============================] - 12s 3ms/sample - loss: 0.0329 - acc: 0.9896 - val_loss: 1.1956 - val_acc: 0.7440\n",
            "Epoch 13/15\n",
            "4500/4500 [==============================] - 12s 3ms/sample - loss: 0.0459 - acc: 0.9847 - val_loss: 1.2896 - val_acc: 0.7400\n",
            "Epoch 14/15\n",
            "4500/4500 [==============================] - 13s 3ms/sample - loss: 0.0263 - acc: 0.9924 - val_loss: 1.2073 - val_acc: 0.7260\n",
            "Epoch 15/15\n",
            "4500/4500 [==============================] - 12s 3ms/sample - loss: 0.0147 - acc: 0.9973 - val_loss: 1.2594 - val_acc: 0.7520\n"
          ],
          "name": "stdout"
        }
      ]
    },
    {
      "cell_type": "code",
      "metadata": {
        "id": "xZ3ckVoqhBGO",
        "colab_type": "code",
        "outputId": "f8882262-1a8f-4518-d04d-453331e253d4",
        "colab": {
          "base_uri": "https://localhost:8080/",
          "height": 173
        }
      },
      "source": [
        "from sklearn.metrics import classification_report\n",
        "import numpy as np\n",
        "\n",
        "Y_test = np.argmax(yVal, axis=2).reshape((-1)) # Convert one-hot to index\n",
        "y_pred = full_model.predict(xVal)\n",
        "y_pred = y_pred.argmax(axis=2).reshape((-1))\n",
        "print(classification_report(Y_test, y_pred))"
      ],
      "execution_count": 0,
      "outputs": [
        {
          "output_type": "stream",
          "text": [
            "              precision    recall  f1-score   support\n",
            "\n",
            "           0       0.78      0.77      0.78       527\n",
            "           1       0.75      0.76      0.75       473\n",
            "\n",
            "    accuracy                           0.77      1000\n",
            "   macro avg       0.77      0.77      0.77      1000\n",
            "weighted avg       0.77      0.77      0.77      1000\n",
            "\n"
          ],
          "name": "stdout"
        }
      ]
    },
    {
      "cell_type": "code",
      "metadata": {
        "id": "TGJx4GBihMmI",
        "colab_type": "code",
        "outputId": "8e0eb749-b031-47b7-ecfa-44ce15902f1d",
        "colab": {
          "base_uri": "https://localhost:8080/",
          "height": 337
        }
      },
      "source": [
        "from sklearn import metrics\n",
        "cm=metrics.confusion_matrix(Y_test,y_pred)\n",
        "\n",
        "import seaborn as sn\n",
        "import pandas as pd\n",
        "import matplotlib.pyplot as plt\n",
        "\n",
        "df_cm = pd.DataFrame(cm, index = ['negative','positive'],\n",
        "                  columns = ['negative','postive'])\n",
        "plt.figure(figsize = (5,5))\n",
        "\n",
        "ax = sn.heatmap(df_cm, annot=True)\n",
        "\n",
        "bottom, top = ax.get_ylim()\n",
        "ax.set_ylim(bottom + 0.5, top - 0.5)"
      ],
      "execution_count": 0,
      "outputs": [
        {
          "output_type": "execute_result",
          "data": {
            "text/plain": [
              "(2.0, 0.0)"
            ]
          },
          "metadata": {
            "tags": []
          },
          "execution_count": 51
        },
        {
          "output_type": "display_data",
          "data": {
            "image/png": "[encoded data removed]",
            "text/plain": [
              "<Figure size 360x360 with 2 Axes>"
            ]
          },
          "metadata": {
            "tags": []
          }
        }
      ]
    },
    {
      "cell_type": "code",
      "metadata": {
        "id": "v6abhK91hPpg",
        "colab_type": "code",
        "colab": {}
      },
      "source": [
        "t"
      ],
      "execution_count": 0,
      "outputs": []
    },
    {
      "cell_type": "markdown",
      "metadata": {
        "id": "ktscwE43nzD0",
        "colab_type": "text"
      },
      "source": [
        "#Training"
      ]
    },
    {
      "cell_type": "markdown",
      "metadata": {
        "id": "DHpt6Oa5w-BJ",
        "colab_type": "text"
      },
      "source": [
        "##General"
      ]
    },
    {
      "cell_type": "code",
      "metadata": {
        "id": "TUEXL75Hn0lH",
        "colab_type": "code",
        "colab": {}
      },
      "source": [
        "xTrain,xVal,yTrain,yVal = getData(k=5000)\n",
        "full_model,attention_model = seq2seq()"
      ],
      "execution_count": 0,
      "outputs": []
    },
    {
      "cell_type": "code",
      "metadata": {
        "id": "VUfui_E1yhYh",
        "colab_type": "code",
        "outputId": "2ae99aea-7364-45a3-a902-b72196ca7197",
        "colab": {
          "base_uri": "https://localhost:8080/",
          "height": 454
        }
      },
      "source": [
        "training=full_model.fit(x=xTrain, y=yTrain,\n",
        "  epochs=10,\n",
        "  validation_split=0.1,\n",
        "  shuffle=True\n",
        ")"
      ],
      "execution_count": 0,
      "outputs": [
        {
          "output_type": "stream",
          "text": [
            "WARNING:tensorflow:From /usr/local/lib/python3.6/dist-packages/tensorflow_core/python/ops/math_grad.py:1424: where (from tensorflow.python.ops.array_ops) is deprecated and will be removed in a future version.\n",
            "Instructions for updating:\n",
            "Use tf.where in 2.0, which has the same broadcast rule as np.where\n",
            "Train on 9000 samples, validate on 1000 samples\n",
            "Epoch 1/10\n",
            "9000/9000 [==============================] - 88s 10ms/sample - loss: 0.7957 - acc: 0.6771 - val_loss: 0.7836 - val_acc: 0.6900\n",
            "Epoch 2/10\n",
            "9000/9000 [==============================] - 85s 9ms/sample - loss: 0.7208 - acc: 0.7059 - val_loss: 0.7310 - val_acc: 0.7060\n",
            "Epoch 3/10\n",
            "9000/9000 [==============================] - 84s 9ms/sample - loss: 0.6834 - acc: 0.7306 - val_loss: 0.7074 - val_acc: 0.7050\n",
            "Epoch 4/10\n",
            "9000/9000 [==============================] - 84s 9ms/sample - loss: 0.6461 - acc: 0.7482 - val_loss: 0.6953 - val_acc: 0.7150\n",
            "Epoch 5/10\n",
            "9000/9000 [==============================] - 86s 10ms/sample - loss: 0.6170 - acc: 0.7588 - val_loss: 0.6935 - val_acc: 0.7170\n",
            "Epoch 6/10\n",
            "9000/9000 [==============================] - 85s 9ms/sample - loss: 0.5759 - acc: 0.7758 - val_loss: 0.7063 - val_acc: 0.7190\n",
            "Epoch 7/10\n",
            "9000/9000 [==============================] - 85s 9ms/sample - loss: 0.5418 - acc: 0.7882 - val_loss: 0.6867 - val_acc: 0.7280\n",
            "Epoch 8/10\n",
            "9000/9000 [==============================] - 85s 9ms/sample - loss: 0.4955 - acc: 0.8076 - val_loss: 0.7197 - val_acc: 0.7160\n",
            "Epoch 9/10\n",
            "9000/9000 [==============================] - 86s 10ms/sample - loss: 0.4390 - acc: 0.8322 - val_loss: 0.7815 - val_acc: 0.7120\n",
            "Epoch 10/10\n",
            "9000/9000 [==============================] - 85s 9ms/sample - loss: 0.3926 - acc: 0.8519 - val_loss: 0.8017 - val_acc: 0.7150\n"
          ],
          "name": "stdout"
        }
      ]
    },
    {
      "cell_type": "code",
      "metadata": {
        "id": "6pfSyGEH2pAN",
        "colab_type": "code",
        "outputId": "37874ab0-bbd4-4027-d697-2dcd6ee5d706",
        "colab": {
          "base_uri": "https://localhost:8080/",
          "height": 34
        }
      },
      "source": [
        "type(training)"
      ],
      "execution_count": 0,
      "outputs": [
        {
          "output_type": "execute_result",
          "data": {
            "text/plain": [
              "tensorflow.python.keras.callbacks.History"
            ]
          },
          "metadata": {
            "tags": []
          },
          "execution_count": 22
        }
      ]
    },
    {
      "cell_type": "code",
      "metadata": {
        "id": "nzjS1ngDPaIe",
        "colab_type": "code",
        "outputId": "212726eb-bfbe-4f6f-e15c-453d8d62189d",
        "colab": {
          "base_uri": "https://localhost:8080/",
          "height": 52
        }
      },
      "source": [
        "full_model.evaluate(xVal,\n",
        "  y=yVal)"
      ],
      "execution_count": 0,
      "outputs": [
        {
          "output_type": "stream",
          "text": [
            "10000/10000 [==============================] - 21s 2ms/sample - loss: 0.8051 - acc: 0.7235\n"
          ],
          "name": "stdout"
        },
        {
          "output_type": "execute_result",
          "data": {
            "text/plain": [
              "[0.805129394197464, 0.7235]"
            ]
          },
          "metadata": {
            "tags": []
          },
          "execution_count": 23
        }
      ]
    },
    {
      "cell_type": "code",
      "metadata": {
        "id": "2Jnd7P4aujAL",
        "colab_type": "code",
        "colab": {}
      },
      "source": [
        "y_pred = attention_model.predict(xVal)\n",
        "y_pred_class = full_model.predict(xVal)"
      ],
      "execution_count": 0,
      "outputs": []
    },
    {
      "cell_type": "code",
      "metadata": {
        "id": "Sew9ome5wMpy",
        "colab_type": "code",
        "colab": {}
      },
      "source": [
        "req = np.argmax(y_pred,axis = 2).reshape((-1))"
      ],
      "execution_count": 0,
      "outputs": []
    },
    {
      "cell_type": "code",
      "metadata": {
        "id": "zUIKU8_986qy",
        "colab_type": "code",
        "colab": {}
      },
      "source": [
        "classes = np.argmax(y_pred_class,axis=2).reshape(-1)"
      ],
      "execution_count": 0,
      "outputs": []
    },
    {
      "cell_type": "code",
      "metadata": {
        "id": "JJh6ViUeK10c",
        "colab_type": "code",
        "colab": {}
      },
      "source": [
        "imp_vecs = xVal"
      ],
      "execution_count": 0,
      "outputs": []
    },
    {
      "cell_type": "code",
      "metadata": {
        "id": "KLxBTarVK1rq",
        "colab_type": "code",
        "colab": {}
      },
      "source": [
        "def v2w(vec):\n",
        "    if((vec==avg_vec).all()):\n",
        "        return 'UNK'\n",
        "    if(np.prod(vec) == 0):\n",
        "        return 'None'\n",
        "    for k in w2v_dict:\n",
        "        if((w2v_dict[k]==vec).all()):\n",
        "            return k\n",
        "    return 'OOV'"
      ],
      "execution_count": 0,
      "outputs": []
    },
    {
      "cell_type": "code",
      "metadata": {
        "id": "ADResJqCK1oh",
        "colab_type": "code",
        "colab": {}
      },
      "source": [
        "pos_words = []\n",
        "neg_words = []\n",
        "neu_words = []\n",
        "for i,vecs in enumerate(imp_vecs):\n",
        "    if(classes[i] == 0):\n",
        "        neg_words.append({'word':v2w(vecs)})\n",
        "    if(classes[i] == 1):\n",
        "        neu_words.append({'word':v2w(vecs)})\n",
        "    if(classes[i] == 2):\n",
        "        pos_words.append({'word':v2w(vecs)})"
      ],
      "execution_count": 0,
      "outputs": []
    },
    {
      "cell_type": "code",
      "metadata": {
        "id": "1_MFDc43K1lN",
        "colab_type": "code",
        "colab": {}
      },
      "source": [
        "neg_words = pd.DataFrame(neg_words)\n",
        "neu_words = pd.DataFrame(neu_words)\n",
        "pos_words = pd.DataFrame(pos_words)"
      ],
      "execution_count": 0,
      "outputs": []
    },
    {
      "cell_type": "code",
      "metadata": {
        "id": "B2mAy_MBbIWi",
        "colab_type": "code",
        "outputId": "cfec64de-e67b-4fcd-939d-de9803f98b70",
        "colab": {
          "base_uri": "https://localhost:8080/",
          "height": 642
        }
      },
      "source": [
        "print(neg_words['word'].value_counts())\n",
        "print(neu_words['word'].value_counts())\n",
        "print(pos_words['word'].value_counts())"
      ],
      "execution_count": 0,
      "outputs": [
        {
          "output_type": "stream",
          "text": [
            "bleeding       98\n",
            "pain           80\n",
            "i              66\n",
            "my             65\n",
            "feel           61\n",
            "               ..\n",
            "usually         1\n",
            "alternative     1\n",
            "cleanse         1\n",
            "jerk            1\n",
            "clot            1\n",
            "Name: word, Length: 717, dtype: int64\n",
            "feel        12\n",
            "my           9\n",
            "started      8\n",
            "bleeding     6\n",
            "like         6\n",
            "            ..\n",
            "worked       1\n",
            "paxil        1\n",
            "taste        1\n",
            "helps        1\n",
            "pure         1\n",
            "Name: word, Length: 146, dtype: int64\n",
            "love          374\n",
            "life          367\n",
            "my            211\n",
            "works         209\n",
            "great         182\n",
            "             ... \n",
            "continued       1\n",
            "seltzer         1\n",
            "two             1\n",
            "eyed            1\n",
            "obsessions      1\n",
            "Name: word, Length: 1375, dtype: int64\n"
          ],
          "name": "stdout"
        }
      ]
    },
    {
      "cell_type": "code",
      "metadata": {
        "id": "KiT_eXEJE2ii",
        "colab_type": "code",
        "colab": {}
      },
      "source": [
        "y_pred_class = full_model.predict({\n",
        "    'ex':xVal,\n",
        "    'dx':_GO\n",
        "  })\n",
        "\n",
        "y_test = np.argmax(yVal,axis=2)\n",
        "y_pred_class = np.argmax(y_pred_class,axis=2)"
      ],
      "execution_count": 0,
      "outputs": []
    },
    {
      "cell_type": "code",
      "metadata": {
        "id": "8w-57_qTFCSX",
        "colab_type": "code",
        "colab": {}
      },
      "source": [
        "y_test=y_test.reshape((-1))\n",
        "y_pred_class=y_pred_class.reshape((-1))"
      ],
      "execution_count": 0,
      "outputs": []
    },
    {
      "cell_type": "code",
      "metadata": {
        "id": "OiXqRuV-bISz",
        "colab_type": "code",
        "colab": {}
      },
      "source": [
        "from sklearn import metrics\n",
        "\n",
        "cm=metrics.confusion_matrix(y_test[:k],y_pred_class)\n",
        "\n",
        "import seaborn as sn\n",
        "import pandas as pd\n",
        "import matplotlib.pyplot as plt\n",
        "\n",
        "df_cm = pd.DataFrame(cm, index = ['negative','neutral','positive'],\n",
        "                  columns = ['negative','neutral','postive'])\n",
        "plt.figure(figsize = (5,5))\n",
        "\n",
        "ax = sn.heatmap(df_cm, annot=True)\n",
        "\n",
        "bottom, top = ax.get_ylim()\n",
        "ax.set_ylim(bottom + 0.5, top - 0.5)\n"
      ],
      "execution_count": 0,
      "outputs": []
    },
    {
      "cell_type": "code",
      "metadata": {
        "id": "To_eGLQeXVFq",
        "colab_type": "code",
        "colab": {}
      },
      "source": [
        "import tensorflow as tf\n",
        "import keras\n",
        "\n",
        "config = tf.ConfigProto( device_count = {'GPU': 1} ) \n",
        "sess = tf.Session(config=config) \n",
        "keras.backend.set_session(sess)\n",
        "\n",
        "# from tensorflow.python.client import device_lib\n",
        "\n",
        "# print(device_lib.list_local_devices())"
      ],
      "execution_count": 0,
      "outputs": []
    },
    {
      "cell_type": "markdown",
      "metadata": {
        "id": "bT9aU9StJusa",
        "colab_type": "text"
      },
      "source": [
        "##Normalized Data"
      ]
    },
    {
      "cell_type": "code",
      "metadata": {
        "colab_type": "code",
        "id": "inaUdN39KKDF",
        "colab": {}
      },
      "source": [
        "# sequence_length = 100\n",
        "# num_classes = 3"
      ],
      "execution_count": 0,
      "outputs": []
    },
    {
      "cell_type": "code",
      "metadata": {
        "colab_type": "code",
        "id": "NRHvAzyLKKDh",
        "colab": {}
      },
      "source": [
        "# data = df['vectors'].to_numpy() #,np.array(df['r_label'])\n",
        "# data = pad_sequences(df['vectors'], maxlen=sequence_length,dtype='float32')"
      ],
      "execution_count": 0,
      "outputs": []
    },
    {
      "cell_type": "code",
      "metadata": {
        "colab_type": "code",
        "id": "VhY03pMQKKDt",
        "colab": {}
      },
      "source": [
        "# # labels = to_categorical(labels,num_classes=3)\n",
        "# # for l in labels\n",
        "\n",
        "# labels_e = {'_GO':np.array([0,0,0]),'neg':np.array([1,0,0]),'nut':np.array([0,1,0]),'pos':np.array([0,0,1])}\n",
        "# def foo2(x):\n",
        "#   if(x < 5):\n",
        "#     return [1,0,0]\n",
        "#   elif(x<7):\n",
        "#     return [0,1,0]\n",
        "#   return [0,0,1]\n",
        "\n",
        "# labels = df.rating.apply(foo2)\n",
        "# labels = np.array(list(labels))"
      ],
      "execution_count": 0,
      "outputs": []
    },
    {
      "cell_type": "code",
      "metadata": {
        "id": "yB9ndKxyKJ-7",
        "colab_type": "code",
        "colab": {}
      },
      "source": [
        "xTrain,xVal,yTrain,yVal = getData(k=10000)\n",
        "full_model,attention_model = seq2seq()"
      ],
      "execution_count": 0,
      "outputs": []
    },
    {
      "cell_type": "code",
      "metadata": {
        "id": "CqbrJcU0K2EX",
        "colab_type": "code",
        "outputId": "fc73f873-7b36-4d80-a144-712d6b01e908",
        "colab": {
          "base_uri": "https://localhost:8080/",
          "height": 34
        }
      },
      "source": [
        "xVal.shape"
      ],
      "execution_count": 0,
      "outputs": [
        {
          "output_type": "execute_result",
          "data": {
            "text/plain": [
              "(8400, 100, 50)"
            ]
          },
          "metadata": {
            "tags": []
          },
          "execution_count": 112
        }
      ]
    },
    {
      "cell_type": "code",
      "metadata": {
        "id": "P-nA917JKutJ",
        "colab_type": "code",
        "outputId": "835284aa-f09a-4cb7-9f6b-540e7ed61ec4",
        "colab": {
          "base_uri": "https://localhost:8080/",
          "height": 382
        }
      },
      "source": [
        "training=full_model.fit(x=xTrain,\n",
        "  y=yTrain,\n",
        "  epochs=10,\n",
        "  validation_split=0.1,\n",
        "  shuffle=True\n",
        ")"
      ],
      "execution_count": 0,
      "outputs": [
        {
          "output_type": "stream",
          "text": [
            "Train on 9000 samples, validate on 1000 samples\n",
            "Epoch 1/10\n",
            "9000/9000 [==============================] - 85s 9ms/sample - loss: 0.9115 - acc: 0.6133 - val_loss: 0.8558 - val_acc: 0.6010\n",
            "Epoch 2/10\n",
            "9000/9000 [==============================] - 85s 9ms/sample - loss: 0.7337 - acc: 0.6841 - val_loss: 0.8703 - val_acc: 0.6100\n",
            "Epoch 3/10\n",
            "9000/9000 [==============================] - 85s 9ms/sample - loss: 0.6469 - acc: 0.7301 - val_loss: 0.9072 - val_acc: 0.6150\n",
            "Epoch 4/10\n",
            "9000/9000 [==============================] - 86s 10ms/sample - loss: 0.5682 - acc: 0.7684 - val_loss: 0.9604 - val_acc: 0.5880\n",
            "Epoch 5/10\n",
            "9000/9000 [==============================] - 85s 9ms/sample - loss: 0.4907 - acc: 0.8013 - val_loss: 1.0351 - val_acc: 0.6010\n",
            "Epoch 6/10\n",
            "9000/9000 [==============================] - 85s 9ms/sample - loss: 0.4119 - acc: 0.8460 - val_loss: 1.1464 - val_acc: 0.5870\n",
            "Epoch 7/10\n",
            "9000/9000 [==============================] - 85s 9ms/sample - loss: 0.3400 - acc: 0.8764 - val_loss: 1.2578 - val_acc: 0.5850\n",
            "Epoch 8/10\n",
            "9000/9000 [==============================] - 86s 10ms/sample - loss: 0.2736 - acc: 0.9063 - val_loss: 1.3801 - val_acc: 0.5890\n",
            "Epoch 9/10\n",
            "9000/9000 [==============================] - 85s 9ms/sample - loss: 0.2252 - acc: 0.9247 - val_loss: 1.4690 - val_acc: 0.5830\n",
            "Epoch 10/10\n",
            "9000/9000 [==============================] - 85s 9ms/sample - loss: 0.1686 - acc: 0.9483 - val_loss: 1.6313 - val_acc: 0.5830\n"
          ],
          "name": "stdout"
        }
      ]
    },
    {
      "cell_type": "code",
      "metadata": {
        "colab_type": "code",
        "outputId": "1dffd77a-c79b-4f0b-bb1c-94a2e374adba",
        "id": "_wvedApuLGXc",
        "colab": {
          "base_uri": "https://localhost:8080/",
          "height": 52
        }
      },
      "source": [
        "full_model.evaluate(xVal,\n",
        "  y=yVal)"
      ],
      "execution_count": 0,
      "outputs": [
        {
          "output_type": "stream",
          "text": [
            "5000/5000 [==============================] - 10s 2ms/sample - loss: 1.2979 - acc: 0.5596\n"
          ],
          "name": "stdout"
        },
        {
          "output_type": "execute_result",
          "data": {
            "text/plain": [
              "[1.29794847946167, 0.5596]"
            ]
          },
          "metadata": {
            "tags": []
          },
          "execution_count": 93
        }
      ]
    },
    {
      "cell_type": "code",
      "metadata": {
        "colab_type": "code",
        "id": "i64hvTo1LGX7",
        "colab": {}
      },
      "source": [
        "y_pred = attention_model.predict(xVal)\n",
        "y_pred_class = full_model.predict(xVal)"
      ],
      "execution_count": 0,
      "outputs": []
    },
    {
      "cell_type": "code",
      "metadata": {
        "colab_type": "code",
        "id": "hJKiBcueLGYH",
        "colab": {}
      },
      "source": [
        "req = np.argmax(y_pred,axis = 2).reshape((-1))"
      ],
      "execution_count": 0,
      "outputs": []
    },
    {
      "cell_type": "code",
      "metadata": {
        "colab_type": "code",
        "id": "xhfmTreFLGYQ",
        "colab": {}
      },
      "source": [
        "classes = np.argmax(y_pred_class,axis=2).reshape(-1)"
      ],
      "execution_count": 0,
      "outputs": []
    },
    {
      "cell_type": "code",
      "metadata": {
        "colab_type": "code",
        "id": "P5_7EvJELGYZ",
        "colab": {}
      },
      "source": [
        "imp_vecs = xVal"
      ],
      "execution_count": 0,
      "outputs": []
    },
    {
      "cell_type": "code",
      "metadata": {
        "colab_type": "code",
        "id": "1U3ZC0idLGYi",
        "colab": {}
      },
      "source": [
        "def v2w(vec):\n",
        "    if((vec==avg_vec).all()):\n",
        "        return 'UNK'\n",
        "    if(np.prod(vec) == 0):\n",
        "        return 'None'\n",
        "    for k in w2v_dict:\n",
        "        if((w2v_dict[k]==vec).all()):\n",
        "            return k\n",
        "    return 'OOV'"
      ],
      "execution_count": 0,
      "outputs": []
    },
    {
      "cell_type": "code",
      "metadata": {
        "colab_type": "code",
        "id": "hBcd-_tyLGYp",
        "colab": {}
      },
      "source": [
        "pos_words = []\n",
        "neg_words = []\n",
        "neu_words = []\n",
        "for i,vecs in enumerate(imp_vecs):\n",
        "    if(classes[i] == 0):\n",
        "        neg_words.append({'word':v2w(vecs)})\n",
        "    if(classes[i] == 1):\n",
        "        neu_words.append({'word':v2w(vecs)})\n",
        "    if(classes[i] == 2):\n",
        "        pos_words.append({'word':v2w(vecs)})"
      ],
      "execution_count": 0,
      "outputs": []
    },
    {
      "cell_type": "code",
      "metadata": {
        "colab_type": "code",
        "id": "T5XGsV7ILGYv",
        "colab": {}
      },
      "source": [
        "neg_words = pd.DataFrame(neg_words)\n",
        "neu_words = pd.DataFrame(neu_words)\n",
        "pos_words = pd.DataFrame(pos_words)"
      ],
      "execution_count": 0,
      "outputs": []
    },
    {
      "cell_type": "code",
      "metadata": {
        "colab_type": "code",
        "outputId": "66f53d8e-fd1f-4ebd-9b5a-2ed630baa2bc",
        "id": "xTXcXismLGY2",
        "colab": {
          "base_uri": "https://localhost:8080/",
          "height": 642
        }
      },
      "source": [
        "print(neg_words['word'].value_counts())\n",
        "print(neu_words['word'].value_counts())\n",
        "print(pos_words['word'].value_counts())"
      ],
      "execution_count": 0,
      "outputs": [
        {
          "output_type": "stream",
          "text": [
            "i               63\n",
            "bad             56\n",
            "life            55\n",
            "horrible        47\n",
            "my              35\n",
            "                ..\n",
            "knees            1\n",
            "gut              1\n",
            "dramatically     1\n",
            "medicated        1\n",
            "true             1\n",
            "Name: word, Length: 504, dtype: int64\n",
            "i          88\n",
            "eat        39\n",
            "started    34\n",
            "UNK        34\n",
            "bad        34\n",
            "           ..\n",
            "falling     1\n",
            "just        1\n",
            "dove        1\n",
            "rough       1\n",
            "sweaty      1\n",
            "Name: word, Length: 537, dtype: int64\n",
            "life          145\n",
            "love           89\n",
            "years          87\n",
            "great          69\n",
            "i              36\n",
            "             ... \n",
            "uplifting       1\n",
            "bile            1\n",
            "particular      1\n",
            "weight          1\n",
            "hope            1\n",
            "Name: word, Length: 439, dtype: int64\n"
          ],
          "name": "stdout"
        }
      ]
    },
    {
      "cell_type": "code",
      "metadata": {
        "colab_type": "code",
        "id": "bhJ_HBoLLGY-",
        "colab": {}
      },
      "source": [
        "y_pred_class = full_model.predict(xVal)\n",
        "\n",
        "y_pred_class = np.argmax(y_pred_class,axis=2)\n",
        "y_pred_class=y_pred_class.reshape((-1))"
      ],
      "execution_count": 0,
      "outputs": []
    },
    {
      "cell_type": "code",
      "metadata": {
        "colab_type": "code",
        "id": "Cp_MK2vWLGZE",
        "colab": {}
      },
      "source": [
        "y_test = np.argmax(yVal,axis=2)\n",
        "y_test=y_test.reshape((-1))"
      ],
      "execution_count": 0,
      "outputs": []
    },
    {
      "cell_type": "code",
      "metadata": {
        "colab_type": "code",
        "outputId": "7023d75a-bfd2-46fa-f5b2-6a94db9705e9",
        "id": "UMA2TR_4LGZM",
        "colab": {
          "base_uri": "https://localhost:8080/",
          "height": 337
        }
      },
      "source": [
        "from sklearn import metrics\n",
        "\n",
        "cm=metrics.confusion_matrix(y_test[:k],y_pred_class)\n",
        "\n",
        "import seaborn as sn\n",
        "import pandas as pd\n",
        "import matplotlib.pyplot as plt\n",
        "\n",
        "df_cm = pd.DataFrame(cm, index = ['negative','neutral','positive'],\n",
        "                  columns = ['negative','neutral','postive'])\n",
        "plt.figure(figsize = (5,5))\n",
        "\n",
        "ax = sn.heatmap(df_cm, annot=True)\n",
        "\n",
        "bottom, top = ax.get_ylim()\n",
        "ax.set_ylim(bottom + 0.5, top - 0.5)\n"
      ],
      "execution_count": 0,
      "outputs": [
        {
          "output_type": "execute_result",
          "data": {
            "text/plain": [
              "(3.0, 0.0)"
            ]
          },
          "metadata": {
            "tags": []
          },
          "execution_count": 110
        },
        {
          "output_type": "display_data",
          "data": {
            "image/png": "[encoded data removed]",
            "text/plain": [
              "<Figure size 360x360 with 2 Axes>"
            ]
          },
          "metadata": {
            "tags": []
          }
        }
      ]
    },
    {
      "cell_type": "markdown",
      "metadata": {
        "id": "raVipwd0ljBO",
        "colab_type": "text"
      },
      "source": [
        "## Binary Classification"
      ]
    },
    {
      "cell_type": "code",
      "metadata": {
        "id": "Y8XpvJjPllT_",
        "colab_type": "code",
        "outputId": "99ee5eb3-101e-4b96-f2d5-8faddc4daaed",
        "colab": {
          "base_uri": "https://localhost:8080/",
          "height": 191
        }
      },
      "source": [
        "xTrain,xVal,yTrain,yVal,_GO,_GO_test = getData(classes=2,k=1000)\n",
        "full_model,attention_model = seq2seq(classes=2)"
      ],
      "execution_count": 0,
      "outputs": [
        {
          "output_type": "stream",
          "text": [
            "/usr/local/lib/python3.6/dist-packages/ipykernel_launcher.py:17: SettingWithCopyWarning: \n",
            "A value is trying to be set on a copy of a slice from a DataFrame\n",
            "\n",
            "See the caveats in the documentation: http://pandas.pydata.org/pandas-docs/stable/user_guide/indexing.html#returning-a-view-versus-a-copy\n"
          ],
          "name": "stderr"
        },
        {
          "output_type": "stream",
          "text": [
            "(1000, 100, 50) (53766, 100, 50)\n",
            "(?, 100, 128)\n",
            "(?, 64)\n",
            "(?, 64)\n",
            "(?, 1, 128)\n",
            "(?, 1, 100)\n"
          ],
          "name": "stdout"
        }
      ]
    },
    {
      "cell_type": "code",
      "metadata": {
        "colab_type": "code",
        "outputId": "1c826fd2-6f45-4c45-ac9e-15d0476ed576",
        "id": "ba7TMc7WxvF8",
        "colab": {
          "base_uri": "https://localhost:8080/",
          "height": 382
        }
      },
      "source": [
        "training=full_model.fit(x={\n",
        "    'ex':xTrain,\n",
        "    'dx':_GO\n",
        "  },\n",
        "  y=yTrain,\n",
        "  epochs=10,\n",
        "  validation_split=0.1,\n",
        "  shuffle=True\n",
        ")"
      ],
      "execution_count": 0,
      "outputs": [
        {
          "output_type": "stream",
          "text": [
            "Train on 900 samples, validate on 100 samples\n",
            "Epoch 1/10\n",
            "900/900 [==============================] - 11s 12ms/sample - loss: 0.6122 - acc: 0.6878 - val_loss: 0.5769 - val_acc: 0.7500\n",
            "Epoch 2/10\n",
            "900/900 [==============================] - 9s 10ms/sample - loss: 0.5922 - acc: 0.6878 - val_loss: 0.5130 - val_acc: 0.7600\n",
            "Epoch 3/10\n",
            "900/900 [==============================] - 10s 11ms/sample - loss: 0.5759 - acc: 0.7011 - val_loss: 0.4897 - val_acc: 0.7500\n",
            "Epoch 4/10\n",
            "900/900 [==============================] - 9s 10ms/sample - loss: 0.5532 - acc: 0.7267 - val_loss: 0.5027 - val_acc: 0.7800\n",
            "Epoch 5/10\n",
            "900/900 [==============================] - 9s 10ms/sample - loss: 0.5262 - acc: 0.7356 - val_loss: 0.4738 - val_acc: 0.7600\n",
            "Epoch 6/10\n",
            "900/900 [==============================] - 9s 10ms/sample - loss: 0.5122 - acc: 0.7544 - val_loss: 0.4425 - val_acc: 0.7800\n",
            "Epoch 7/10\n",
            "900/900 [==============================] - 9s 10ms/sample - loss: 0.4787 - acc: 0.7700 - val_loss: 0.4271 - val_acc: 0.7600\n",
            "Epoch 8/10\n",
            "900/900 [==============================] - 9s 10ms/sample - loss: 0.4558 - acc: 0.7867 - val_loss: 0.4364 - val_acc: 0.7500\n",
            "Epoch 9/10\n",
            "900/900 [==============================] - 9s 10ms/sample - loss: 0.4182 - acc: 0.8089 - val_loss: 0.4622 - val_acc: 0.7500\n",
            "Epoch 10/10\n",
            "900/900 [==============================] - 9s 10ms/sample - loss: 0.3986 - acc: 0.8167 - val_loss: 0.4359 - val_acc: 0.7800\n"
          ],
          "name": "stdout"
        }
      ]
    },
    {
      "cell_type": "code",
      "metadata": {
        "colab_type": "code",
        "outputId": "93201609-4a4e-4b20-9c2b-4e2e33bb8d9c",
        "id": "1MenI49-xvGc",
        "colab": {
          "base_uri": "https://localhost:8080/",
          "height": 52
        }
      },
      "source": [
        "full_model.evaluate({\n",
        "    'ex':xVal,\n",
        "    'dx':_GO_test\n",
        "  },\n",
        "  y=yVal)"
      ],
      "execution_count": 0,
      "outputs": [
        {
          "output_type": "stream",
          "text": [
            "53766/53766 [==============================] - 121s 2ms/sample - loss: 0.6211 - acc: 0.7204\n"
          ],
          "name": "stdout"
        },
        {
          "output_type": "execute_result",
          "data": {
            "text/plain": [
              "[0.6211253218944507, 0.7204367]"
            ]
          },
          "metadata": {
            "tags": []
          },
          "execution_count": 197
        }
      ]
    },
    {
      "cell_type": "code",
      "metadata": {
        "colab_type": "code",
        "id": "E7NdThdLxvGm",
        "colab": {}
      },
      "source": [
        "y_pred = attention_model.predict({\n",
        "    'ex':xVal,\n",
        "    'dx':_GO_test\n",
        "  })\n",
        "y_pred_class = full_model.predict({\n",
        "    'ex':xVal,\n",
        "    'dx':_GO_test\n",
        "  })"
      ],
      "execution_count": 0,
      "outputs": []
    },
    {
      "cell_type": "code",
      "metadata": {
        "colab_type": "code",
        "id": "oOSbi8ewxvGv",
        "colab": {}
      },
      "source": [
        "req = np.argmax(y_pred,axis = 2).reshape((-1))"
      ],
      "execution_count": 0,
      "outputs": []
    },
    {
      "cell_type": "code",
      "metadata": {
        "colab_type": "code",
        "id": "TutG_2PnxvG2",
        "colab": {}
      },
      "source": [
        "classes = np.argmax(y_pred_class,axis=2).reshape(-1)"
      ],
      "execution_count": 0,
      "outputs": []
    },
    {
      "cell_type": "code",
      "metadata": {
        "colab_type": "code",
        "id": "gOamS0eOxvG-",
        "colab": {}
      },
      "source": [
        "imp_vecs = xVal"
      ],
      "execution_count": 0,
      "outputs": []
    },
    {
      "cell_type": "code",
      "metadata": {
        "colab_type": "code",
        "id": "Df2ggHPOxvHE",
        "colab": {}
      },
      "source": [
        "def v2w(vec):\n",
        "    if((vec==avg_vec).all()):\n",
        "        return 'UNK'\n",
        "    if(vec.sum() == 0):\n",
        "        return 'None'\n",
        "    for k in w2v_dict:\n",
        "        if((w2v_dict[k]==vec).all()):\n",
        "            return k\n",
        "    return 'OOV'"
      ],
      "execution_count": 0,
      "outputs": []
    },
    {
      "cell_type": "code",
      "metadata": {
        "colab_type": "code",
        "id": "Ge1ZQiksxvHK",
        "outputId": "37ee2839-97ae-4111-9743-aa2943b420d2",
        "colab": {
          "base_uri": "https://localhost:8080/",
          "height": 323
        }
      },
      "source": [
        "pos_words = []\n",
        "neg_words = []\n",
        "neu_words = []\n",
        "for i,vecs in enumerate(imp_vecs):\n",
        "    if(classes[i] == 0):\n",
        "        neg_words.append({'word':v2w(vecs)})\n",
        "    if(classes[i] == 1):\n",
        "        pos_words.append({'word':v2w(vecs)})"
      ],
      "execution_count": 0,
      "outputs": [
        {
          "output_type": "error",
          "ename": "KeyboardInterrupt",
          "evalue": "ignored",
          "traceback": [
            "\u001b[0;31m---------------------------------------------------------------------------\u001b[0m",
            "\u001b[0;31mKeyboardInterrupt\u001b[0m                         Traceback (most recent call last)",
            "\u001b[0;32m<ipython-input-214-3bde68125324>\u001b[0m in \u001b[0;36m<module>\u001b[0;34m()\u001b[0m\n\u001b[1;32m      6\u001b[0m         \u001b[0mneg_words\u001b[0m\u001b[0;34m.\u001b[0m\u001b[0mappend\u001b[0m\u001b[0;34m(\u001b[0m\u001b[0;34m{\u001b[0m\u001b[0;34m'word'\u001b[0m\u001b[0;34m:\u001b[0m\u001b[0mv2w\u001b[0m\u001b[0;34m(\u001b[0m\u001b[0mvecs\u001b[0m\u001b[0;34m)\u001b[0m\u001b[0;34m}\u001b[0m\u001b[0;34m)\u001b[0m\u001b[0;34m\u001b[0m\u001b[0;34m\u001b[0m\u001b[0m\n\u001b[1;32m      7\u001b[0m     \u001b[0;32mif\u001b[0m\u001b[0;34m(\u001b[0m\u001b[0mclasses\u001b[0m\u001b[0;34m[\u001b[0m\u001b[0mi\u001b[0m\u001b[0;34m]\u001b[0m \u001b[0;34m==\u001b[0m \u001b[0;36m1\u001b[0m\u001b[0;34m)\u001b[0m\u001b[0;34m:\u001b[0m\u001b[0;34m\u001b[0m\u001b[0;34m\u001b[0m\u001b[0m\n\u001b[0;32m----> 8\u001b[0;31m         \u001b[0mpos_words\u001b[0m\u001b[0;34m.\u001b[0m\u001b[0mappend\u001b[0m\u001b[0;34m(\u001b[0m\u001b[0;34m{\u001b[0m\u001b[0;34m'word'\u001b[0m\u001b[0;34m:\u001b[0m\u001b[0mv2w\u001b[0m\u001b[0;34m(\u001b[0m\u001b[0mvecs\u001b[0m\u001b[0;34m)\u001b[0m\u001b[0;34m}\u001b[0m\u001b[0;34m)\u001b[0m\u001b[0;34m\u001b[0m\u001b[0;34m\u001b[0m\u001b[0m\n\u001b[0m",
            "\u001b[0;32m<ipython-input-212-fdcf6cb320c1>\u001b[0m in \u001b[0;36mv2w\u001b[0;34m(vec)\u001b[0m\n\u001b[1;32m      5\u001b[0m         \u001b[0;32mreturn\u001b[0m \u001b[0;34m'None'\u001b[0m\u001b[0;34m\u001b[0m\u001b[0;34m\u001b[0m\u001b[0m\n\u001b[1;32m      6\u001b[0m     \u001b[0;32mfor\u001b[0m \u001b[0mk\u001b[0m \u001b[0;32min\u001b[0m \u001b[0mw2v_dict\u001b[0m\u001b[0;34m:\u001b[0m\u001b[0;34m\u001b[0m\u001b[0;34m\u001b[0m\u001b[0m\n\u001b[0;32m----> 7\u001b[0;31m         \u001b[0;32mif\u001b[0m\u001b[0;34m(\u001b[0m\u001b[0;34m(\u001b[0m\u001b[0mw2v_dict\u001b[0m\u001b[0;34m[\u001b[0m\u001b[0mk\u001b[0m\u001b[0;34m]\u001b[0m\u001b[0;34m==\u001b[0m\u001b[0mvec\u001b[0m\u001b[0;34m)\u001b[0m\u001b[0;34m.\u001b[0m\u001b[0mall\u001b[0m\u001b[0;34m(\u001b[0m\u001b[0;34m)\u001b[0m\u001b[0;34m)\u001b[0m\u001b[0;34m:\u001b[0m\u001b[0;34m\u001b[0m\u001b[0;34m\u001b[0m\u001b[0m\n\u001b[0m\u001b[1;32m      8\u001b[0m             \u001b[0;32mreturn\u001b[0m \u001b[0mk\u001b[0m\u001b[0;34m\u001b[0m\u001b[0;34m\u001b[0m\u001b[0m\n\u001b[1;32m      9\u001b[0m     \u001b[0;32mreturn\u001b[0m \u001b[0;34m'OOV'\u001b[0m\u001b[0;34m\u001b[0m\u001b[0;34m\u001b[0m\u001b[0m\n",
            "\u001b[0;31mKeyboardInterrupt\u001b[0m: "
          ]
        }
      ]
    },
    {
      "cell_type": "code",
      "metadata": {
        "colab_type": "code",
        "id": "Sc7aKGJ8xvHQ",
        "colab": {}
      },
      "source": [
        "neg_words = pd.DataFrame(neg_words)\n",
        "pos_words = pd.DataFrame(pos_words)"
      ],
      "execution_count": 0,
      "outputs": []
    },
    {
      "cell_type": "code",
      "metadata": {
        "colab_type": "code",
        "id": "c2tDLpyuxvHX",
        "colab": {}
      },
      "source": [
        "print(neg_words['word'].value_counts())\n",
        "print(pos_words['word'].value_counts())"
      ],
      "execution_count": 0,
      "outputs": []
    },
    {
      "cell_type": "code",
      "metadata": {
        "colab_type": "code",
        "id": "rXMiLH6kxvHe",
        "colab": {}
      },
      "source": [
        "y_pred_class = full_model.predict({\n",
        "    'ex':xVal,\n",
        "    'dx':_GO_test\n",
        "  })\n",
        "\n",
        "y_pred_class = np.argmax(y_pred_class,axis=2)\n",
        "y_pred_class=y_pred_class.reshape((-1))"
      ],
      "execution_count": 0,
      "outputs": []
    },
    {
      "cell_type": "code",
      "metadata": {
        "colab_type": "code",
        "id": "2wz3mpl4xvHn",
        "colab": {}
      },
      "source": [
        "y_test = np.argmax(yVal,axis=2)\n",
        "y_test=y_test.reshape((-1))"
      ],
      "execution_count": 0,
      "outputs": []
    },
    {
      "cell_type": "code",
      "metadata": {
        "colab_type": "code",
        "outputId": "31a0be30-5564-4584-bf90-782584172cbe",
        "id": "GRn4_otexvHt",
        "colab": {
          "base_uri": "https://localhost:8080/",
          "height": 337
        }
      },
      "source": [
        "from sklearn import metrics\n",
        "\n",
        "cm=metrics.confusion_matrix(y_test,y_pred_class)\n",
        "\n",
        "import seaborn as sn\n",
        "import pandas as pd\n",
        "import matplotlib.pyplot as plt\n",
        "\n",
        "df_cm = pd.DataFrame(cm, index = ['negative','positive'],\n",
        "                  columns = ['negative','postive'])\n",
        "plt.figure(figsize = (5,5))\n",
        "\n",
        "ax = sn.heatmap(df_cm, annot=True)\n",
        "\n",
        "bottom, top = ax.get_ylim()\n",
        "ax.set_ylim(bottom + 0.5, top - 0.5)\n"
      ],
      "execution_count": 0,
      "outputs": [
        {
          "output_type": "execute_result",
          "data": {
            "text/plain": [
              "(2.0, 0.0)"
            ]
          },
          "metadata": {
            "tags": []
          },
          "execution_count": 218
        },
        {
          "output_type": "display_data",
          "data": {
            "image/png": "[encoded data removed]",
            "text/plain": [
              "<Figure size 360x360 with 2 Axes>"
            ]
          },
          "metadata": {
            "tags": []
          }
        }
      ]
    },
    {
      "cell_type": "code",
      "metadata": {
        "colab_type": "code",
        "id": "E3jkDEP5xvH5",
        "colab": {}
      },
      "source": [
        ""
      ],
      "execution_count": 0,
      "outputs": []
    },
    {
      "cell_type": "code",
      "metadata": {
        "id": "YudSzKFl-c19",
        "colab_type": "code",
        "colab": {}
      },
      "source": [
        ""
      ],
      "execution_count": 0,
      "outputs": []
    },
    {
      "cell_type": "code",
      "metadata": {
        "id": "vofciefc-ai6",
        "colab_type": "code",
        "colab": {}
      },
      "source": [
        ""
      ],
      "execution_count": 0,
      "outputs": []
    }
  ]
}