{
  "nbformat": 4,
  "nbformat_minor": 0,
  "metadata": {
    "colab": {
      "name": "RCNN.ipynb",
      "provenance": [],
      "collapsed_sections": [
        "DqjH9ukPywr-",
        "zpgivv-3zoBf",
        "ONdAOZ00cFA8",
        "BMELCU3VPpvS",
        "r99TFj4eDqD8",
        "6QKB2ccxJ_9L",
        "ke6uwaoIz6Az",
        "OwG4T9TRMvaQ",
        "O5sARRHwM0Fl",
        "f_Koey_WSjiY",
        "cNUQxRghW70T",
        "ug4lJ29I_Kks",
        "lsBWWstumTyv",
        "ogGIQ6gUXfr9",
        "muDTCw0UbBNc",
        "QV70dG6Fc1qV",
        "03cblYnhvHt_",
        "u5DW7vNtvNOL"
      ],
      "machine_shape": "hm"
    },
    "kernelspec": {
      "name": "python3",
      "display_name": "Python 3"
    },
    "accelerator": "GPU"
  },
  "cells": [
    {
      "cell_type": "markdown",
      "metadata": {
        "id": "DqjH9ukPywr-",
        "colab_type": "text"
      },
      "source": [
        "# Download the Dataset and Imports"
      ]
    },
    {
      "cell_type": "code",
      "metadata": {
        "id": "q_DmcYyHycfH",
        "colab_type": "code",
        "outputId": "77d5f7f7-3c59-4b36-cba9-87d681cae5af",
        "colab": {
          "base_uri": "https://localhost:8080/",
          "height": 121
        }
      },
      "source": [
        "!curl --output dataset.zip https://archive.ics.uci.edu/ml/machine-learning-databases/00462/drugsCom_raw.zip\n",
        "!unzip dataset.zip\n",
        "# !rm dataset.zip"
      ],
      "execution_count": 0,
      "outputs": [
        {
          "output_type": "stream",
          "text": [
            "  % Total    % Received % Xferd  Average Speed   Time    Time     Time  Current\n",
            "                                 Dload  Upload   Total   Spent    Left  Speed\n",
            "100 40.9M  100 40.9M    0     0  50.6M      0 --:--:-- --:--:-- --:--:-- 50.6M\n",
            "Archive:  dataset.zip\n",
            "  inflating: drugsComTest_raw.tsv    \n",
            "  inflating: drugsComTrain_raw.tsv   \n"
          ],
          "name": "stdout"
        }
      ]
    },
    {
      "cell_type": "code",
      "metadata": {
        "id": "d6QBBCUnykJ8",
        "colab_type": "code",
        "outputId": "d6b3c901-964b-4e9f-b13f-69dd3d50e7ec",
        "colab": {
          "base_uri": "https://localhost:8080/"
        }
      },
      "source": [
        "import pandas as pd\n",
        "import html\n",
        "from nltk.tokenize import word_tokenize,RegexpTokenizer\n",
        "from nltk.corpus import stopwords \n",
        "import nltk\n",
        "nltk.download('stopwords')\n",
        "nltk.download('punkt')\n",
        "import gensim\n",
        "import numpy as np\n",
        "from keras.utils.np_utils import to_categorical\n",
        "from sklearn.model_selection import train_test_split\n",
        "from keras.preprocessing.sequence import pad_sequences"
      ],
      "execution_count": 0,
      "outputs": [
        {
          "output_type": "stream",
          "text": [
            "[nltk_data] Downloading package stopwords to /root/nltk_data...\n",
            "[nltk_data]   Package stopwords is already up-to-date!\n",
            "[nltk_data] Downloading package punkt to /root/nltk_data...\n",
            "[nltk_data]   Package punkt is already up-to-date!\n"
          ],
          "name": "stdout"
        },
        {
          "output_type": "stream",
          "text": [
            "Using TensorFlow backend.\n"
          ],
          "name": "stderr"
        },
        {
          "output_type": "display_data",
          "data": {
            "text/html": [
              "<p style=\"color: red;\">\n",
              "The default version of TensorFlow in Colab will soon switch to TensorFlow 2.x.<br>\n",
              "We recommend you <a href=\"https://www.tensorflow.org/guide/migrate\" target=\"_blank\">upgrade</a> now \n",
              "or ensure your notebook will continue to use TensorFlow 1.x via the <code>%tensorflow_version 1.x</code> magic:\n",
              "<a href=\"https://colab.research.google.com/notebooks/tensorflow_version.ipynb\" target=\"_blank\">more info</a>.</p>\n"
            ],
            "text/plain": [
              "<IPython.core.display.HTML object>"
            ]
          },
          "metadata": {
            "tags": []
          }
        }
      ]
    },
    {
      "cell_type": "markdown",
      "metadata": {
        "id": "zpgivv-3zoBf",
        "colab_type": "text"
      },
      "source": [
        "#Loading Data and Preprocessing\n",
        "Tokenization,removing stopwords"
      ]
    },
    {
      "cell_type": "code",
      "metadata": {
        "id": "JlQqiCrizOjJ",
        "colab_type": "code",
        "outputId": "8d859425-de26-4075-fb5d-409504e86757",
        "colab": {
          "base_uri": "https://localhost:8080/",
          "height": 284
        }
      },
      "source": [
        "# Loading Data\n",
        "\n",
        "def load_dataset(filename):\n",
        "    df = pd.read_csv(filename, sep='\\t')\n",
        "    df.drop(df.columns[0], axis=1, inplace=True)\n",
        "    df.drop(['drugName', 'condition', 'date', 'usefulCount'], axis=1, inplace=True)\n",
        "    df['review'] = df['review'].apply(lambda x: x[1:-1])\n",
        "    df['review'] = df['review'].apply(html.unescape)\n",
        "    df['rating'] = df['rating'].astype('int64')\n",
        "    df['label'] = df['rating']\n",
        "\n",
        "    df.label[df['rating'] <= 4] = 0\n",
        "    df.label[(df['rating'] <= 6) & (df['rating'] >= 5)] = 1\n",
        "    df.label[df['rating'] >= 7] = 2\n",
        "\n",
        "    return df\n",
        "\n",
        "df_train = load_dataset(\"drugsComTrain_raw.tsv\")\n",
        "df_test = load_dataset(\"drugsComTest_raw.tsv\")\n"
      ],
      "execution_count": 0,
      "outputs": [
        {
          "output_type": "stream",
          "text": [
            "/usr/local/lib/python3.6/dist-packages/ipykernel_launcher.py:11: SettingWithCopyWarning: \n",
            "A value is trying to be set on a copy of a slice from a DataFrame\n",
            "\n",
            "See the caveats in the documentation: http://pandas.pydata.org/pandas-docs/stable/user_guide/indexing.html#returning-a-view-versus-a-copy\n",
            "  # This is added back by InteractiveShellApp.init_path()\n",
            "/usr/local/lib/python3.6/dist-packages/ipykernel_launcher.py:12: SettingWithCopyWarning: \n",
            "A value is trying to be set on a copy of a slice from a DataFrame\n",
            "\n",
            "See the caveats in the documentation: http://pandas.pydata.org/pandas-docs/stable/user_guide/indexing.html#returning-a-view-versus-a-copy\n",
            "  if sys.path[0] == '':\n",
            "/usr/local/lib/python3.6/dist-packages/ipykernel_launcher.py:13: SettingWithCopyWarning: \n",
            "A value is trying to be set on a copy of a slice from a DataFrame\n",
            "\n",
            "See the caveats in the documentation: http://pandas.pydata.org/pandas-docs/stable/user_guide/indexing.html#returning-a-view-versus-a-copy\n",
            "  del sys.path[0]\n"
          ],
          "name": "stderr"
        }
      ]
    },
    {
      "cell_type": "code",
      "metadata": {
        "id": "DH-MKgxtzwFF",
        "colab_type": "code",
        "colab": {}
      },
      "source": [
        "stop_words = set(stopwords.words('english'))  \n",
        "tokenizer = RegexpTokenizer(r'\\w+')"
      ],
      "execution_count": 0,
      "outputs": []
    },
    {
      "cell_type": "code",
      "metadata": {
        "id": "UZP4w-Fozzb4",
        "colab_type": "code",
        "colab": {}
      },
      "source": [
        "def func(row):\n",
        "    l = tokenizer.tokenize(row['review'])\n",
        "    s = [i.lower() for i in l if i not in stop_words]\n",
        "    return s\n",
        "\n",
        "df_train['processed'] = df_train.apply (lambda row: func(row), axis=1)\n",
        "df_test['processed'] = df_test.apply (lambda row: func(row), axis=1)\n"
      ],
      "execution_count": 0,
      "outputs": []
    },
    {
      "cell_type": "markdown",
      "metadata": {
        "id": "ONdAOZ00cFA8",
        "colab_type": "text"
      },
      "source": [
        "#Embedings"
      ]
    },
    {
      "cell_type": "markdown",
      "metadata": {
        "colab_type": "text",
        "id": "BMELCU3VPpvS"
      },
      "source": [
        "## Glove embeddings"
      ]
    },
    {
      "cell_type": "markdown",
      "metadata": {
        "id": "r99TFj4eDqD8",
        "colab_type": "text"
      },
      "source": [
        "### Download Glove embeddings"
      ]
    },
    {
      "cell_type": "code",
      "metadata": {
        "id": "_ux6hL9qRGZW",
        "colab_type": "code",
        "outputId": "155fef3a-5e28-40b1-b832-1ae98692d96b",
        "colab": {
          "base_uri": "https://localhost:8080/",
          "height": 104
        }
      },
      "source": [
        "!wget \"http://downloads.cs.stanford.edu/nlp/data/glove.6B.zip\"\n",
        "!unzip glove.6B.zip\n",
        "!rm glove.6B.zip"
      ],
      "execution_count": 0,
      "outputs": [
        {
          "output_type": "stream",
          "text": [
            "Archive:  glove.6B.zip\n",
            "  inflating: glove.6B.50d.txt        \n",
            "  inflating: glove.6B.100d.txt       \n",
            "  inflating: glove.6B.200d.txt       \n",
            "  inflating: glove.6B.300d.txt       \n"
          ],
          "name": "stdout"
        }
      ]
    },
    {
      "cell_type": "markdown",
      "metadata": {
        "id": "6QKB2ccxJ_9L",
        "colab_type": "text"
      },
      "source": [
        "### Util functions"
      ]
    },
    {
      "cell_type": "code",
      "metadata": {
        "id": "9bl9-7Zsfm2j",
        "colab_type": "code",
        "colab": {}
      },
      "source": [
        "def embed(processed, w2v_dict, default_vec):\n",
        "    vectors = []\n",
        "    for w in processed:\n",
        "        if(w in w2v_dict):\n",
        "            vectors.append(w2v_dict[w])\n",
        "        else:\n",
        "            vectors.append(default_vec)\n",
        "    vectors = np.array(vectors)\n",
        "    return vectors\n",
        "\n",
        "def embed_using_glove(df, embed_dim=50):\n",
        "    # Load Glove embeddings.\n",
        "    GLOVE_FILE = 'glove.6B.' + str(embed_dim) + 'd.txt'\n",
        "    # Get number of vectors and hidden dimensions\n",
        "    with open(GLOVE_FILE, 'r') as f:\n",
        "        for i, line in enumerate(f):\n",
        "            pass\n",
        "    n_vec = i + 1\n",
        "    hidden_dim = len(line.split(' ')) - 1\n",
        "    # Find the average of all embeddings to be assigned to tokens not in the embeddings.\n",
        "    # Create a word to vector dictionary for embedding.\n",
        "    avg_vec = np.zeros((hidden_dim), dtype=np.float32)\n",
        "    w2v_dict = {}\n",
        "    count = 0\n",
        "    with open(GLOVE_FILE, 'r') as f:\n",
        "        for line in f:\n",
        "            w2v_dict[line.split(' ')[:1][0]] = np.array([float(n) for n in line.split(' ')[1:]], dtype=np.float32)\n",
        "            avg_vec += np.array([float(n) for n in line.split(' ')[1:]], dtype=np.float32)\n",
        "            count+=1\n",
        "    avg_vec/=count\n",
        "\n",
        "    df['vectors'] = df.apply(lambda row: embed(row['processed'], w2v_dict, avg_vec), axis=1)\n",
        "    return avg_vec"
      ],
      "execution_count": 0,
      "outputs": []
    },
    {
      "cell_type": "markdown",
      "metadata": {
        "id": "ke6uwaoIz6Az",
        "colab_type": "text"
      },
      "source": [
        "### Embedding the tokens using Glove\n",
        "Embeding_D = 50"
      ]
    },
    {
      "cell_type": "code",
      "metadata": {
        "id": "gtRtl4FKz1Ck",
        "colab_type": "code",
        "colab": {}
      },
      "source": [
        "EMBEDDING_D =50"
      ],
      "execution_count": 0,
      "outputs": []
    },
    {
      "cell_type": "code",
      "metadata": {
        "id": "bqqm7eMb0EVv",
        "colab_type": "code",
        "colab": {}
      },
      "source": [
        "GLOVE_FILE = 'glove.6B.'+str(EMBEDDING_D)+'d.txt'\n",
        "\n",
        "# Get number of vectors and hidden dim\n",
        "with open(GLOVE_FILE, 'r') as f:\n",
        "    for i, line in enumerate(f):\n",
        "        pass\n",
        "n_vec = i + 1\n",
        "hidden_dim = len(line.split(' ')) - 1\n"
      ],
      "execution_count": 0,
      "outputs": []
    },
    {
      "cell_type": "code",
      "metadata": {
        "id": "zGfiI1G00HWv",
        "colab_type": "code",
        "outputId": "5f39ba94-797e-4b8a-edc8-6be442374126",
        "colab": {
          "base_uri": "https://localhost:8080/",
          "height": 208
        }
      },
      "source": [
        "avg_vec = np.zeros((hidden_dim), dtype=np.float32)\n",
        "w2v_dict = {}\n",
        "count = 0\n",
        "with open(GLOVE_FILE, 'r') as f:\n",
        "    for line in f:\n",
        "        w2v_dict[line.split(' ')[:1][0]] = np.array([float(n) for n in line.split(' ')[1:]], dtype=np.float32)\n",
        "        avg_vec += np.array([float(n) for n in line.split(' ')[1:]], dtype=np.float32)\n",
        "        count+=1\n",
        "avg_vec/=count\n",
        "avg_vec"
      ],
      "execution_count": 0,
      "outputs": [
        {
          "output_type": "execute_result",
          "data": {
            "text/plain": [
              "array([-0.12920076, -0.28866628, -0.01224866, -0.05676644, -0.20210965,\n",
              "       -0.08389011,  0.33359843,  0.16045167,  0.03867431,  0.17833012,\n",
              "        0.04696583, -0.00285802,  0.29099807,  0.04613704, -0.20923874,\n",
              "       -0.06613114, -0.06822549,  0.07665912,  0.3134014 ,  0.17848536,\n",
              "       -0.1225775 , -0.09916984, -0.07495987,  0.06413227,  0.14441176,\n",
              "        0.60894334,  0.17463093,  0.05335403, -0.01273871,  0.03474107,\n",
              "       -0.8123879 , -0.04688699,  0.20193407,  0.2031118 , -0.03935686,\n",
              "        0.06967544, -0.01553638, -0.03405238, -0.06528071,  0.12250231,\n",
              "        0.13991883, -0.17446303, -0.08011883,  0.0849521 , -0.01041659,\n",
              "       -0.13705009,  0.20127155,  0.10069408,  0.00653003,  0.01685157],\n",
              "      dtype=float32)"
            ]
          },
          "metadata": {
            "tags": []
          },
          "execution_count": 7
        }
      ]
    },
    {
      "cell_type": "code",
      "metadata": {
        "id": "k_7eXHHJ0fha",
        "colab_type": "code",
        "outputId": "bee34719-93e9-4f18-e1ba-b9c97a5cc85a",
        "colab": {
          "base_uri": "https://localhost:8080/",
          "height": 424
        }
      },
      "source": [
        "def foo(row,s,e):\n",
        "    vectors = []\n",
        "    for w in row[s:e]:\n",
        "        if(w in w2v_dict):\n",
        "            vectors.append(w2v_dict[w])\n",
        "        else:\n",
        "            vectors.append(avg_vec)\n",
        "    vectors = np.array(vectors)\n",
        "    return vectors\n",
        "\n",
        "df['vectors'] = df.apply (lambda row: foo(row['processed']), axis=1)\n",
        "df"
      ],
      "execution_count": 0,
      "outputs": [
        {
          "output_type": "execute_result",
          "data": {
            "text/html": [
              "<div>\n",
              "<style scoped>\n",
              "    .dataframe tbody tr th:only-of-type {\n",
              "        vertical-align: middle;\n",
              "    }\n",
              "\n",
              "    .dataframe tbody tr th {\n",
              "        vertical-align: top;\n",
              "    }\n",
              "\n",
              "    .dataframe thead th {\n",
              "        text-align: right;\n",
              "    }\n",
              "</style>\n",
              "<table border=\"1\" class=\"dataframe\">\n",
              "  <thead>\n",
              "    <tr style=\"text-align: right;\">\n",
              "      <th></th>\n",
              "      <th>review</th>\n",
              "      <th>rating</th>\n",
              "      <th>label</th>\n",
              "      <th>processed</th>\n",
              "      <th>vectors</th>\n",
              "    </tr>\n",
              "  </thead>\n",
              "  <tbody>\n",
              "    <tr>\n",
              "      <th>0</th>\n",
              "      <td>It has no side effect, I take it in combinatio...</td>\n",
              "      <td>9</td>\n",
              "      <td>2</td>\n",
              "      <td>[it, side, effect, i, take, combination, bysto...</td>\n",
              "      <td>[[0.61183, -0.22072, -0.10898, -0.052967, 0.50...</td>\n",
              "    </tr>\n",
              "    <tr>\n",
              "      <th>1</th>\n",
              "      <td>My son is halfway through his fourth week of I...</td>\n",
              "      <td>8</td>\n",
              "      <td>2</td>\n",
              "      <td>[my, son, halfway, fourth, week, intuniv, we, ...</td>\n",
              "      <td>[[-0.27279, 0.77515, -0.10181, -0.9166, 0.9047...</td>\n",
              "    </tr>\n",
              "    <tr>\n",
              "      <th>2</th>\n",
              "      <td>I used to take another oral contraceptive, whi...</td>\n",
              "      <td>5</td>\n",
              "      <td>1</td>\n",
              "      <td>[i, used, take, another, oral, contraceptive, ...</td>\n",
              "      <td>[[0.11891, 0.15255, -0.082073, -0.74144, 0.759...</td>\n",
              "    </tr>\n",
              "    <tr>\n",
              "      <th>3</th>\n",
              "      <td>This is my first time using any form of birth ...</td>\n",
              "      <td>8</td>\n",
              "      <td>2</td>\n",
              "      <td>[this, first, time, using, form, birth, contro...</td>\n",
              "      <td>[[0.53074, 0.40117, -0.40785, 0.15444, 0.47782...</td>\n",
              "    </tr>\n",
              "    <tr>\n",
              "      <th>4</th>\n",
              "      <td>Suboxone has completely turned my life around....</td>\n",
              "      <td>9</td>\n",
              "      <td>2</td>\n",
              "      <td>[suboxone, completely, turned, life, around, i...</td>\n",
              "      <td>[[0.48969, -1.058, -0.52617, -0.46258, -0.818,...</td>\n",
              "    </tr>\n",
              "    <tr>\n",
              "      <th>...</th>\n",
              "      <td>...</td>\n",
              "      <td>...</td>\n",
              "      <td>...</td>\n",
              "      <td>...</td>\n",
              "      <td>...</td>\n",
              "    </tr>\n",
              "    <tr>\n",
              "      <th>161292</th>\n",
              "      <td>I wrote my first report in Mid-October of 2014...</td>\n",
              "      <td>10</td>\n",
              "      <td>2</td>\n",
              "      <td>[i, wrote, first, report, mid, october, 2014, ...</td>\n",
              "      <td>[[0.11891, 0.15255, -0.082073, -0.74144, 0.759...</td>\n",
              "    </tr>\n",
              "    <tr>\n",
              "      <th>161293</th>\n",
              "      <td>I was given this in IV before surgey. I immedi...</td>\n",
              "      <td>1</td>\n",
              "      <td>0</td>\n",
              "      <td>[i, given, iv, surgey, i, immediately, became,...</td>\n",
              "      <td>[[0.11891, 0.15255, -0.082073, -0.74144, 0.759...</td>\n",
              "    </tr>\n",
              "    <tr>\n",
              "      <th>161294</th>\n",
              "      <td>Limited improvement after 4 months, developed ...</td>\n",
              "      <td>2</td>\n",
              "      <td>0</td>\n",
              "      <td>[limited, improvement, 4, months, developed, b...</td>\n",
              "      <td>[[-0.061722, -0.074371, -0.15627, 0.43372, -0....</td>\n",
              "    </tr>\n",
              "    <tr>\n",
              "      <th>161295</th>\n",
              "      <td>I've been on thyroid medication 49 years, I sp...</td>\n",
              "      <td>10</td>\n",
              "      <td>2</td>\n",
              "      <td>[i, thyroid, medication, 49, years, i, spent, ...</td>\n",
              "      <td>[[0.11891, 0.15255, -0.082073, -0.74144, 0.759...</td>\n",
              "    </tr>\n",
              "    <tr>\n",
              "      <th>161296</th>\n",
              "      <td>I've had chronic constipation all my adult lif...</td>\n",
              "      <td>9</td>\n",
              "      <td>2</td>\n",
              "      <td>[i, chronic, constipation, adult, life, tried,...</td>\n",
              "      <td>[[0.11891, 0.15255, -0.082073, -0.74144, 0.759...</td>\n",
              "    </tr>\n",
              "  </tbody>\n",
              "</table>\n",
              "<p>161297 rows × 5 columns</p>\n",
              "</div>"
            ],
            "text/plain": [
              "                                                   review  ...                                            vectors\n",
              "0       It has no side effect, I take it in combinatio...  ...  [[0.61183, -0.22072, -0.10898, -0.052967, 0.50...\n",
              "1       My son is halfway through his fourth week of I...  ...  [[-0.27279, 0.77515, -0.10181, -0.9166, 0.9047...\n",
              "2       I used to take another oral contraceptive, whi...  ...  [[0.11891, 0.15255, -0.082073, -0.74144, 0.759...\n",
              "3       This is my first time using any form of birth ...  ...  [[0.53074, 0.40117, -0.40785, 0.15444, 0.47782...\n",
              "4       Suboxone has completely turned my life around....  ...  [[0.48969, -1.058, -0.52617, -0.46258, -0.818,...\n",
              "...                                                   ...  ...                                                ...\n",
              "161292  I wrote my first report in Mid-October of 2014...  ...  [[0.11891, 0.15255, -0.082073, -0.74144, 0.759...\n",
              "161293  I was given this in IV before surgey. I immedi...  ...  [[0.11891, 0.15255, -0.082073, -0.74144, 0.759...\n",
              "161294  Limited improvement after 4 months, developed ...  ...  [[-0.061722, -0.074371, -0.15627, 0.43372, -0....\n",
              "161295  I've been on thyroid medication 49 years, I sp...  ...  [[0.11891, 0.15255, -0.082073, -0.74144, 0.759...\n",
              "161296  I've had chronic constipation all my adult lif...  ...  [[0.11891, 0.15255, -0.082073, -0.74144, 0.759...\n",
              "\n",
              "[161297 rows x 5 columns]"
            ]
          },
          "metadata": {
            "tags": []
          },
          "execution_count": 8
        }
      ]
    },
    {
      "cell_type": "markdown",
      "metadata": {
        "colab_type": "text",
        "heading_collapsed": true,
        "id": "OwG4T9TRMvaQ"
      },
      "source": [
        "## Word2Vec embeddings"
      ]
    },
    {
      "cell_type": "markdown",
      "metadata": {
        "colab_type": "text",
        "heading_collapsed": true,
        "hidden": true,
        "id": "O5sARRHwM0Fl"
      },
      "source": [
        "### Download the Google word2vec embeddings"
      ]
    },
    {
      "cell_type": "code",
      "metadata": {
        "ExecuteTime": {
          "end_time": "2019-11-08T21:46:56.858133Z",
          "start_time": "2019-11-08T21:42:14.222728Z"
        },
        "colab_type": "code",
        "hidden": true,
        "id": "24KezgZuRbwk",
        "outputId": "9e03d2e4-534c-4889-b1b6-7b0346c13ca0",
        "colab": {
          "base_uri": "https://localhost:8080/",
          "height": 69
        }
      },
      "source": [
        "!curl --output word2vec.bin.gz https://s3.amazonaws.com/dl4j-distribution/GoogleNews-vectors-negative300.bin.gz\n",
        "!gunzip word2vec.bin.gz"
      ],
      "execution_count": 0,
      "outputs": [
        {
          "output_type": "stream",
          "text": [
            "  % Total    % Received % Xferd  Average Speed   Time    Time     Time  Current\n",
            "                                 Dload  Upload   Total   Spent    Left  Speed\n",
            "100 1570M  100 1570M    0     0  34.5M      0  0:00:45  0:00:45 --:--:-- 35.0M\n"
          ],
          "name": "stdout"
        }
      ]
    },
    {
      "cell_type": "markdown",
      "metadata": {
        "colab_type": "text",
        "heading_collapsed": true,
        "hidden": true,
        "id": "f_Koey_WSjiY"
      },
      "source": [
        "### Load the word2vec embeddings into memory"
      ]
    },
    {
      "cell_type": "code",
      "metadata": {
        "ExecuteTime": {
          "end_time": "2019-11-08T21:59:19.615363Z",
          "start_time": "2019-11-08T21:58:09.951419Z"
        },
        "colab_type": "code",
        "hidden": true,
        "id": "3Iiw7NcRSqjA",
        "outputId": "4ea549f1-6b3c-46cb-a064-acb3ba11b5be",
        "colab": {
          "base_uri": "https://localhost:8080/",
          "height": 73
        }
      },
      "source": [
        ""
      ],
      "execution_count": 0,
      "outputs": [
        {
          "output_type": "stream",
          "text": [
            "/usr/local/lib/python3.6/dist-packages/smart_open/smart_open_lib.py:402: UserWarning: This function is deprecated, use smart_open.open instead. See the migration notes for details: https://github.com/RaRe-Technologies/smart_open/blob/master/README.rst#migrating-to-the-new-open-function\n",
            "  'See the migration notes for details: %s' % _MIGRATION_NOTES_URL\n"
          ],
          "name": "stderr"
        }
      ]
    },
    {
      "cell_type": "markdown",
      "metadata": {
        "colab_type": "text",
        "heading_collapsed": true,
        "hidden": true,
        "id": "cNUQxRghW70T"
      },
      "source": [
        "### Util funcitons"
      ]
    },
    {
      "cell_type": "code",
      "metadata": {
        "ExecuteTime": {
          "end_time": "2019-11-08T21:59:33.641391Z",
          "start_time": "2019-11-08T21:59:33.634808Z"
        },
        "colab_type": "code",
        "hidden": true,
        "id": "yyQQerUzW68n",
        "colab": {}
      },
      "source": [
        "def embed_w2v(processed, w2v_dict, default_vec):\n",
        "    vectors = []\n",
        "    for w in processed:\n",
        "        if(w in w2v_dict):\n",
        "            vectors.append(w2v_dict[w])\n",
        "        else:\n",
        "            vectors.append(default_vec)\n",
        "    vectors = np.array(vectors)\n",
        "    return vectors\n"
      ],
      "execution_count": 0,
      "outputs": []
    },
    {
      "cell_type": "markdown",
      "metadata": {
        "colab_type": "text",
        "heading_collapsed": true,
        "hidden": true,
        "id": "1epAFPfIxWC-"
      },
      "source": [
        "### Get equal-class versions of train and test dataset"
      ]
    },
    {
      "cell_type": "code",
      "metadata": {
        "id": "pRK6atCUdLNN",
        "colab_type": "code",
        "colab": {}
      },
      "source": [
        "# df_test_w2v['label'].value_counts()\n",
        "# df_test_w2v"
      ],
      "execution_count": 0,
      "outputs": []
    },
    {
      "cell_type": "code",
      "metadata": {
        "ExecuteTime": {
          "end_time": "2019-11-08T22:00:05.788109Z",
          "start_time": "2019-11-08T22:00:05.638070Z"
        },
        "colab_type": "code",
        "hidden": true,
        "id": "Aqw1UeLhxWDR",
        "colab": {}
      },
      "source": [
        "# df_train_w2v = pd.concat([df_train[df_train['label']==0].sample(n=4829).reset_index(drop=True),df_train[df_train['label']==1].sample(n=4829).reset_index(drop=True),df_train[df_train['label']==2].sample(n=4829).reset_index(drop=True)],ignore_index=True)\n",
        "# df_test_w2v = pd.concat([df_test[df_test['label']==0].sample(n=4829).reset_index(drop=True),df_test[df_test['label']==1].sample(n=4829).reset_index(drop=True),df_test[df_test['label']==2].sample(n=4829).reset_index(drop=True)],ignore_index=True)"
      ],
      "execution_count": 0,
      "outputs": []
    },
    {
      "cell_type": "markdown",
      "metadata": {
        "colab_type": "text",
        "heading_collapsed": true,
        "hidden": true,
        "id": "HHE64eMvfUg9"
      },
      "source": [
        "### Convert the tokens into Word2Vec embeddings"
      ]
    },
    {
      "cell_type": "code",
      "metadata": {
        "ExecuteTime": {
          "end_time": "2019-11-08T22:00:32.891534Z",
          "start_time": "2019-11-08T22:00:21.978251Z"
        },
        "colab_type": "code",
        "hidden": true,
        "id": "sUw50_VeUU5c",
        "colab": {}
      },
      "source": [
        "# w2v_avg = np.average(w2v_model.vectors, axis=0)\n",
        "# df_train_w2v['vectors'] = df_train_w2v.apply(lambda row: embed_w2v(row['processed'], w2v_model, w2v_avg), axis=1)\n",
        "# df_test_w2v['vectors'] = df_test_w2v.apply(lambda row: embed_w2v(row['processed'], w2v_model, w2v_avg), axis=1)"
      ],
      "execution_count": 0,
      "outputs": []
    },
    {
      "cell_type": "markdown",
      "metadata": {
        "heading_collapsed": true,
        "hidden": true,
        "id": "unLYkdPwYLtR",
        "colab_type": "text"
      },
      "source": [
        "### Save the Embeddings to file"
      ]
    },
    {
      "cell_type": "code",
      "metadata": {
        "ExecuteTime": {
          "end_time": "2019-11-08T22:05:18.963018Z",
          "start_time": "2019-11-08T22:04:14.983253Z"
        },
        "colab_type": "code",
        "hidden": true,
        "id": "LH6rJMjryvzC",
        "colab": {}
      },
      "source": [
        "# df_train_w2v.to_pickle(\"train_w2v.pckl\")\n",
        "# df_test_w2v.to_pickle(\"test_w2v.pckl\")"
      ],
      "execution_count": 0,
      "outputs": []
    },
    {
      "cell_type": "code",
      "metadata": {
        "id": "3ND-rucOSrUR",
        "colab_type": "code",
        "colab": {}
      },
      "source": [
        "def embeding_using_w2v(df):\n",
        "    from gensim.models import KeyedVectors\n",
        "    w2v_model = KeyedVectors.load_word2vec_format('word2vec.bin', binary=True)\n",
        "    w2v_avg = np.average(w2v_model.vectors, axis=0)\n",
        "\n",
        "    df['vectors'] = df.apply(lambda row: embed_w2v(row['processed'], w2v_model, w2v_avg), axis=1)\n",
        "    df['vectors'] = df.apply(lambda row: embed_w2v(row['processed'], w2v_model, w2v_avg), axis=1)    \n",
        "    return w2v_avg"
      ],
      "execution_count": 0,
      "outputs": []
    },
    {
      "cell_type": "markdown",
      "metadata": {
        "id": "ug4lJ29I_Kks",
        "colab_type": "text"
      },
      "source": [
        "## Elmo embeddings"
      ]
    },
    {
      "cell_type": "markdown",
      "metadata": {
        "id": "fvtbnbXTXkJc",
        "colab_type": "text"
      },
      "source": [
        "### Install allennlp"
      ]
    },
    {
      "cell_type": "code",
      "metadata": {
        "id": "wX4DiLtJXnxI",
        "colab_type": "code",
        "outputId": "0d763e9c-f708-4a7a-c680-17a1079b9593",
        "colab": {
          "base_uri": "https://localhost:8080/",
          "height": 1000
        }
      },
      "source": [
        "!pip install allennlp"
      ],
      "execution_count": 0,
      "outputs": [
        {
          "output_type": "stream",
          "text": [
            "Requirement already satisfied: allennlp in /usr/local/lib/python3.6/dist-packages (0.9.0)\n",
            "Requirement already satisfied: word2number>=1.1 in /usr/local/lib/python3.6/dist-packages (from allennlp) (1.1)\n",
            "Requirement already satisfied: flask-cors>=3.0.7 in /usr/local/lib/python3.6/dist-packages (from allennlp) (3.0.8)\n",
            "Requirement already satisfied: spacy<2.2,>=2.1.0 in /usr/local/lib/python3.6/dist-packages (from allennlp) (2.1.9)\n",
            "Requirement already satisfied: matplotlib>=2.2.3 in /usr/local/lib/python3.6/dist-packages (from allennlp) (3.1.1)\n",
            "Requirement already satisfied: pytest in /usr/local/lib/python3.6/dist-packages (from allennlp) (3.6.4)\n",
            "Requirement already satisfied: sqlparse>=0.2.4 in /usr/local/lib/python3.6/dist-packages (from allennlp) (0.3.0)\n",
            "Requirement already satisfied: torch>=1.2.0 in /usr/local/lib/python3.6/dist-packages (from allennlp) (1.3.1)\n",
            "Requirement already satisfied: tqdm>=4.19 in /usr/local/lib/python3.6/dist-packages (from allennlp) (4.28.1)\n",
            "Requirement already satisfied: responses>=0.7 in /usr/local/lib/python3.6/dist-packages (from allennlp) (0.10.6)\n",
            "Requirement already satisfied: unidecode in /usr/local/lib/python3.6/dist-packages (from allennlp) (1.1.1)\n",
            "Requirement already satisfied: ftfy in /usr/local/lib/python3.6/dist-packages (from allennlp) (5.6)\n",
            "Requirement already satisfied: flask>=1.0.2 in /usr/local/lib/python3.6/dist-packages (from allennlp) (1.1.1)\n",
            "Requirement already satisfied: gevent>=1.3.6 in /usr/local/lib/python3.6/dist-packages (from allennlp) (1.4.0)\n",
            "Requirement already satisfied: pytorch-pretrained-bert>=0.6.0 in /usr/local/lib/python3.6/dist-packages (from allennlp) (0.6.2)\n",
            "Requirement already satisfied: boto3 in /usr/local/lib/python3.6/dist-packages (from allennlp) (1.10.18)\n",
            "Requirement already satisfied: jsonnet>=0.10.0; sys_platform != \"win32\" in /usr/local/lib/python3.6/dist-packages (from allennlp) (0.14.0)\n",
            "Requirement already satisfied: scipy in /usr/local/lib/python3.6/dist-packages (from allennlp) (1.3.2)\n",
            "Requirement already satisfied: editdistance in /usr/local/lib/python3.6/dist-packages (from allennlp) (0.5.3)\n",
            "Requirement already satisfied: tensorboardX>=1.2 in /usr/local/lib/python3.6/dist-packages (from allennlp) (1.9)\n",
            "Requirement already satisfied: h5py in /usr/local/lib/python3.6/dist-packages (from allennlp) (2.8.0)\n",
            "Requirement already satisfied: overrides in /usr/local/lib/python3.6/dist-packages (from allennlp) (2.5)\n",
            "Requirement already satisfied: jsonpickle in /usr/local/lib/python3.6/dist-packages (from allennlp) (1.2)\n",
            "Requirement already satisfied: pytorch-transformers==1.1.0 in /usr/local/lib/python3.6/dist-packages (from allennlp) (1.1.0)\n",
            "Requirement already satisfied: pytz>=2017.3 in /usr/local/lib/python3.6/dist-packages (from allennlp) (2018.9)\n",
            "Requirement already satisfied: numpydoc>=0.8.0 in /usr/local/lib/python3.6/dist-packages (from allennlp) (0.9.1)\n",
            "Requirement already satisfied: scikit-learn in /usr/local/lib/python3.6/dist-packages (from allennlp) (0.21.3)\n",
            "Requirement already satisfied: numpy in /usr/local/lib/python3.6/dist-packages (from allennlp) (1.17.4)\n",
            "Requirement already satisfied: requests>=2.18 in /usr/local/lib/python3.6/dist-packages (from allennlp) (2.21.0)\n",
            "Requirement already satisfied: conllu==1.3.1 in /usr/local/lib/python3.6/dist-packages (from allennlp) (1.3.1)\n",
            "Requirement already satisfied: nltk in /usr/local/lib/python3.6/dist-packages (from allennlp) (3.2.5)\n",
            "Requirement already satisfied: parsimonious>=0.8.0 in /usr/local/lib/python3.6/dist-packages (from allennlp) (0.8.1)\n",
            "Requirement already satisfied: flaky in /usr/local/lib/python3.6/dist-packages (from allennlp) (3.6.1)\n",
            "Requirement already satisfied: Six in /usr/local/lib/python3.6/dist-packages (from flask-cors>=3.0.7->allennlp) (1.12.0)\n",
            "Requirement already satisfied: cymem<2.1.0,>=2.0.2 in /usr/local/lib/python3.6/dist-packages (from spacy<2.2,>=2.1.0->allennlp) (2.0.3)\n",
            "Requirement already satisfied: blis<0.3.0,>=0.2.2 in /usr/local/lib/python3.6/dist-packages (from spacy<2.2,>=2.1.0->allennlp) (0.2.4)\n",
            "Requirement already satisfied: wasabi<1.1.0,>=0.2.0 in /usr/local/lib/python3.6/dist-packages (from spacy<2.2,>=2.1.0->allennlp) (0.4.0)\n",
            "Requirement already satisfied: thinc<7.1.0,>=7.0.8 in /usr/local/lib/python3.6/dist-packages (from spacy<2.2,>=2.1.0->allennlp) (7.0.8)\n",
            "Requirement already satisfied: preshed<2.1.0,>=2.0.1 in /usr/local/lib/python3.6/dist-packages (from spacy<2.2,>=2.1.0->allennlp) (2.0.1)\n",
            "Requirement already satisfied: srsly<1.1.0,>=0.0.6 in /usr/local/lib/python3.6/dist-packages (from spacy<2.2,>=2.1.0->allennlp) (0.2.0)\n",
            "Requirement already satisfied: murmurhash<1.1.0,>=0.28.0 in /usr/local/lib/python3.6/dist-packages (from spacy<2.2,>=2.1.0->allennlp) (1.0.2)\n",
            "Requirement already satisfied: plac<1.0.0,>=0.9.6 in /usr/local/lib/python3.6/dist-packages (from spacy<2.2,>=2.1.0->allennlp) (0.9.6)\n",
            "Requirement already satisfied: cycler>=0.10 in /usr/local/lib/python3.6/dist-packages (from matplotlib>=2.2.3->allennlp) (0.10.0)\n",
            "Requirement already satisfied: pyparsing!=2.0.4,!=2.1.2,!=2.1.6,>=2.0.1 in /usr/local/lib/python3.6/dist-packages (from matplotlib>=2.2.3->allennlp) (2.4.5)\n",
            "Requirement already satisfied: kiwisolver>=1.0.1 in /usr/local/lib/python3.6/dist-packages (from matplotlib>=2.2.3->allennlp) (1.1.0)\n",
            "Requirement already satisfied: python-dateutil>=2.1 in /usr/local/lib/python3.6/dist-packages (from matplotlib>=2.2.3->allennlp) (2.6.1)\n",
            "Requirement already satisfied: more-itertools>=4.0.0 in /usr/local/lib/python3.6/dist-packages (from pytest->allennlp) (7.2.0)\n",
            "Requirement already satisfied: py>=1.5.0 in /usr/local/lib/python3.6/dist-packages (from pytest->allennlp) (1.8.0)\n",
            "Requirement already satisfied: pluggy<0.8,>=0.5 in /usr/local/lib/python3.6/dist-packages (from pytest->allennlp) (0.7.1)\n",
            "Requirement already satisfied: setuptools in /usr/local/lib/python3.6/dist-packages (from pytest->allennlp) (41.6.0)\n",
            "Requirement already satisfied: atomicwrites>=1.0 in /usr/local/lib/python3.6/dist-packages (from pytest->allennlp) (1.3.0)\n",
            "Requirement already satisfied: attrs>=17.4.0 in /usr/local/lib/python3.6/dist-packages (from pytest->allennlp) (19.3.0)\n",
            "Requirement already satisfied: wcwidth in /usr/local/lib/python3.6/dist-packages (from ftfy->allennlp) (0.1.7)\n",
            "Requirement already satisfied: Werkzeug>=0.15 in /usr/local/lib/python3.6/dist-packages (from flask>=1.0.2->allennlp) (0.16.0)\n",
            "Requirement already satisfied: click>=5.1 in /usr/local/lib/python3.6/dist-packages (from flask>=1.0.2->allennlp) (7.0)\n",
            "Requirement already satisfied: Jinja2>=2.10.1 in /usr/local/lib/python3.6/dist-packages (from flask>=1.0.2->allennlp) (2.10.3)\n",
            "Requirement already satisfied: itsdangerous>=0.24 in /usr/local/lib/python3.6/dist-packages (from flask>=1.0.2->allennlp) (1.1.0)\n",
            "Requirement already satisfied: greenlet>=0.4.14; platform_python_implementation == \"CPython\" in /usr/local/lib/python3.6/dist-packages (from gevent>=1.3.6->allennlp) (0.4.15)\n",
            "Requirement already satisfied: regex in /usr/local/lib/python3.6/dist-packages (from pytorch-pretrained-bert>=0.6.0->allennlp) (2019.11.1)\n",
            "Requirement already satisfied: botocore<1.14.0,>=1.13.18 in /usr/local/lib/python3.6/dist-packages (from boto3->allennlp) (1.13.18)\n",
            "Requirement already satisfied: jmespath<1.0.0,>=0.7.1 in /usr/local/lib/python3.6/dist-packages (from boto3->allennlp) (0.9.4)\n",
            "Requirement already satisfied: s3transfer<0.3.0,>=0.2.0 in /usr/local/lib/python3.6/dist-packages (from boto3->allennlp) (0.2.1)\n",
            "Requirement already satisfied: protobuf>=3.8.0 in /usr/local/lib/python3.6/dist-packages (from tensorboardX>=1.2->allennlp) (3.10.0)\n",
            "Requirement already satisfied: sentencepiece in /usr/local/lib/python3.6/dist-packages (from pytorch-transformers==1.1.0->allennlp) (0.1.83)\n",
            "Requirement already satisfied: sphinx>=1.6.5 in /usr/local/lib/python3.6/dist-packages (from numpydoc>=0.8.0->allennlp) (1.8.5)\n",
            "Requirement already satisfied: joblib>=0.11 in /usr/local/lib/python3.6/dist-packages (from scikit-learn->allennlp) (0.14.0)\n",
            "Requirement already satisfied: certifi>=2017.4.17 in /usr/local/lib/python3.6/dist-packages (from requests>=2.18->allennlp) (2019.9.11)\n",
            "Requirement already satisfied: idna<2.9,>=2.5 in /usr/local/lib/python3.6/dist-packages (from requests>=2.18->allennlp) (2.8)\n",
            "Requirement already satisfied: chardet<3.1.0,>=3.0.2 in /usr/local/lib/python3.6/dist-packages (from requests>=2.18->allennlp) (3.0.4)\n",
            "Requirement already satisfied: urllib3<1.25,>=1.21.1 in /usr/local/lib/python3.6/dist-packages (from requests>=2.18->allennlp) (1.24.3)\n",
            "Requirement already satisfied: MarkupSafe>=0.23 in /usr/local/lib/python3.6/dist-packages (from Jinja2>=2.10.1->flask>=1.0.2->allennlp) (1.1.1)\n",
            "Requirement already satisfied: docutils<0.16,>=0.10 in /usr/local/lib/python3.6/dist-packages (from botocore<1.14.0,>=1.13.18->boto3->allennlp) (0.15.2)\n",
            "Requirement already satisfied: packaging in /usr/local/lib/python3.6/dist-packages (from sphinx>=1.6.5->numpydoc>=0.8.0->allennlp) (19.2)\n",
            "Requirement already satisfied: babel!=2.0,>=1.3 in /usr/local/lib/python3.6/dist-packages (from sphinx>=1.6.5->numpydoc>=0.8.0->allennlp) (2.7.0)\n",
            "Requirement already satisfied: alabaster<0.8,>=0.7 in /usr/local/lib/python3.6/dist-packages (from sphinx>=1.6.5->numpydoc>=0.8.0->allennlp) (0.7.12)\n",
            "Requirement already satisfied: Pygments>=2.0 in /usr/local/lib/python3.6/dist-packages (from sphinx>=1.6.5->numpydoc>=0.8.0->allennlp) (2.1.3)\n",
            "Requirement already satisfied: imagesize in /usr/local/lib/python3.6/dist-packages (from sphinx>=1.6.5->numpydoc>=0.8.0->allennlp) (1.1.0)\n",
            "Requirement already satisfied: sphinxcontrib-websupport in /usr/local/lib/python3.6/dist-packages (from sphinx>=1.6.5->numpydoc>=0.8.0->allennlp) (1.1.2)\n",
            "Requirement already satisfied: snowballstemmer>=1.1 in /usr/local/lib/python3.6/dist-packages (from sphinx>=1.6.5->numpydoc>=0.8.0->allennlp) (2.0.0)\n"
          ],
          "name": "stdout"
        }
      ]
    },
    {
      "cell_type": "markdown",
      "metadata": {
        "id": "Hv2O9HmcoSV7",
        "colab_type": "text"
      },
      "source": [
        "### Imports"
      ]
    },
    {
      "cell_type": "code",
      "metadata": {
        "id": "LhYYiddBjbfK",
        "colab_type": "code",
        "colab": {}
      },
      "source": [
        "from allennlp.commands.elmo import ElmoEmbedder\n",
        "import sys"
      ],
      "execution_count": 0,
      "outputs": []
    },
    {
      "cell_type": "markdown",
      "metadata": {
        "id": "vne2Ej3koUES",
        "colab_type": "text"
      },
      "source": [
        "### Util functions"
      ]
    },
    {
      "cell_type": "code",
      "metadata": {
        "id": "uhMhSy3xXoeN",
        "colab_type": "code",
        "colab": {}
      },
      "source": [
        "avg_elmo_embedding = ['1']\n",
        "def create_elmo_embeddings(elmo, documents, max_sentences = 1000):\n",
        "    num_sentences = min(max_sentences, len(documents)) if max_sentences > 0 else len(documents)\n",
        "    print(\"\\n\\n:: Lookup of \" + str(num_sentences) + \" ELMo representations. This takes a while ::\")\n",
        "    embeddings = []\n",
        "    tokens = documents['processed'].to_numpy()\n",
        "    \n",
        "    documentIdx = 0\n",
        "    for elmo_embedding in elmo.embed_sentences(tokens):  \n",
        "        document = documents.iloc[documentIdx]\n",
        "        # Average the 3 layers returned from ELMo\n",
        "        avg_elmo_embedding = np.average(elmo_embedding, axis=0)             \n",
        "        embeddings.append(avg_elmo_embedding)        \n",
        "        \n",
        "        # Some progress info\n",
        "        documentIdx += 1\n",
        "        percent = 100.0 * documentIdx / num_sentences\n",
        "        line = '[{0}{1}]'.format('=' * int(percent / 2), ' ' * (50 - int(percent / 2)))\n",
        "        status = '\\r{0:3.0f}%{1} {2:3d}/{3:3d} sentences'\n",
        "        sys.stdout.write(status.format(percent, line, documentIdx, num_sentences))\n",
        "        \n",
        "        if max_sentences > 0 and documentIdx >= max_sentences:\n",
        "            break\n",
        "            \n",
        "    return embeddings\n"
      ],
      "execution_count": 0,
      "outputs": []
    },
    {
      "cell_type": "markdown",
      "metadata": {
        "colab_type": "text",
        "id": "qmrAEErXwpDA"
      },
      "source": [
        "### Get smaller versions of train and test dataset"
      ]
    },
    {
      "cell_type": "code",
      "metadata": {
        "id": "6dzCGQ9MZN7u",
        "colab_type": "code",
        "colab": {}
      },
      "source": [
        "# df_train_elmo = df_train.sample(n=int(df_train.shape[0]/20)).reset_index(drop=True)\n",
        "# df_test_elmo = df_test.sample(n=int(df_test.shape[0]/20)).reset_index(drop=True)"
      ],
      "execution_count": 0,
      "outputs": []
    },
    {
      "cell_type": "markdown",
      "metadata": {
        "id": "uqmLae0uoXe7",
        "colab_type": "text"
      },
      "source": [
        "### Get ELMo embeddings"
      ]
    },
    {
      "cell_type": "code",
      "metadata": {
        "id": "2frbjy9yokoS",
        "colab_type": "code",
        "colab": {}
      },
      "source": [
        "# elmo = ElmoEmbedder(cuda_device=0) #Set cuda_device to the ID of your GPU if you have one\n",
        "# df_train_elmo['elmo_embeddings'] = create_elmo_embeddings(elmo, df_train_elmo, -1)\n",
        "# df_test_elmo['elmo_embeddings'] = create_elmo_embeddings(elmo, df_test_elmo, -1)"
      ],
      "execution_count": 0,
      "outputs": []
    },
    {
      "cell_type": "code",
      "metadata": {
        "id": "eUw1U_vTUi7A",
        "colab_type": "code",
        "colab": {}
      },
      "source": [
        "def embeding_using_elmo(df):\n",
        "    elmo = ElmoEmbedder(cuda_device=0) #Set cuda_device to the ID of your GPU if you have one\n",
        "    df['vectors'] = create_elmo_embeddings(elmo, df, -1)\n",
        "    return np.full_like(range(1024),0.0)"
      ],
      "execution_count": 0,
      "outputs": []
    },
    {
      "cell_type": "markdown",
      "metadata": {
        "id": "lsBWWstumTyv",
        "colab_type": "text"
      },
      "source": [
        "# GetData"
      ]
    },
    {
      "cell_type": "code",
      "metadata": {
        "id": "ejdTuYy6OMe3",
        "colab_type": "code",
        "colab": {}
      },
      "source": [
        "def getleftContext(df,w2v_avg):\n",
        "    left_context_as_array = df['vectors'].to_numpy()\n",
        "    app = []\n",
        "    for i in range(left_context_as_array.shape[0]):\n",
        "        app.append([w2v_avg,])\n",
        "    app = np.array(app)\n",
        "    left_context_as_array = pad_sequences(left_context_as_array, maxlen=sequence_length,dtype='float32')\n",
        "    print('left context shape')\n",
        "    print(app.shape)\n",
        "    print(left_context_as_array.shape)\n",
        "\n",
        "    left_context_as_array = np.concatenate([app,left_context_as_array],axis = 1)\n",
        "    print(left_context_as_array.shape)\n",
        "    left_context_as_array = left_context_as_array[:,:-1,:]\n",
        "\n",
        "    print('left_context shape',left_context_as_array.shape)\n",
        "    return left_context_as_array\n",
        "\n",
        "def getrightContext(df,w2v_avg):\n",
        "    right_context_as_array = df['vectors'].to_numpy()\n",
        "    app = []\n",
        "    for i in range(right_context_as_array.shape[0]):\n",
        "        app.append([w2v_avg,])\n",
        "    app = np.array(app)\n",
        "\n",
        "    right_context_as_array = pad_sequences(right_context_as_array, maxlen=sequence_length,dtype='float32')\n",
        "    # for el in right_context_as_array:\n",
        "    #     el = np.vstack([el[1:],[w2v_avg,]])\n",
        "\n",
        "    right_context_as_array = np.concatenate([right_context_as_array,app],axis = 1)\n",
        "    print(right_context_as_array.shape)\n",
        "    right_context_as_array = right_context_as_array[:,1:,:]\n",
        "\n",
        "    print('right_context shape',right_context_as_array.shape)\n",
        "    return right_context_as_array"
      ],
      "execution_count": 0,
      "outputs": []
    },
    {
      "cell_type": "code",
      "metadata": {
        "id": "0lHLzIavkPeO",
        "colab_type": "code",
        "outputId": "2aadfcf8-91cd-457f-cbc3-5811bff2d601",
        "colab": {
          "base_uri": "https://localhost:8080/",
          "height": 86
        }
      },
      "source": [
        "a = np.array([[[1,2],[3,4],[5,6]]])\n",
        "b = np.array([[[4,5],],])\n",
        "np.concatenate([b,a],axis=1)"
      ],
      "execution_count": 0,
      "outputs": [
        {
          "output_type": "execute_result",
          "data": {
            "text/plain": [
              "array([[[4, 5],\n",
              "        [1, 2],\n",
              "        [3, 4],\n",
              "        [5, 6]]])"
            ]
          },
          "metadata": {
            "tags": []
          },
          "execution_count": 23
        }
      ]
    },
    {
      "cell_type": "code",
      "metadata": {
        "id": "fssYrFmO0yVX",
        "colab_type": "code",
        "colab": {}
      },
      "source": [
        "sequence_length = 100\n",
        "EMBEDDING_D = 300"
      ],
      "execution_count": 0,
      "outputs": []
    },
    {
      "cell_type": "code",
      "metadata": {
        "id": "r83PZ5gIltcI",
        "colab_type": "code",
        "colab": {}
      },
      "source": [
        "def getData(normalize = False,k = -1,k_test = 1000,classes=3,embeding='glove'):\n",
        "    df_train = load_dataset(\"drugsComTrain_raw.tsv\",classes)\n",
        "    df_test = load_dataset(\"drugsComTest_raw.tsv\",classes)\n",
        "    \n",
        "    print(df_train.groupby('label').size())\n",
        "    print(df_test.groupby('label').size())\n",
        "\n",
        "\n",
        "    if(normalize):\n",
        "        mn = df_train.groupby('label').size().min()\n",
        "        df_train = pd.concat([df_train[df_train['label']==0].sample(n=mn).reset_index(drop=True),df_train[df_train['label']==1].sample(n=mn).reset_index(drop=True),df_train[df_train['label']==2].sample(n=mn).reset_index(drop=True)],ignore_index=True)\n",
        "        mn = df_test.groupby('label').size().min()\n",
        "        df_test = pd.concat([df_test[df_test['label']==0].sample(n=mn).reset_index(drop=True),df_test[df_test['label']==1].sample(n=mn).reset_index(drop=True),df_test[df_test['label']==2].sample(n=mn).reset_index(drop=True)],ignore_index=True)\n",
        "\n",
        "    if(k!=-1):\n",
        "        df_train = df_train.sample(n=k).reset_index(drop=True)\n",
        "\n",
        "    if(k_test!=-1):\n",
        "        df_test = df_test.sample(n=k_test).reset_index(drop=True)\n",
        "\n",
        "    df_train['processed'] = df_train.apply (lambda row: func(row), axis=1)\n",
        "    df_test['processed'] = df_test.apply (lambda row: func(row), axis=1)\n",
        "    \n",
        "    if(embeding == 'glove'):\n",
        "        w2v_avg = embed_using_glove(df_train, 50)\n",
        "        w2v_avg = embed_using_glove(df_test, 50)\n",
        "        EMBEDDING_D = 50\n",
        "    if(embeding == 'w2v'):\n",
        "        w2v_avg = embeding_using_w2v(df_train)\n",
        "        w2v_avg = embeding_using_w2v(df_test)\n",
        "        EMBEDDING_D = 300\n",
        "\n",
        "    if(embeding == 'elmo'):\n",
        "        w2v_avg = embeding_using_elmo(df_train)\n",
        "        w2v_avg = embeding_using_elmo(df_test)\n",
        "        EMBEDDING_D = 1024\n",
        "\n",
        "    # df_train['vectors'] = df_train.apply (lambda row: foo(row['processed']), axis=1)\n",
        "    # df_test['vectors'] = df_test.apply (lambda row: foo(row['processed']), axis=1)\n",
        "\n",
        "\n",
        "    train_data = pad_sequences(df_train['vectors'], maxlen=sequence_length,dtype='float32')\n",
        "    test_data = pad_sequences(df_test['vectors'], maxlen=sequence_length,dtype='float32')\n",
        "\n",
        "    l_c = getleftContext(df_train,w2v_avg)\n",
        "    r_c = getrightContext(df_train,w2v_avg)\n",
        "    train_data = {'doc': train_data,'l_c':l_c,'r_c':r_c}\n",
        "\n",
        "    l_c = getleftContext(df_test,w2v_avg)\n",
        "    r_c = getrightContext(df_test,w2v_avg)\n",
        "    test_data = {'doc': test_data,'l_c':l_c,'r_c':r_c}\n",
        "\n",
        "    train_labels = pd.get_dummies(df_train['label']).to_numpy().reshape(-1,classes)\n",
        "    test_labels = pd.get_dummies(df_test['label']).to_numpy().reshape(-1,classes)\n",
        "\n",
        "\n",
        "    print(df_train.groupby('label').size())\n",
        "    print(df_test.groupby('label').size())\n",
        "\n",
        "    return train_data,test_data,train_labels,test_labels"
      ],
      "execution_count": 0,
      "outputs": []
    },
    {
      "cell_type": "markdown",
      "metadata": {
        "id": "ogGIQ6gUXfr9",
        "colab_type": "text"
      },
      "source": [
        "#Model"
      ]
    },
    {
      "cell_type": "code",
      "metadata": {
        "id": "rfelJyWp2mFI",
        "colab_type": "code",
        "colab": {}
      },
      "source": [
        "from tensorflow import keras \n",
        "from keras.layers import Conv1D,Concatenate,Reshape,Dense,Dropout,MaxPool1D,Input,LSTM,concatenate\n",
        "from keras.models import Model\n",
        "from keras.layers import Lambda\n",
        "from keras import backend\n",
        "import tensorflow as tf\n",
        "import keras.backend as K\n",
        "import os\n",
        "# os.environ['TF_KERAS'] = '1'"
      ],
      "execution_count": 0,
      "outputs": []
    },
    {
      "cell_type": "code",
      "metadata": {
        "id": "3yvNmMGj2pJC",
        "colab_type": "code",
        "colab": {}
      },
      "source": [
        "def RCNN(embed = 'glove'):\n",
        "    if(embed == 'glove'):\n",
        "        EMBEDDING_D = 50\n",
        "    elif(embed == 'w2v'):\n",
        "        EMBEDDING_D = 300\n",
        "    else:\n",
        "        EMBEDDING_D = 1024\n",
        "    MAX_TOKENS = 100\n",
        "    hidden_dim_1 = 200\n",
        "    hidden_dim_2 = 100\n",
        "    NUM_CLASSES = 3\n",
        "\n",
        "    document = Input(shape = (sequence_length,EMBEDDING_D),name='doc')\n",
        "    left_context = Input(shape = (sequence_length,EMBEDDING_D ),name='l_c')\n",
        "    right_context = Input(shape = (sequence_length,EMBEDDING_D ),name='r_c')\n",
        "\n",
        "    # I use LSTM RNNs instead of vanilla RNNs as described in the paper.\n",
        "\n",
        "    forward = LSTM(hidden_dim_1, return_sequences = True)(left_context)\n",
        "    backward = LSTM(hidden_dim_1, return_sequences = True, go_backwards = True)(right_context)\n",
        "    # Keras returns the output sequences in reverse order.\n",
        "\n",
        "    print(backward.shape)\n",
        "    # print(type(backward))\n",
        "\n",
        "    backward = Lambda(lambda x: K.reverse(x,axes=1) )(backward)\n",
        "    # l = Lambda(lambda x: K.reverse(x,axes=1),output_shape=backward.shape )\n",
        "    # backward = l(backward)\n",
        "    print(backward.shape)\n",
        "\n",
        "    together = concatenate([forward, document, backward], axis = 2) \n",
        "\n",
        "    semantic = Conv1D(hidden_dim_2, kernel_size = 1, activation = \"tanh\")(together) \n",
        "\n",
        "    # Keras provides its own max-pooling layers, but they cannot handle variable length input\n",
        "    # (as far as I can tell). As a result, I define my own max-pooling layer here.\n",
        "    pool_rnn = Lambda(lambda x: backend.max(x, axis = 1), output_shape = (hidden_dim_2, ))(semantic) \n",
        "\n",
        "    output = Dense(NUM_CLASSES, input_dim = hidden_dim_2, activation = \"softmax\")(pool_rnn) \n",
        "\n",
        "    model = Model(inputs = [document, left_context, right_context], outputs = output)\n",
        "    model.compile(optimizer = \"adadelta\", loss = \"categorical_crossentropy\", metrics = [\"accuracy\"])\n",
        "    return model"
      ],
      "execution_count": 0,
      "outputs": []
    },
    {
      "cell_type": "markdown",
      "metadata": {
        "id": "muDTCw0UbBNc",
        "colab_type": "text"
      },
      "source": [
        "# Training model"
      ]
    },
    {
      "cell_type": "markdown",
      "metadata": {
        "id": "QV70dG6Fc1qV",
        "colab_type": "text"
      },
      "source": [
        "##Glove"
      ]
    },
    {
      "cell_type": "code",
      "metadata": {
        "id": "KyjWOPLOXvp4",
        "colab_type": "code",
        "outputId": "4705b35a-56c8-4238-c45c-e7166124b0a6",
        "colab": {
          "base_uri": "https://localhost:8080/",
          "height": 1000
        }
      },
      "source": [
        "xTrain,xVal,yTrain,yVal = getData(normalize=True,k=10000)\n",
        "model = RCNN('glove')"
      ],
      "execution_count": 0,
      "outputs": [
        {
          "output_type": "stream",
          "text": [
            "rating\n",
            "1     21619\n",
            "2      6931\n",
            "3      6513\n",
            "4      5012\n",
            "5      8013\n",
            "6      6343\n",
            "7      9456\n",
            "8     18890\n",
            "9     27531\n",
            "10    50989\n",
            "dtype: int64\n"
          ],
          "name": "stdout"
        },
        {
          "output_type": "stream",
          "text": [
            "/usr/local/lib/python3.6/dist-packages/ipykernel_launcher.py:20: SettingWithCopyWarning: \n",
            "A value is trying to be set on a copy of a slice from a DataFrame\n",
            "\n",
            "See the caveats in the documentation: http://pandas.pydata.org/pandas-docs/stable/user_guide/indexing.html#returning-a-view-versus-a-copy\n"
          ],
          "name": "stderr"
        },
        {
          "output_type": "stream",
          "text": [
            "rating\n",
            "1      7299\n",
            "2      2334\n",
            "3      2205\n",
            "4      1659\n",
            "5      2710\n",
            "6      2119\n",
            "7      3091\n",
            "8      6156\n",
            "9      9177\n",
            "10    17016\n",
            "dtype: int64\n",
            "label\n",
            "0     40075\n",
            "1     14356\n",
            "2    106866\n",
            "dtype: int64\n",
            "label\n",
            "0    13497\n",
            "1     4829\n",
            "2    35440\n",
            "dtype: int64\n",
            "(10000, 101, 50)\n",
            "left_context shape (10000, 100, 50)\n",
            "(10000, 101, 50)\n",
            "right_context shape (10000, 100, 50)\n",
            "(1000, 101, 50)\n",
            "left_context shape (1000, 100, 50)\n",
            "(1000, 101, 50)\n",
            "right_context shape (1000, 100, 50)\n",
            "label\n",
            "0    3383\n",
            "1    3295\n",
            "2    3322\n",
            "dtype: int64\n",
            "label\n",
            "0    356\n",
            "1    315\n",
            "2    329\n",
            "dtype: int64\n",
            "(?, ?, 200)\n",
            "(?, ?, 200)\n"
          ],
          "name": "stdout"
        }
      ]
    },
    {
      "cell_type": "code",
      "metadata": {
        "id": "6a-LYVtJ8MF8",
        "colab_type": "code",
        "outputId": "3b7e1531-520f-46ee-be8d-774f9580125b",
        "colab": {
          "base_uri": "https://localhost:8080/",
          "height": 555
        }
      },
      "source": [
        "training = model.fit(x=xTrain, y = yTrain, epochs=15, batch_size=128,validation_split=0.1)"
      ],
      "execution_count": 0,
      "outputs": [
        {
          "output_type": "stream",
          "text": [
            "Train on 9000 samples, validate on 1000 samples\n",
            "Epoch 1/15\n",
            "9000/9000 [==============================] - 25s 3ms/step - loss: 1.0921 - acc: 0.3993 - val_loss: 1.0699 - val_acc: 0.4420\n",
            "Epoch 2/15\n",
            "9000/9000 [==============================] - 22s 2ms/step - loss: 1.0148 - acc: 0.4779 - val_loss: 0.9967 - val_acc: 0.5040\n",
            "Epoch 3/15\n",
            "9000/9000 [==============================] - 20s 2ms/step - loss: 0.9624 - acc: 0.5343 - val_loss: 0.9780 - val_acc: 0.5210\n",
            "Epoch 4/15\n",
            "9000/9000 [==============================] - 21s 2ms/step - loss: 0.9375 - acc: 0.5551 - val_loss: 1.0088 - val_acc: 0.4870\n",
            "Epoch 5/15\n",
            "9000/9000 [==============================] - 21s 2ms/step - loss: 0.9072 - acc: 0.5780 - val_loss: 0.9557 - val_acc: 0.5380\n",
            "Epoch 6/15\n",
            "9000/9000 [==============================] - 21s 2ms/step - loss: 0.8820 - acc: 0.5936 - val_loss: 0.9594 - val_acc: 0.5190\n",
            "Epoch 7/15\n",
            "9000/9000 [==============================] - 21s 2ms/step - loss: 0.8536 - acc: 0.6150 - val_loss: 0.9632 - val_acc: 0.5340\n",
            "Epoch 8/15\n",
            "9000/9000 [==============================] - 21s 2ms/step - loss: 0.8311 - acc: 0.6276 - val_loss: 0.9881 - val_acc: 0.5130\n",
            "Epoch 9/15\n",
            "9000/9000 [==============================] - 21s 2ms/step - loss: 0.8068 - acc: 0.6383 - val_loss: 1.0656 - val_acc: 0.4710\n",
            "Epoch 10/15\n",
            "9000/9000 [==============================] - 21s 2ms/step - loss: 0.7840 - acc: 0.6583 - val_loss: 1.0810 - val_acc: 0.4740\n",
            "Epoch 11/15\n",
            "9000/9000 [==============================] - 21s 2ms/step - loss: 0.7530 - acc: 0.6741 - val_loss: 0.9940 - val_acc: 0.5050\n",
            "Epoch 12/15\n",
            "9000/9000 [==============================] - 21s 2ms/step - loss: 0.7196 - acc: 0.7040 - val_loss: 1.0746 - val_acc: 0.5020\n",
            "Epoch 13/15\n",
            "9000/9000 [==============================] - 21s 2ms/step - loss: 0.6967 - acc: 0.7114 - val_loss: 0.9723 - val_acc: 0.5380\n",
            "Epoch 14/15\n",
            "9000/9000 [==============================] - 22s 2ms/step - loss: 0.6584 - acc: 0.7421 - val_loss: 0.9922 - val_acc: 0.5250\n",
            "Epoch 15/15\n",
            "9000/9000 [==============================] - 21s 2ms/step - loss: 0.6394 - acc: 0.7446 - val_loss: 0.9703 - val_acc: 0.5460\n"
          ],
          "name": "stdout"
        }
      ]
    },
    {
      "cell_type": "code",
      "metadata": {
        "id": "t3t7kBjWvSMA",
        "colab_type": "code",
        "outputId": "adfd5c67-03db-475a-f3c4-6b78d8d47392",
        "colab": {
          "base_uri": "https://localhost:8080/",
          "height": 191
        }
      },
      "source": [
        "from sklearn.metrics import classification_report\n",
        "import numpy as np\n",
        "\n",
        "Y_test = np.argmax(yVal, axis=1) # Convert one-hot to index\n",
        "y_pred = model.predict(xVal)\n",
        "y_pred = y_pred.argmax(axis=-1)\n",
        "print(classification_report(Y_test, y_pred))"
      ],
      "execution_count": 0,
      "outputs": [
        {
          "output_type": "stream",
          "text": [
            "              precision    recall  f1-score   support\n",
            "\n",
            "           0       0.57      0.69      0.62       356\n",
            "           1       0.50      0.26      0.34       315\n",
            "           2       0.55      0.67      0.61       329\n",
            "\n",
            "    accuracy                           0.55      1000\n",
            "   macro avg       0.54      0.54      0.52      1000\n",
            "weighted avg       0.54      0.55      0.53      1000\n",
            "\n"
          ],
          "name": "stdout"
        }
      ]
    },
    {
      "cell_type": "code",
      "metadata": {
        "id": "MdCe73C_wSmD",
        "colab_type": "code",
        "outputId": "5b996d4d-962e-421b-e927-6edc6cf1b1c2",
        "colab": {
          "base_uri": "https://localhost:8080/",
          "height": 337
        }
      },
      "source": [
        "from sklearn import metrics\n",
        "cm=metrics.confusion_matrix(Y_test,y_pred)\n",
        "\n",
        "import seaborn as sn\n",
        "import pandas as pd\n",
        "import matplotlib.pyplot as plt\n",
        "\n",
        "df_cm = pd.DataFrame(cm, index = ['negative','neutral','positive'],\n",
        "                  columns = ['negative','neutral','postive'])\n",
        "plt.figure(figsize = (5,5))\n",
        "\n",
        "ax = sn.heatmap(df_cm, annot=True)\n",
        "\n",
        "bottom, top = ax.get_ylim()\n",
        "ax.set_ylim(bottom + 0.5, top - 0.5)"
      ],
      "execution_count": 0,
      "outputs": [
        {
          "output_type": "execute_result",
          "data": {
            "text/plain": [
              "(3.0, 0.0)"
            ]
          },
          "metadata": {
            "tags": []
          },
          "execution_count": 175
        },
        {
          "output_type": "display_data",
          "data": {
            "image/png": "[encoded data removed]",
            "text/plain": [
              "<Figure size 360x360 with 2 Axes>"
            ]
          },
          "metadata": {
            "tags": []
          }
        }
      ]
    },
    {
      "cell_type": "markdown",
      "metadata": {
        "id": "03cblYnhvHt_",
        "colab_type": "text"
      },
      "source": [
        "## Word2Vec"
      ]
    },
    {
      "cell_type": "code",
      "metadata": {
        "colab_type": "code",
        "outputId": "3131ad7a-0ae3-486e-9179-de98a705a1dc",
        "id": "QU9BO8754vbD",
        "colab": {
          "base_uri": "https://localhost:8080/",
          "height": 1000
        }
      },
      "source": [
        "xTrain,xVal,yTrain,yVal = getData(embeding='w2v',normalize=True,k=10000)\n",
        "model = RCNN('w2v')"
      ],
      "execution_count": 0,
      "outputs": [
        {
          "output_type": "stream",
          "text": [
            "rating\n",
            "1     21619\n",
            "2      6931\n",
            "3      6513\n",
            "4      5012\n",
            "5      8013\n",
            "6      6343\n",
            "7      9456\n",
            "8     18890\n",
            "9     27531\n",
            "10    50989\n",
            "dtype: int64\n"
          ],
          "name": "stdout"
        },
        {
          "output_type": "stream",
          "text": [
            "/usr/local/lib/python3.6/dist-packages/ipykernel_launcher.py:20: SettingWithCopyWarning: \n",
            "A value is trying to be set on a copy of a slice from a DataFrame\n",
            "\n",
            "See the caveats in the documentation: http://pandas.pydata.org/pandas-docs/stable/user_guide/indexing.html#returning-a-view-versus-a-copy\n"
          ],
          "name": "stderr"
        },
        {
          "output_type": "stream",
          "text": [
            "rating\n",
            "1      7299\n",
            "2      2334\n",
            "3      2205\n",
            "4      1659\n",
            "5      2710\n",
            "6      2119\n",
            "7      3091\n",
            "8      6156\n",
            "9      9177\n",
            "10    17016\n",
            "dtype: int64\n",
            "label\n",
            "0     40075\n",
            "1     14356\n",
            "2    106866\n",
            "dtype: int64\n",
            "label\n",
            "0    13497\n",
            "1     4829\n",
            "2    35440\n",
            "dtype: int64\n"
          ],
          "name": "stdout"
        },
        {
          "output_type": "stream",
          "text": [
            "/usr/local/lib/python3.6/dist-packages/smart_open/smart_open_lib.py:402: UserWarning: This function is deprecated, use smart_open.open instead. See the migration notes for details: https://github.com/RaRe-Technologies/smart_open/blob/master/README.rst#migrating-to-the-new-open-function\n",
            "  'See the migration notes for details: %s' % _MIGRATION_NOTES_URL\n"
          ],
          "name": "stderr"
        },
        {
          "output_type": "stream",
          "text": [
            "(10000, 101, 300)\n",
            "left_context shape (10000, 100, 300)\n",
            "(10000, 101, 300)\n",
            "right_context shape (10000, 100, 300)\n",
            "(1000, 101, 300)\n",
            "left_context shape (1000, 100, 300)\n",
            "(1000, 101, 300)\n",
            "right_context shape (1000, 100, 300)\n",
            "label\n",
            "0    3362\n",
            "1    3255\n",
            "2    3383\n",
            "dtype: int64\n",
            "label\n",
            "0    355\n",
            "1    310\n",
            "2    335\n",
            "dtype: int64\n",
            "(?, ?, 200)\n",
            "(?, ?, 200)\n"
          ],
          "name": "stdout"
        }
      ]
    },
    {
      "cell_type": "code",
      "metadata": {
        "colab_type": "code",
        "outputId": "197eaa72-8828-49ef-d0f9-f9237d67cca0",
        "id": "Bs5nt1gX4vbS",
        "colab": {
          "base_uri": "https://localhost:8080/",
          "height": 555
        }
      },
      "source": [
        "training = model.fit(x=xTrain, y = yTrain, epochs=15, batch_size=128,validation_split=0.1)"
      ],
      "execution_count": 0,
      "outputs": [
        {
          "output_type": "stream",
          "text": [
            "Train on 9000 samples, validate on 1000 samples\n",
            "Epoch 1/15\n",
            "9000/9000 [==============================] - 27s 3ms/step - loss: 1.0561 - acc: 0.4409 - val_loss: 0.9921 - val_acc: 0.5220\n",
            "Epoch 2/15\n",
            "9000/9000 [==============================] - 22s 2ms/step - loss: 0.9629 - acc: 0.5402 - val_loss: 0.9613 - val_acc: 0.5220\n",
            "Epoch 3/15\n",
            "9000/9000 [==============================] - 22s 2ms/step - loss: 0.9020 - acc: 0.5848 - val_loss: 0.9195 - val_acc: 0.5620\n",
            "Epoch 4/15\n",
            "9000/9000 [==============================] - 23s 3ms/step - loss: 0.8506 - acc: 0.6184 - val_loss: 0.9046 - val_acc: 0.5610\n",
            "Epoch 5/15\n",
            "9000/9000 [==============================] - 22s 2ms/step - loss: 0.8125 - acc: 0.6376 - val_loss: 0.8666 - val_acc: 0.6270\n",
            "Epoch 6/15\n",
            "9000/9000 [==============================] - 22s 2ms/step - loss: 0.7783 - acc: 0.6614 - val_loss: 0.8473 - val_acc: 0.6190\n",
            "Epoch 7/15\n",
            "9000/9000 [==============================] - 23s 3ms/step - loss: 0.7376 - acc: 0.6903 - val_loss: 0.9310 - val_acc: 0.5720\n",
            "Epoch 8/15\n",
            "9000/9000 [==============================] - 22s 2ms/step - loss: 0.7015 - acc: 0.7103 - val_loss: 0.8599 - val_acc: 0.5970\n",
            "Epoch 9/15\n",
            "9000/9000 [==============================] - 23s 3ms/step - loss: 0.6679 - acc: 0.7338 - val_loss: 0.8552 - val_acc: 0.5980\n",
            "Epoch 10/15\n",
            "9000/9000 [==============================] - 22s 2ms/step - loss: 0.6242 - acc: 0.7553 - val_loss: 0.8337 - val_acc: 0.6340\n",
            "Epoch 11/15\n",
            "9000/9000 [==============================] - 22s 2ms/step - loss: 0.5923 - acc: 0.7779 - val_loss: 0.8909 - val_acc: 0.5790\n",
            "Epoch 12/15\n",
            "9000/9000 [==============================] - 23s 3ms/step - loss: 0.5470 - acc: 0.8033 - val_loss: 0.8473 - val_acc: 0.6190\n",
            "Epoch 13/15\n",
            "9000/9000 [==============================] - 22s 2ms/step - loss: 0.5091 - acc: 0.8199 - val_loss: 0.8334 - val_acc: 0.6330\n",
            "Epoch 14/15\n",
            "9000/9000 [==============================] - 23s 3ms/step - loss: 0.4696 - acc: 0.8428 - val_loss: 0.8184 - val_acc: 0.6500\n",
            "Epoch 15/15\n",
            "9000/9000 [==============================] - 22s 2ms/step - loss: 0.4259 - acc: 0.8709 - val_loss: 0.8462 - val_acc: 0.6150\n"
          ],
          "name": "stdout"
        }
      ]
    },
    {
      "cell_type": "code",
      "metadata": {
        "colab_type": "code",
        "outputId": "ca7790a5-6ad0-487d-dc0f-5442b8fb928f",
        "id": "5sv1R0pA4vbd",
        "colab": {
          "base_uri": "https://localhost:8080/",
          "height": 191
        }
      },
      "source": [
        "from sklearn.metrics import classification_report\n",
        "import numpy as np\n",
        "\n",
        "Y_test = np.argmax(yVal, axis=1) # Convert one-hot to index\n",
        "y_pred = model.predict(xVal)\n",
        "y_pred = y_pred.argmax(axis=-1)\n",
        "print(classification_report(Y_test, y_pred))"
      ],
      "execution_count": 0,
      "outputs": [
        {
          "output_type": "stream",
          "text": [
            "              precision    recall  f1-score   support\n",
            "\n",
            "           0       0.62      0.80      0.70       355\n",
            "           1       0.57      0.41      0.47       310\n",
            "           2       0.70      0.67      0.69       335\n",
            "\n",
            "    accuracy                           0.64      1000\n",
            "   macro avg       0.63      0.63      0.62      1000\n",
            "weighted avg       0.63      0.64      0.63      1000\n",
            "\n"
          ],
          "name": "stdout"
        }
      ]
    },
    {
      "cell_type": "code",
      "metadata": {
        "colab_type": "code",
        "outputId": "f30f504f-ebf8-4ac9-df63-59f933e93378",
        "id": "kkPBkfA64vbl",
        "colab": {
          "base_uri": "https://localhost:8080/",
          "height": 337
        }
      },
      "source": [
        "from sklearn import metrics\n",
        "cm=metrics.confusion_matrix(Y_test,y_pred)\n",
        "\n",
        "import seaborn as sn\n",
        "import pandas as pd\n",
        "import matplotlib.pyplot as plt\n",
        "\n",
        "df_cm = pd.DataFrame(cm, index = ['negative','neutral','positive'],\n",
        "                  columns = ['negative','neutral','postive'])\n",
        "plt.figure(figsize = (5,5))\n",
        "\n",
        "ax = sn.heatmap(df_cm, annot=True)\n",
        "\n",
        "bottom, top = ax.get_ylim()\n",
        "ax.set_ylim(bottom + 0.5, top - 0.5)"
      ],
      "execution_count": 0,
      "outputs": [
        {
          "output_type": "execute_result",
          "data": {
            "text/plain": [
              "(3.0, 0.0)"
            ]
          },
          "metadata": {
            "tags": []
          },
          "execution_count": 169
        },
        {
          "output_type": "display_data",
          "data": {
            "image/png": "[encoded data removed]",
            "text/plain": [
              "<Figure size 360x360 with 2 Axes>"
            ]
          },
          "metadata": {
            "tags": []
          }
        }
      ]
    },
    {
      "cell_type": "markdown",
      "metadata": {
        "id": "u5DW7vNtvNOL",
        "colab_type": "text"
      },
      "source": [
        "## Elmo"
      ]
    },
    {
      "cell_type": "code",
      "metadata": {
        "colab_type": "code",
        "outputId": "f765a513-59f6-41fd-a0b3-e5eb343ededc",
        "id": "HXn_WD6m_DVy",
        "colab": {
          "base_uri": "https://localhost:8080/",
          "height": 1000
        }
      },
      "source": [
        "xTrain,xVal,yTrain,yVal = getData(embeding='elmo',normalize=True,k=5000)\n",
        "model = RCNN('elmo')"
      ],
      "execution_count": 0,
      "outputs": [
        {
          "output_type": "stream",
          "text": [
            "rating\n",
            "1     21619\n",
            "2      6931\n",
            "3      6513\n",
            "4      5012\n",
            "5      8013\n",
            "6      6343\n",
            "7      9456\n",
            "8     18890\n",
            "9     27531\n",
            "10    50989\n",
            "dtype: int64\n"
          ],
          "name": "stdout"
        },
        {
          "output_type": "stream",
          "text": [
            "/usr/local/lib/python3.6/dist-packages/ipykernel_launcher.py:20: SettingWithCopyWarning: \n",
            "A value is trying to be set on a copy of a slice from a DataFrame\n",
            "\n",
            "See the caveats in the documentation: http://pandas.pydata.org/pandas-docs/stable/user_guide/indexing.html#returning-a-view-versus-a-copy\n"
          ],
          "name": "stderr"
        },
        {
          "output_type": "stream",
          "text": [
            "rating\n",
            "1      7299\n",
            "2      2334\n",
            "3      2205\n",
            "4      1659\n",
            "5      2710\n",
            "6      2119\n",
            "7      3091\n",
            "8      6156\n",
            "9      9177\n",
            "10    17016\n",
            "dtype: int64\n",
            "label\n",
            "0     40075\n",
            "1     14356\n",
            "2    106866\n",
            "dtype: int64\n",
            "label\n",
            "0    13497\n",
            "1     4829\n",
            "2    35440\n",
            "dtype: int64\n",
            "\n",
            "\n",
            ":: Lookup of 5000 ELMo representations. This takes a while ::\n",
            "100%[==================================================] 5000/5000 sentences\n",
            "\n",
            ":: Lookup of 1000 ELMo representations. This takes a while ::\n",
            "100%[==================================================] 1000/1000 sentencesleft context shape\n",
            "(5000, 1, 1024)\n",
            "(5000, 100, 1024)\n",
            "(5000, 101, 1024)\n",
            "left_context shape (5000, 100, 1024)\n",
            "(5000, 101, 1024)\n",
            "right_context shape (5000, 100, 1024)\n",
            "left context shape\n",
            "(1000, 1, 1024)\n",
            "(1000, 100, 1024)\n",
            "(1000, 101, 1024)\n",
            "left_context shape (1000, 100, 1024)\n",
            "(1000, 101, 1024)\n",
            "right_context shape (1000, 100, 1024)\n",
            "label\n",
            "0    1656\n",
            "1    1679\n",
            "2    1665\n",
            "dtype: int64\n",
            "label\n",
            "0    355\n",
            "1    327\n",
            "2    318\n",
            "dtype: int64\n",
            "WARNING:tensorflow:From /usr/local/lib/python3.6/dist-packages/keras/backend/tensorflow_backend.py:541: The name tf.placeholder is deprecated. Please use tf.compat.v1.placeholder instead.\n",
            "\n",
            "WARNING:tensorflow:From /usr/local/lib/python3.6/dist-packages/keras/backend/tensorflow_backend.py:66: The name tf.get_default_graph is deprecated. Please use tf.compat.v1.get_default_graph instead.\n",
            "\n",
            "WARNING:tensorflow:From /usr/local/lib/python3.6/dist-packages/keras/backend/tensorflow_backend.py:4432: The name tf.random_uniform is deprecated. Please use tf.random.uniform instead.\n",
            "\n",
            "(?, ?, 200)\n",
            "(?, ?, 200)\n",
            "WARNING:tensorflow:From /usr/local/lib/python3.6/dist-packages/keras/optimizers.py:793: The name tf.train.Optimizer is deprecated. Please use tf.compat.v1.train.Optimizer instead.\n",
            "\n",
            "WARNING:tensorflow:From /usr/local/lib/python3.6/dist-packages/keras/backend/tensorflow_backend.py:3576: The name tf.log is deprecated. Please use tf.math.log instead.\n",
            "\n"
          ],
          "name": "stdout"
        }
      ]
    },
    {
      "cell_type": "code",
      "metadata": {
        "colab_type": "code",
        "outputId": "e39922df-d2c3-42c2-abf2-2f60a5fe6105",
        "id": "vJ5jzd0J_DWA",
        "colab": {
          "base_uri": "https://localhost:8080/",
          "height": 905
        }
      },
      "source": [
        "training = model.fit(x=xTrain, y = yTrain, epochs=15, batch_size=128,validation_split=0.1)"
      ],
      "execution_count": 0,
      "outputs": [
        {
          "output_type": "stream",
          "text": [
            "WARNING:tensorflow:From /usr/local/lib/python3.6/dist-packages/tensorflow_core/python/ops/math_grad.py:1424: where (from tensorflow.python.ops.array_ops) is deprecated and will be removed in a future version.\n",
            "Instructions for updating:\n",
            "Use tf.where in 2.0, which has the same broadcast rule as np.where\n",
            "WARNING:tensorflow:From /usr/local/lib/python3.6/dist-packages/keras/backend/tensorflow_backend.py:1033: The name tf.assign_add is deprecated. Please use tf.compat.v1.assign_add instead.\n",
            "\n",
            "WARNING:tensorflow:From /usr/local/lib/python3.6/dist-packages/keras/backend/tensorflow_backend.py:1020: The name tf.assign is deprecated. Please use tf.compat.v1.assign instead.\n",
            "\n",
            "WARNING:tensorflow:From /usr/local/lib/python3.6/dist-packages/keras/backend/tensorflow_backend.py:3005: The name tf.Session is deprecated. Please use tf.compat.v1.Session instead.\n",
            "\n",
            "Train on 4500 samples, validate on 500 samples\n",
            "Epoch 1/15\n",
            "WARNING:tensorflow:From /usr/local/lib/python3.6/dist-packages/keras/backend/tensorflow_backend.py:190: The name tf.get_default_session is deprecated. Please use tf.compat.v1.get_default_session instead.\n",
            "\n",
            "WARNING:tensorflow:From /usr/local/lib/python3.6/dist-packages/keras/backend/tensorflow_backend.py:197: The name tf.ConfigProto is deprecated. Please use tf.compat.v1.ConfigProto instead.\n",
            "\n",
            "WARNING:tensorflow:From /usr/local/lib/python3.6/dist-packages/keras/backend/tensorflow_backend.py:207: The name tf.global_variables is deprecated. Please use tf.compat.v1.global_variables instead.\n",
            "\n",
            "WARNING:tensorflow:From /usr/local/lib/python3.6/dist-packages/keras/backend/tensorflow_backend.py:216: The name tf.is_variable_initialized is deprecated. Please use tf.compat.v1.is_variable_initialized instead.\n",
            "\n",
            "WARNING:tensorflow:From /usr/local/lib/python3.6/dist-packages/keras/backend/tensorflow_backend.py:223: The name tf.variables_initializer is deprecated. Please use tf.compat.v1.variables_initializer instead.\n",
            "\n",
            "4500/4500 [==============================] - 23s 5ms/step - loss: 1.1234 - acc: 0.3936 - val_loss: 1.1376 - val_acc: 0.3720\n",
            "Epoch 2/15\n",
            "4500/4500 [==============================] - 16s 4ms/step - loss: 1.0010 - acc: 0.4956 - val_loss: 1.0534 - val_acc: 0.4520\n",
            "Epoch 3/15\n",
            "4500/4500 [==============================] - 16s 4ms/step - loss: 0.9361 - acc: 0.5498 - val_loss: 0.9290 - val_acc: 0.5760\n",
            "Epoch 4/15\n",
            "4500/4500 [==============================] - 16s 4ms/step - loss: 0.8534 - acc: 0.6098 - val_loss: 0.9052 - val_acc: 0.5540\n",
            "Epoch 5/15\n",
            "4500/4500 [==============================] - 16s 4ms/step - loss: 0.8008 - acc: 0.6513 - val_loss: 1.1508 - val_acc: 0.4760\n",
            "Epoch 6/15\n",
            "4500/4500 [==============================] - 16s 4ms/step - loss: 0.7427 - acc: 0.6878 - val_loss: 0.9624 - val_acc: 0.5360\n",
            "Epoch 7/15\n",
            "4500/4500 [==============================] - 16s 3ms/step - loss: 0.6970 - acc: 0.7087 - val_loss: 0.9208 - val_acc: 0.5680\n",
            "Epoch 8/15\n",
            "4500/4500 [==============================] - 15s 3ms/step - loss: 0.6463 - acc: 0.7389 - val_loss: 1.1570 - val_acc: 0.4900\n",
            "Epoch 9/15\n",
            "4500/4500 [==============================] - 16s 3ms/step - loss: 0.5888 - acc: 0.7609 - val_loss: 1.0059 - val_acc: 0.5540\n",
            "Epoch 10/15\n",
            "4500/4500 [==============================] - 16s 4ms/step - loss: 0.5783 - acc: 0.7580 - val_loss: 0.8606 - val_acc: 0.5820\n",
            "Epoch 11/15\n",
            "4500/4500 [==============================] - 16s 4ms/step - loss: 0.4957 - acc: 0.8162 - val_loss: 0.9002 - val_acc: 0.5740\n",
            "Epoch 12/15\n",
            "4500/4500 [==============================] - 16s 4ms/step - loss: 0.5024 - acc: 0.8031 - val_loss: 0.9227 - val_acc: 0.5720\n",
            "Epoch 13/15\n",
            "4500/4500 [==============================] - 16s 4ms/step - loss: 0.3713 - acc: 0.8764 - val_loss: 1.0225 - val_acc: 0.5240\n",
            "Epoch 14/15\n",
            "4500/4500 [==============================] - 16s 4ms/step - loss: 0.3695 - acc: 0.8738 - val_loss: 1.1791 - val_acc: 0.5260\n",
            "Epoch 15/15\n",
            "4500/4500 [==============================] - 16s 4ms/step - loss: 0.2821 - acc: 0.9144 - val_loss: 0.8895 - val_acc: 0.6020\n"
          ],
          "name": "stdout"
        }
      ]
    },
    {
      "cell_type": "code",
      "metadata": {
        "colab_type": "code",
        "outputId": "3d423d3a-910a-4df4-cc32-4c7111b36b06",
        "id": "brdbQruZ_DWK",
        "colab": {
          "base_uri": "https://localhost:8080/",
          "height": 191
        }
      },
      "source": [
        "from sklearn.metrics import classification_report\n",
        "import numpy as np\n",
        "\n",
        "Y_test = np.argmax(yVal, axis=1) # Convert one-hot to index\n",
        "y_pred = model.predict(xVal)\n",
        "y_pred = y_pred.argmax(axis=-1)\n",
        "print(classification_report(Y_test, y_pred))"
      ],
      "execution_count": 0,
      "outputs": [
        {
          "output_type": "stream",
          "text": [
            "              precision    recall  f1-score   support\n",
            "\n",
            "           0       0.74      0.53      0.62       355\n",
            "           1       0.56      0.43      0.49       327\n",
            "           2       0.52      0.81      0.63       318\n",
            "\n",
            "    accuracy                           0.58      1000\n",
            "   macro avg       0.61      0.59      0.58      1000\n",
            "weighted avg       0.61      0.58      0.58      1000\n",
            "\n"
          ],
          "name": "stdout"
        }
      ]
    },
    {
      "cell_type": "code",
      "metadata": {
        "colab_type": "code",
        "outputId": "18f64b35-cdd0-4ca3-b93c-b868608a2b34",
        "id": "cyFp1Ixe_DWT",
        "colab": {
          "base_uri": "https://localhost:8080/",
          "height": 337
        }
      },
      "source": [
        "from sklearn import metrics\n",
        "cm=metrics.confusion_matrix(Y_test,y_pred)\n",
        "\n",
        "import seaborn as sn\n",
        "import pandas as pd\n",
        "import matplotlib.pyplot as plt\n",
        "\n",
        "df_cm = pd.DataFrame(cm, index = ['negative','neutral','positive'],\n",
        "                  columns = ['negative','neutral','postive'])\n",
        "plt.figure(figsize = (5,5))\n",
        "\n",
        "ax = sn.heatmap(df_cm, annot=True)\n",
        "\n",
        "bottom, top = ax.get_ylim()\n",
        "ax.set_ylim(bottom + 0.5, top - 0.5)"
      ],
      "execution_count": 0,
      "outputs": [
        {
          "output_type": "execute_result",
          "data": {
            "text/plain": [
              "(3.0, 0.0)"
            ]
          },
          "metadata": {
            "tags": []
          },
          "execution_count": 29
        },
        {
          "output_type": "display_data",
          "data": {
            "image/png": "[encoded data removed]",
            "text/plain": [
              "<Figure size 360x360 with 2 Axes>"
            ]
          },
          "metadata": {
            "tags": []
          }
        }
      ]
    },
    {
      "cell_type": "code",
      "metadata": {
        "id": "hIENpce4Ht5z",
        "colab_type": "code",
        "colab": {}
      },
      "source": [
        ""
      ],
      "execution_count": 0,
      "outputs": []
    }
  ]
}