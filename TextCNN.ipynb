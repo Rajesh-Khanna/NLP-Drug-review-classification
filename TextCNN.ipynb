{
  "nbformat": 4,
  "nbformat_minor": 0,
  "metadata": {
    "colab": {
      "name": "TextCNN.ipynb",
      "provenance": [],
      "collapsed_sections": [
        "M27YLK9lYcqf",
        "WWELIXG_-V7y",
        "n-PeVyKznlPg",
        "ZJxYpMU8poyx",
        "ug4lJ29I_Kks",
        "CIG942BoWEyL",
        "cdYeIj1pO6oU",
        "OGXgS2q5WbcF",
        "MKMmooN0WbcP",
        "1R8ra6MuWcZq"
      ],
      "machine_shape": "hm"
    },
    "kernelspec": {
      "name": "python3",
      "display_name": "Python 3"
    },
    "accelerator": "GPU"
  },
  "cells": [
    {
      "cell_type": "markdown",
      "metadata": {
        "id": "h24jhzSqXtYp",
        "colab_type": "text"
      },
      "source": [
        "# TextCNN"
      ]
    },
    {
      "cell_type": "markdown",
      "metadata": {
        "id": "M27YLK9lYcqf",
        "colab_type": "text"
      },
      "source": [
        "# Downloading Data and Imports"
      ]
    },
    {
      "cell_type": "code",
      "metadata": {
        "id": "ADAyFe8rPpkd",
        "colab_type": "code",
        "outputId": "914558da-4f53-4c89-effb-ad754448a61a",
        "colab": {
          "base_uri": "https://localhost:8080/",
          "height": 118
        }
      },
      "source": [
        "!curl --output dataset.zip https://archive.ics.uci.edu/ml/machine-learning-databases/00462/drugsCom_raw.zip\n",
        "!unzip dataset.zip\n",
        "!rm dataset.zip"
      ],
      "execution_count": 0,
      "outputs": [
        {
          "output_type": "stream",
          "text": [
            "  % Total    % Received % Xferd  Average Speed   Time    Time     Time  Current\n",
            "                                 Dload  Upload   Total   Spent    Left  Speed\n",
            "\r  0     0    0     0    0     0      0      0 --:--:-- --:--:-- --:--:--     0\r 23 40.9M   23 9943k    0     0  19.6M      0  0:00:02 --:--:--  0:00:02 19.5M\r100 40.9M  100 40.9M    0     0  49.4M      0 --:--:-- --:--:-- --:--:-- 49.3M\n",
            "Archive:  dataset.zip\n",
            "  inflating: drugsComTest_raw.tsv    \n",
            "  inflating: drugsComTrain_raw.tsv   \n"
          ],
          "name": "stdout"
        }
      ]
    },
    {
      "cell_type": "code",
      "metadata": {
        "id": "POQJNAUe7roQ",
        "colab_type": "code",
        "outputId": "ef7ca928-db94-4bb2-c279-813b7129b57b",
        "colab": {
          "base_uri": "https://localhost:8080/",
          "height": 146
        }
      },
      "source": [
        "import pandas as pd\n",
        "import html\n",
        "from nltk.tokenize import word_tokenize,RegexpTokenizer\n",
        "from nltk.corpus import stopwords \n",
        "import nltk\n",
        "nltk.download('stopwords')\n",
        "nltk.download('punkt')\n",
        "import gensim\n",
        "import numpy as np\n",
        "from keras.utils.np_utils import to_categorical\n",
        "from sklearn.model_selection import train_test_split\n",
        "from keras.preprocessing.sequence import pad_sequences"
      ],
      "execution_count": 0,
      "outputs": [
        {
          "output_type": "stream",
          "text": [
            "[nltk_data] Downloading package stopwords to /root/nltk_data...\n",
            "[nltk_data]   Unzipping corpora/stopwords.zip.\n",
            "[nltk_data] Downloading package punkt to /root/nltk_data...\n",
            "[nltk_data]   Unzipping tokenizers/punkt.zip.\n"
          ],
          "name": "stdout"
        },
        {
          "output_type": "stream",
          "text": [
            "Using TensorFlow backend.\n"
          ],
          "name": "stderr"
        },
        {
          "output_type": "display_data",
          "data": {
            "text/html": [
              "<p style=\"color: red;\">\n",
              "The default version of TensorFlow in Colab will soon switch to TensorFlow 2.x.<br>\n",
              "We recommend you <a href=\"https://www.tensorflow.org/guide/migrate\" target=\"_blank\">upgrade</a> now \n",
              "or ensure your notebook will continue to use TensorFlow 1.x via the <code>%tensorflow_version 1.x</code> magic:\n",
              "<a href=\"https://colab.research.google.com/notebooks/tensorflow_version.ipynb\" target=\"_blank\">more info</a>.</p>\n"
            ],
            "text/plain": [
              "<IPython.core.display.HTML object>"
            ]
          },
          "metadata": {
            "tags": []
          }
        }
      ]
    },
    {
      "cell_type": "markdown",
      "metadata": {
        "colab_type": "text",
        "heading_collapsed": true,
        "id": "WWELIXG_-V7y"
      },
      "source": [
        "#Processing to Tokens"
      ]
    },
    {
      "cell_type": "markdown",
      "metadata": {
        "colab_type": "text",
        "heading_collapsed": true,
        "hidden": true,
        "id": "8jvuiw9i_mnC"
      },
      "source": [
        "## Read dataset"
      ]
    },
    {
      "cell_type": "code",
      "metadata": {
        "ExecuteTime": {
          "end_time": "2019-11-08T22:47:06.071181Z",
          "start_time": "2019-11-08T22:47:03.535531Z"
        },
        "colab_type": "code",
        "hidden": true,
        "id": "E6MyuSwK-V71",
        "outputId": "af4448b4-aaf7-4a4d-d0b7-03d3063e2f3e",
        "colab": {
          "base_uri": "https://localhost:8080/",
          "height": 269
        }
      },
      "source": [
        "import pandas as pd\n",
        "import html\n",
        "using_glove = False\n",
        "def load_dataset(filename):\n",
        "    df = pd.read_csv(filename, sep='\\t')\n",
        "    df.drop(df.columns[0], axis=1, inplace=True)\n",
        "    df.drop(['drugName', 'condition', 'date', 'usefulCount'], axis=1, inplace=True)\n",
        "    df['review'] = df['review'].apply(lambda x: x[1:-1])\n",
        "    df['review'] = df['review'].apply(html.unescape)\n",
        "    df['rating'] = df['rating'].astype('int64')\n",
        "    df['label'] = df['rating']\n",
        "    df.label[df['rating'] <= 4] = 0\n",
        "    df.label[(df['rating'] <= 6) & (df['rating'] >= 5)] = 1\n",
        "    df.label[df['rating'] >= 7] = 2\n",
        "    df.drop(['rating'], axis=1, inplace=True)\n",
        "    return df\n",
        "\n",
        "df_train = load_dataset(\"drugsComTrain_raw.tsv\")\n",
        "df_test = load_dataset(\"drugsComTest_raw.tsv\")"
      ],
      "execution_count": 0,
      "outputs": [
        {
          "output_type": "stream",
          "text": [
            "/usr/local/lib/python3.6/dist-packages/ipykernel_launcher.py:12: SettingWithCopyWarning: \n",
            "A value is trying to be set on a copy of a slice from a DataFrame\n",
            "\n",
            "See the caveats in the documentation: http://pandas.pydata.org/pandas-docs/stable/user_guide/indexing.html#returning-a-view-versus-a-copy\n",
            "  if sys.path[0] == '':\n",
            "/usr/local/lib/python3.6/dist-packages/ipykernel_launcher.py:13: SettingWithCopyWarning: \n",
            "A value is trying to be set on a copy of a slice from a DataFrame\n",
            "\n",
            "See the caveats in the documentation: http://pandas.pydata.org/pandas-docs/stable/user_guide/indexing.html#returning-a-view-versus-a-copy\n",
            "  del sys.path[0]\n",
            "/usr/local/lib/python3.6/dist-packages/ipykernel_launcher.py:14: SettingWithCopyWarning: \n",
            "A value is trying to be set on a copy of a slice from a DataFrame\n",
            "\n",
            "See the caveats in the documentation: http://pandas.pydata.org/pandas-docs/stable/user_guide/indexing.html#returning-a-view-versus-a-copy\n",
            "  \n"
          ],
          "name": "stderr"
        }
      ]
    },
    {
      "cell_type": "code",
      "metadata": {
        "id": "lia7_gVVr-7g",
        "colab_type": "code",
        "colab": {}
      },
      "source": [
        ""
      ],
      "execution_count": 0,
      "outputs": []
    },
    {
      "cell_type": "markdown",
      "metadata": {
        "colab_type": "text",
        "heading_collapsed": true,
        "hidden": true,
        "id": "73QK0_Cf_qBP"
      },
      "source": [
        "## Removing Stopwords and Tokenizing the reviews"
      ]
    },
    {
      "cell_type": "code",
      "metadata": {
        "ExecuteTime": {
          "end_time": "2019-11-08T22:47:21.611394Z",
          "start_time": "2019-11-08T22:47:08.514916Z"
        },
        "colab_type": "code",
        "hidden": true,
        "id": "v6oXIq9p_VFV",
        "outputId": "6baf5b4b-6952-4a1d-b90e-f5c1d4faa1a1",
        "colab": {
          "base_uri": "https://localhost:8080/",
          "height": 53
        }
      },
      "source": [
        "import nltk\n",
        "from nltk.tokenize import word_tokenize,RegexpTokenizer\n",
        "from nltk.corpus import stopwords \n",
        "\n",
        "nltk.download('stopwords')\n",
        "stop_words = set(stopwords.words('english'))\n",
        "tokenizer = RegexpTokenizer(r'\\w+')\n",
        "def func(row):\n",
        "    l = tokenizer.tokenize(row['review'])\n",
        "    s = [i.lower() for i in l if i not in stop_words]\n",
        "    return s\n",
        "df_train['processed'] = df_train.apply (lambda row: func(row), axis=1)\n",
        "df_test['processed'] = df_test.apply (lambda row: func(row), axis=1)"
      ],
      "execution_count": 0,
      "outputs": [
        {
          "output_type": "stream",
          "text": [
            "[nltk_data] Downloading package stopwords to /root/nltk_data...\n",
            "[nltk_data]   Package stopwords is already up-to-date!\n"
          ],
          "name": "stdout"
        }
      ]
    },
    {
      "cell_type": "markdown",
      "metadata": {
        "id": "TUtAwBAbPjaI",
        "colab_type": "text"
      },
      "source": [
        "## Normalize the dataset"
      ]
    },
    {
      "cell_type": "code",
      "metadata": {
        "id": "TisJd1KuPqZ8",
        "colab_type": "code",
        "colab": {}
      },
      "source": [
        "df_train = pd.concat([df_train[df_train['label']==0].sample(n=14356).reset_index(drop=True),df_train[df_train['label']==1].sample(n=14356).reset_index(drop=True),df_train[df_train['label']==2].sample(n=14356).reset_index(drop=True)],ignore_index=True)\n",
        "df_test = pd.concat([df_test[df_test['label']==0].sample(n=4829).reset_index(drop=True),df_test[df_test['label']==1].sample(n=4829).reset_index(drop=True),df_test[df_test['label']==2].sample(n=4829).reset_index(drop=True)],ignore_index=True)"
      ],
      "execution_count": 0,
      "outputs": []
    },
    {
      "cell_type": "markdown",
      "metadata": {
        "colab_type": "text",
        "heading_collapsed": true,
        "id": "n-PeVyKznlPg"
      },
      "source": [
        "# Glove embedings"
      ]
    },
    {
      "cell_type": "code",
      "metadata": {
        "colab_type": "code",
        "hidden": true,
        "outputId": "49c728ac-bd6d-4ceb-a657-eaa932a72f9f",
        "id": "ypQFYXJMnlP9",
        "colab": {
          "base_uri": "https://localhost:8080/",
          "height": 301
        }
      },
      "source": [
        "!wget \"http://downloads.cs.stanford.edu/nlp/data/glove.6B.zip\"\n",
        "!unzip glove.6B.zip\n",
        "!rm glove.6B.zip"
      ],
      "execution_count": 0,
      "outputs": [
        {
          "output_type": "stream",
          "text": [
            "--2019-11-24 11:40:00--  http://downloads.cs.stanford.edu/nlp/data/glove.6B.zip\n",
            "Resolving downloads.cs.stanford.edu (downloads.cs.stanford.edu)... 171.64.64.22\n",
            "Connecting to downloads.cs.stanford.edu (downloads.cs.stanford.edu)|171.64.64.22|:80... connected.\n",
            "HTTP request sent, awaiting response... 200 OK\n",
            "Length: 862182613 (822M) [application/zip]\n",
            "Saving to: ‘glove.6B.zip’\n",
            "\n",
            "glove.6B.zip        100%[===================>] 822.24M  2.16MB/s    in 6m 26s  \n",
            "\n",
            "2019-11-24 11:46:26 (2.13 MB/s) - ‘glove.6B.zip’ saved [862182613/862182613]\n",
            "\n",
            "Archive:  glove.6B.zip\n",
            "  inflating: glove.6B.50d.txt        \n",
            "  inflating: glove.6B.100d.txt       \n",
            "  inflating: glove.6B.200d.txt       \n",
            "  inflating: glove.6B.300d.txt       \n"
          ],
          "name": "stdout"
        }
      ]
    },
    {
      "cell_type": "code",
      "metadata": {
        "ExecuteTime": {
          "end_time": "2019-11-08T19:30:37.425347Z",
          "start_time": "2019-11-08T19:30:37.416264Z"
        },
        "colab_type": "code",
        "hidden": true,
        "id": "syXjjmCpnlQO",
        "colab": {}
      },
      "source": [
        "def embed(processed, w2v_dict, default_vec):\n",
        "    vectors = []\n",
        "    for w in processed:\n",
        "        if(w in w2v_dict):\n",
        "            vectors.append(w2v_dict[w])\n",
        "        else:\n",
        "            vectors.append(default_vec)\n",
        "    vectors = np.array(vectors)\n",
        "    return vectors\n",
        "\n",
        "def embed_using_glove(df, embed_dim=50):\n",
        "    # Load Glove embeddings.\n",
        "    GLOVE_FILE = 'glove.6B.' + str(embed_dim) + 'd.txt'\n",
        "    # Get number of vectors and hidden dimensions\n",
        "    with open(GLOVE_FILE, 'r') as f:\n",
        "        for i, line in enumerate(f):\n",
        "            pass\n",
        "    n_vec = i + 1\n",
        "    hidden_dim = len(line.split(' ')) - 1\n",
        "    # Find the average of all embeddings to be assigned to tokens not in the embeddings.\n",
        "    # Create a word to vector dictionary for embedding.\n",
        "    avg_vec = np.zeros((hidden_dim), dtype=np.float32)\n",
        "    w2v_dict = {}\n",
        "    v2w_dict = {}\n",
        "    using_glove = True\n",
        "\n",
        "    count = 0\n",
        "    with open(GLOVE_FILE, 'r') as f:\n",
        "        for line in f:\n",
        "            w2v_dict[line.split(' ')[:1][0]] = np.array([float(n) for n in line.split(' ')[1:]], dtype=np.float32)\n",
        "            v2w_dict[str(np.array([float(n) for n in line.split(' ')[1:]], dtype=np.float32).tolist())] = line.split(' ')[:1][0]\n",
        "            avg_vec += np.array([float(n) for n in line.split(' ')[1:]], dtype=np.float32)\n",
        "            count+=1\n",
        "    avg_vec/=count\n",
        "\n",
        "    df['vectors'] = df.apply(lambda row: embed(row['processed'], w2v_dict, avg_vec), axis=1)\n"
      ],
      "execution_count": 0,
      "outputs": []
    },
    {
      "cell_type": "code",
      "metadata": {
        "ExecuteTime": {
          "end_time": "2019-11-08T19:33:18.614423Z",
          "start_time": "2019-11-08T19:30:56.701878Z"
        },
        "colab_type": "code",
        "hidden": true,
        "id": "rwjVr2tLJmNN",
        "colab": {}
      },
      "source": [
        "df_train_glove = df_train.copy()\n",
        "df_test_glove = df_test.copy()\n",
        "embed_using_glove(df_train_glove, 50)\n",
        "# df_train.to_pickle(\"train_glove_50.pckl\")\n",
        "embed_using_glove(df_test_glove, 50)\n",
        "# df_test.to_pickle(\"test_glove_50.pckl\")\n"
      ],
      "execution_count": 0,
      "outputs": []
    },
    {
      "cell_type": "markdown",
      "metadata": {
        "id": "ZJxYpMU8poyx",
        "colab_type": "text"
      },
      "source": [
        "#Word2Vec"
      ]
    },
    {
      "cell_type": "code",
      "metadata": {
        "id": "K6Bvh9JKpuTl",
        "colab_type": "code",
        "outputId": "c9b22205-bf12-4d3d-a054-6c28bbe5fec9",
        "colab": {
          "base_uri": "https://localhost:8080/",
          "height": 86
        }
      },
      "source": [
        "!gdown --id 0B7XkCwpI5KDYNlNUTTlSS21pQmM -O word2vec.bin.gz\n",
        "!gunzip word2vec.bin.gz"
      ],
      "execution_count": 0,
      "outputs": [
        {
          "output_type": "stream",
          "text": [
            "Downloading...\n",
            "From: https://drive.google.com/uc?id=0B7XkCwpI5KDYNlNUTTlSS21pQmM\n",
            "To: /content/word2vec.bin.gz\n",
            "1.65GB [00:18, 88.2MB/s]\n"
          ],
          "name": "stdout"
        }
      ]
    },
    {
      "cell_type": "code",
      "metadata": {
        "id": "RltcqZ2Np6H0",
        "colab_type": "code",
        "outputId": "61131b42-296e-453c-87aa-b360f15e66b3",
        "colab": {
          "base_uri": "https://localhost:8080/",
          "height": 72
        }
      },
      "source": [
        "from gensim.models import KeyedVectors\n",
        "    \n",
        "w2v_model = KeyedVectors.load_word2vec_format('word2vec.bin', binary=True)"
      ],
      "execution_count": 0,
      "outputs": [
        {
          "output_type": "stream",
          "text": [
            "/usr/local/lib/python3.6/dist-packages/smart_open/smart_open_lib.py:402: UserWarning: This function is deprecated, use smart_open.open instead. See the migration notes for details: https://github.com/RaRe-Technologies/smart_open/blob/master/README.rst#migrating-to-the-new-open-function\n",
            "  'See the migration notes for details: %s' % _MIGRATION_NOTES_URL\n"
          ],
          "name": "stderr"
        }
      ]
    },
    {
      "cell_type": "code",
      "metadata": {
        "id": "bTKibeJ0qCgN",
        "colab_type": "code",
        "colab": {}
      },
      "source": [
        "def embed(processed, w2v_dict, default_vec):\n",
        "    vectors = []\n",
        "    for w in processed:\n",
        "        if(w in w2v_dict):\n",
        "            vectors.append(w2v_dict[w])\n",
        "        else:\n",
        "            vectors.append(default_vec)\n",
        "    vectors = np.array(vectors)\n",
        "    return vectors"
      ],
      "execution_count": 0,
      "outputs": []
    },
    {
      "cell_type": "code",
      "metadata": {
        "id": "ql-We4Yqrmus",
        "colab_type": "code",
        "colab": {}
      },
      "source": [
        "df_train_w2v = df_train.sample(n=int(df_train.shape[0]/2)).reset_index(drop=True)\n",
        "df_test_w2v = df_test.sample(n=int(df_test.shape[0])).reset_index(drop=True)\n",
        "w2v_avg = np.average(w2v_model.vectors, axis=0)\n",
        "df_train_w2v['vectors'] = df_train_w2v.apply(lambda row: embed(row['processed'], w2v_model, w2v_avg), axis=1)\n",
        "df_test_w2v['vectors'] = df_test_w2v.apply(lambda row: embed(row['processed'], w2v_model, w2v_avg), axis=1)"
      ],
      "execution_count": 0,
      "outputs": []
    },
    {
      "cell_type": "code",
      "metadata": {
        "id": "hUX2jJ1prdaH",
        "colab_type": "code",
        "outputId": "50c242fc-f677-4093-df13-b815f1b62773",
        "colab": {
          "base_uri": "https://localhost:8080/",
          "height": 121
        }
      },
      "source": [
        "df_train_w2v.memory_usage(deep=True)"
      ],
      "execution_count": 0,
      "outputs": [
        {
          "output_type": "execute_result",
          "data": {
            "text/plain": [
              "Index               128\n",
              "review         10987150\n",
              "label            172272\n",
              "processed      10644592\n",
              "vectors      1296292080\n",
              "dtype: int64"
            ]
          },
          "metadata": {
            "tags": []
          },
          "execution_count": 58
        }
      ]
    },
    {
      "cell_type": "markdown",
      "metadata": {
        "colab_type": "text",
        "id": "ug4lJ29I_Kks"
      },
      "source": [
        "# Elmo embeddings"
      ]
    },
    {
      "cell_type": "code",
      "metadata": {
        "colab_type": "code",
        "hidden": true,
        "id": "wX4DiLtJXnxI",
        "outputId": "926ea412-1908-45c1-d3a9-416034c31bbc",
        "colab": {
          "base_uri": "https://localhost:8080/",
          "height": 1000
        }
      },
      "source": [
        "!pip install allennlp"
      ],
      "execution_count": 0,
      "outputs": [
        {
          "output_type": "stream",
          "text": [
            "  Building wheel for jsonnet (setup.py) ... \u001b[?25l\u001b[?25hdone\n",
            "  Created wheel for jsonnet: filename=jsonnet-0.14.0-cp36-cp36m-linux_x86_64.whl size=3320350 sha256=41284868966fe2971f9de7dfb1600796f50575f5ce0f4bddb4703da806c1e047\n",
            "  Stored in directory: /root/.cache/pip/wheels/5b/b7/83/985f0f758fbb34f14989a0fab86d18890d1cc5ae12f26967bc\n",
            "  Building wheel for ftfy (setup.py) ... \u001b[?25l\u001b[?25hdone\n",
            "  Created wheel for ftfy: filename=ftfy-5.6-cp36-none-any.whl size=44553 sha256=e8b6a18ffa54c65be87cf8e2acbec902ab7b7a34606dcfb7cc270044a84d0966\n",
            "  Stored in directory: /root/.cache/pip/wheels/43/34/ce/cbb38d71543c408de56f3c5e26ce8ba495a0fa5a28eaaf1046\n",
            "Successfully built overrides parsimonious numpydoc word2number jsonnet ftfy\n",
            "Installing collected packages: overrides, parsimonious, flaky, numpydoc, unidecode, word2number, flask-cors, jsonnet, ftfy, conllu, regex, sentencepiece, pytorch-transformers, tensorboardX, responses, jsonpickle, pytorch-pretrained-bert, allennlp\n",
            "Successfully installed allennlp-0.9.0 conllu-1.3.1 flaky-3.6.1 flask-cors-3.0.8 ftfy-5.6 jsonnet-0.14.0 jsonpickle-1.2 numpydoc-0.9.1 overrides-2.5 parsimonious-0.8.1 pytorch-pretrained-bert-0.6.2 pytorch-transformers-1.1.0 regex-2019.11.1 responses-0.10.6 sentencepiece-0.1.83 tensorboardX-1.9 unidecode-1.1.1 word2number-1.1\n"
          ],
          "name": "stdout"
        }
      ]
    },
    {
      "cell_type": "code",
      "metadata": {
        "ExecuteTime": {
          "end_time": "2019-11-08T22:47:26.829176Z",
          "start_time": "2019-11-08T22:47:21.613243Z"
        },
        "colab_type": "code",
        "hidden": true,
        "id": "LhYYiddBjbfK",
        "colab": {}
      },
      "source": [
        "from allennlp.commands.elmo import ElmoEmbedder\n",
        "import sys"
      ],
      "execution_count": 0,
      "outputs": []
    },
    {
      "cell_type": "code",
      "metadata": {
        "ExecuteTime": {
          "end_time": "2019-11-08T22:47:26.849547Z",
          "start_time": "2019-11-08T22:47:26.832356Z"
        },
        "colab_type": "code",
        "hidden": true,
        "id": "uhMhSy3xXoeN",
        "colab": {}
      },
      "source": [
        "def create_elmo_embeddings(elmo, documents, max_sentences = 1000):\n",
        "    num_sentences = min(max_sentences, len(documents)) if max_sentences > 0 else len(documents)\n",
        "    print(\"\\n\\n:: Lookup of \" + str(num_sentences) + \" ELMo representations. This takes a while ::\")\n",
        "    embeddings = []\n",
        "    tokens = documents['processed'].to_numpy()\n",
        "    \n",
        "    documentIdx = 0\n",
        "    for elmo_embedding in elmo.embed_sentences(tokens):  \n",
        "        document = documents.iloc[documentIdx]\n",
        "        # Average the 3 layers returned from ELMo\n",
        "        avg_elmo_embedding = np.average(elmo_embedding, axis=0)             \n",
        "        embeddings.append(avg_elmo_embedding)        \n",
        "        \n",
        "        # Some progress info\n",
        "        documentIdx += 1\n",
        "        percent = 100.0 * documentIdx / num_sentences\n",
        "        line = '[{0}{1}]'.format('=' * int(percent / 2), ' ' * (50 - int(percent / 2)))\n",
        "        status = '\\r{0:3.0f}%{1} {2:3d}/{3:3d} sentences'\n",
        "        sys.stdout.write(status.format(percent, line, documentIdx, num_sentences))\n",
        "        \n",
        "        if max_sentences > 0 and documentIdx >= max_sentences:\n",
        "            break\n",
        "            \n",
        "    return embeddings\n"
      ],
      "execution_count": 0,
      "outputs": []
    },
    {
      "cell_type": "code",
      "metadata": {
        "ExecuteTime": {
          "end_time": "2019-11-08T23:11:05.758812Z",
          "start_time": "2019-11-08T22:47:35.199370Z"
        },
        "colab_type": "code",
        "hidden": true,
        "id": "2frbjy9yokoS",
        "outputId": "3ef2ae3b-4f85-420d-c932-224c8d9215d3",
        "colab": {
          "base_uri": "https://localhost:8080/",
          "height": 139
        }
      },
      "source": [
        "df_train_elmo = df_train.sample(n=int(df_train.shape[0]/3)).reset_index(drop=True)\n",
        "df_test_elmo = df_test.sample(n=int(df_test.shape[0]/2)).reset_index(drop=True)\n",
        "elmo = ElmoEmbedder(cuda_device=0) #Set cuda_device to the ID of your GPU if you have one\n",
        "# elmo = ElmoEmbedder() #Set cuda_device to the ID of your GPU if you have one\n",
        "df_train_elmo['vectors'] = create_elmo_embeddings(elmo, df_train_elmo, -1)\n",
        "df_test_elmo['vectors'] = create_elmo_embeddings(elmo, df_test_elmo, -1)\n"
      ],
      "execution_count": 0,
      "outputs": [
        {
          "output_type": "stream",
          "text": [
            "\n",
            "\n",
            ":: Lookup of 14356 ELMo representations. This takes a while ::\n",
            "100%[==================================================] 14356/14356 sentences\n",
            "\n",
            ":: Lookup of 7243 ELMo representations. This takes a while ::\n",
            "100%[==================================================] 7243/7243 sentences"
          ],
          "name": "stdout"
        }
      ]
    },
    {
      "cell_type": "markdown",
      "metadata": {
        "id": "CIG942BoWEyL",
        "colab_type": "text"
      },
      "source": [
        "# Model\n"
      ]
    },
    {
      "cell_type": "code",
      "metadata": {
        "id": "58EHabnHvGBv",
        "colab_type": "code",
        "colab": {}
      },
      "source": [
        "from keras.layers import Conv1D,Concatenate,Reshape,Dense,Dropout,MaxPool1D,Input\n",
        "from keras.models import Model\n",
        "from keras.backend import max as max_tf \n",
        "from keras.layers import Lambda\n",
        "from keras.backend import argmax\n",
        "import tensorflow as tf"
      ],
      "execution_count": 0,
      "outputs": []
    },
    {
      "cell_type": "code",
      "metadata": {
        "id": "UixLjG-UrtR_",
        "colab_type": "code",
        "colab": {}
      },
      "source": [
        "def get_new_model(sequence_length, EMBEDDING_D):\n",
        "    filter_sizes = (3, 4, 5)\n",
        "    num_filters = 128\n",
        "    num_classes = 3\n",
        "    drop_out = 0.5\n",
        "\n",
        "    input_x = Input(shape=(sequence_length,EMBEDDING_D), name='input_x')\n",
        "\n",
        "    # conv->max pool\n",
        "    pooled_outputs = []\n",
        "    for i, filter_size in enumerate(filter_sizes):\n",
        "        conv = Conv1D(filters=num_filters,kernel_size=[filter_size],strides=1,padding='valid',activation='relu',\n",
        "                        name=('conv_%d' % filter_size))(input_x)\n",
        "        max_pool = MaxPool1D(pool_size=[sequence_length - filter_size + 1],strides=(1),\n",
        "                                padding='valid',\n",
        "                                name=('max_pool_%d' % filter_size))(conv)\n",
        "        pooled_outputs.append(max_pool)\n",
        "\n",
        "    # combine all the pooled features\n",
        "    num_filters_total = num_filters * len(filter_sizes)\n",
        "    h_pool = Concatenate(axis=1)(pooled_outputs)\n",
        "    h_pool_flat = Reshape([num_filters_total])(h_pool)\n",
        "    # add dropout\n",
        "    dropout = Dropout(drop_out)(h_pool_flat)\n",
        "    # output layer\n",
        "    output = Dense(num_classes,activation='softmax',name='output')(dropout)\n",
        "\n",
        "    model = Model(inputs=input_x, outputs=output)\n",
        "    model.compile('adam', 'categorical_crossentropy', metrics=['accuracy'])\n",
        "    return model\n",
        "\n"
      ],
      "execution_count": 0,
      "outputs": []
    },
    {
      "cell_type": "markdown",
      "metadata": {
        "id": "cdYeIj1pO6oU",
        "colab_type": "text"
      },
      "source": [
        "# GloVe"
      ]
    },
    {
      "cell_type": "markdown",
      "metadata": {
        "id": "RkThl--IX5Az",
        "colab_type": "text"
      },
      "source": [
        "## Training"
      ]
    },
    {
      "cell_type": "code",
      "metadata": {
        "id": "OrDt9siesKEI",
        "colab_type": "code",
        "colab": {}
      },
      "source": [
        "data_train, labels_train = np.array(df_train_glove['vectors']),np.array(df_train_glove['label'])\n",
        "data_train = pad_sequences(data_train, maxlen=100, dtype='float32')\n",
        "\n",
        "labels_train = to_categorical(labels_train,num_classes=3)\n"
      ],
      "execution_count": 0,
      "outputs": []
    },
    {
      "cell_type": "code",
      "metadata": {
        "id": "eHyn0wWU222h",
        "colab_type": "code",
        "outputId": "75ff28ce-afbf-4dac-b0cc-9a42056ec20b",
        "colab": {
          "base_uri": "https://localhost:8080/",
          "height": 1000
        }
      },
      "source": [
        "model_glove = get_new_model(sequence_length=100, EMBEDDING_D=50)\n",
        "training=model_glove.fit(data_train, labels_train, epochs=100, batch_size=128, validation_split=0.1)"
      ],
      "execution_count": 0,
      "outputs": [
        {
          "output_type": "stream",
          "text": [
            "Train on 38761 samples, validate on 4307 samples\n",
            "Epoch 1/100\n",
            "38761/38761 [==============================] - 3s 87us/step - loss: 1.1576 - acc: 0.4186 - val_loss: 1.4304 - val_acc: 0.1607\n",
            "Epoch 2/100\n",
            "38761/38761 [==============================] - 3s 70us/step - loss: 0.9802 - acc: 0.5098 - val_loss: 1.1069 - val_acc: 0.4609\n",
            "Epoch 3/100\n",
            "38761/38761 [==============================] - 3s 71us/step - loss: 0.9346 - acc: 0.5477 - val_loss: 1.1672 - val_acc: 0.3898\n",
            "Epoch 4/100\n",
            "38761/38761 [==============================] - 3s 72us/step - loss: 0.9037 - acc: 0.5727 - val_loss: 1.2152 - val_acc: 0.3801\n",
            "Epoch 5/100\n",
            "38761/38761 [==============================] - 3s 71us/step - loss: 0.8669 - acc: 0.5953 - val_loss: 1.0456 - val_acc: 0.5089\n",
            "Epoch 6/100\n",
            "38761/38761 [==============================] - 3s 70us/step - loss: 0.8434 - acc: 0.6114 - val_loss: 0.8794 - val_acc: 0.5969\n",
            "Epoch 7/100\n",
            "38761/38761 [==============================] - 3s 69us/step - loss: 0.8214 - acc: 0.6251 - val_loss: 1.1235 - val_acc: 0.4534\n",
            "Epoch 8/100\n",
            "38761/38761 [==============================] - 3s 69us/step - loss: 0.7976 - acc: 0.6433 - val_loss: 1.0143 - val_acc: 0.5059\n",
            "Epoch 9/100\n",
            "38761/38761 [==============================] - 3s 70us/step - loss: 0.7796 - acc: 0.6537 - val_loss: 1.0617 - val_acc: 0.4976\n",
            "Epoch 10/100\n",
            "38761/38761 [==============================] - 3s 70us/step - loss: 0.7631 - acc: 0.6647 - val_loss: 1.0557 - val_acc: 0.5027\n",
            "Epoch 11/100\n",
            "38761/38761 [==============================] - 3s 70us/step - loss: 0.7431 - acc: 0.6783 - val_loss: 0.9896 - val_acc: 0.5503\n",
            "Epoch 12/100\n",
            "38761/38761 [==============================] - 3s 69us/step - loss: 0.7285 - acc: 0.6859 - val_loss: 0.9889 - val_acc: 0.5398\n",
            "Epoch 13/100\n",
            "38761/38761 [==============================] - 3s 69us/step - loss: 0.7140 - acc: 0.6920 - val_loss: 1.0760 - val_acc: 0.5013\n",
            "Epoch 14/100\n",
            "38761/38761 [==============================] - 3s 69us/step - loss: 0.6999 - acc: 0.7003 - val_loss: 1.1166 - val_acc: 0.4871\n",
            "Epoch 15/100\n",
            "38761/38761 [==============================] - 3s 69us/step - loss: 0.6899 - acc: 0.7044 - val_loss: 1.0980 - val_acc: 0.5003\n",
            "Epoch 16/100\n",
            "38761/38761 [==============================] - 3s 69us/step - loss: 0.6745 - acc: 0.7131 - val_loss: 0.9485 - val_acc: 0.5832\n",
            "Epoch 17/100\n",
            "38761/38761 [==============================] - 3s 70us/step - loss: 0.6669 - acc: 0.7160 - val_loss: 1.0929 - val_acc: 0.5022\n",
            "Epoch 18/100\n",
            "38761/38761 [==============================] - 3s 69us/step - loss: 0.6497 - acc: 0.7266 - val_loss: 1.0943 - val_acc: 0.5171\n",
            "Epoch 19/100\n",
            "38761/38761 [==============================] - 3s 70us/step - loss: 0.6425 - acc: 0.7294 - val_loss: 1.2553 - val_acc: 0.4493\n",
            "Epoch 20/100\n",
            "38761/38761 [==============================] - 3s 69us/step - loss: 0.6342 - acc: 0.7337 - val_loss: 0.9486 - val_acc: 0.5719\n",
            "Epoch 21/100\n",
            "38761/38761 [==============================] - 3s 70us/step - loss: 0.6298 - acc: 0.7362 - val_loss: 1.1225 - val_acc: 0.5034\n",
            "Epoch 22/100\n",
            "38761/38761 [==============================] - 3s 69us/step - loss: 0.6158 - acc: 0.7411 - val_loss: 1.0143 - val_acc: 0.5528\n",
            "Epoch 23/100\n",
            "38761/38761 [==============================] - 3s 69us/step - loss: 0.6118 - acc: 0.7451 - val_loss: 0.9385 - val_acc: 0.5895\n",
            "Epoch 24/100\n",
            "38761/38761 [==============================] - 3s 69us/step - loss: 0.6072 - acc: 0.7480 - val_loss: 0.8650 - val_acc: 0.6366\n",
            "Epoch 25/100\n",
            "38761/38761 [==============================] - 3s 69us/step - loss: 0.5941 - acc: 0.7542 - val_loss: 0.8812 - val_acc: 0.6083\n",
            "Epoch 26/100\n",
            "38761/38761 [==============================] - 3s 69us/step - loss: 0.5884 - acc: 0.7599 - val_loss: 1.0382 - val_acc: 0.5426\n",
            "Epoch 27/100\n",
            "38761/38761 [==============================] - 3s 69us/step - loss: 0.5858 - acc: 0.7585 - val_loss: 1.0550 - val_acc: 0.5452\n",
            "Epoch 28/100\n",
            "38761/38761 [==============================] - 3s 69us/step - loss: 0.5810 - acc: 0.7603 - val_loss: 0.9849 - val_acc: 0.5765\n",
            "Epoch 29/100\n",
            "38761/38761 [==============================] - 3s 70us/step - loss: 0.5790 - acc: 0.7608 - val_loss: 0.9282 - val_acc: 0.5988\n",
            "Epoch 30/100\n",
            "38761/38761 [==============================] - 3s 69us/step - loss: 0.5722 - acc: 0.7638 - val_loss: 1.0883 - val_acc: 0.5454\n",
            "Epoch 31/100\n",
            "38761/38761 [==============================] - 3s 70us/step - loss: 0.5601 - acc: 0.7705 - val_loss: 1.0165 - val_acc: 0.5714\n",
            "Epoch 32/100\n",
            "38761/38761 [==============================] - 3s 69us/step - loss: 0.5593 - acc: 0.7711 - val_loss: 1.0148 - val_acc: 0.5770\n",
            "Epoch 33/100\n",
            "38761/38761 [==============================] - 3s 69us/step - loss: 0.5539 - acc: 0.7739 - val_loss: 1.3551 - val_acc: 0.4588\n",
            "Epoch 34/100\n",
            "38761/38761 [==============================] - 3s 69us/step - loss: 0.5514 - acc: 0.7728 - val_loss: 1.1125 - val_acc: 0.5410\n",
            "Epoch 35/100\n",
            "38761/38761 [==============================] - 3s 69us/step - loss: 0.5462 - acc: 0.7759 - val_loss: 1.1174 - val_acc: 0.5373\n",
            "Epoch 36/100\n",
            "38761/38761 [==============================] - 3s 70us/step - loss: 0.5469 - acc: 0.7746 - val_loss: 0.8862 - val_acc: 0.6373\n",
            "Epoch 37/100\n",
            "38761/38761 [==============================] - 3s 69us/step - loss: 0.5372 - acc: 0.7802 - val_loss: 1.0746 - val_acc: 0.5714\n",
            "Epoch 38/100\n",
            "38761/38761 [==============================] - 3s 69us/step - loss: 0.5274 - acc: 0.7875 - val_loss: 1.1617 - val_acc: 0.5414\n",
            "Epoch 39/100\n",
            "38761/38761 [==============================] - 3s 69us/step - loss: 0.5300 - acc: 0.7829 - val_loss: 1.1802 - val_acc: 0.5268\n",
            "Epoch 40/100\n",
            "38761/38761 [==============================] - 3s 69us/step - loss: 0.5213 - acc: 0.7889 - val_loss: 1.0623 - val_acc: 0.5765\n",
            "Epoch 41/100\n",
            "38761/38761 [==============================] - 3s 70us/step - loss: 0.5302 - acc: 0.7826 - val_loss: 1.1475 - val_acc: 0.5438\n",
            "Epoch 42/100\n",
            "38761/38761 [==============================] - 3s 70us/step - loss: 0.5145 - acc: 0.7914 - val_loss: 1.0649 - val_acc: 0.5802\n",
            "Epoch 43/100\n",
            "38761/38761 [==============================] - 3s 69us/step - loss: 0.5163 - acc: 0.7915 - val_loss: 1.0785 - val_acc: 0.5647\n",
            "Epoch 44/100\n",
            "38761/38761 [==============================] - 3s 69us/step - loss: 0.5134 - acc: 0.7905 - val_loss: 1.4028 - val_acc: 0.4723\n",
            "Epoch 45/100\n",
            "38761/38761 [==============================] - 3s 70us/step - loss: 0.5051 - acc: 0.7944 - val_loss: 1.0940 - val_acc: 0.5758\n",
            "Epoch 46/100\n",
            "38761/38761 [==============================] - 3s 69us/step - loss: 0.5026 - acc: 0.7970 - val_loss: 1.0356 - val_acc: 0.5883\n",
            "Epoch 47/100\n",
            "38761/38761 [==============================] - 3s 69us/step - loss: 0.5055 - acc: 0.7962 - val_loss: 1.1027 - val_acc: 0.5635\n",
            "Epoch 48/100\n",
            "38761/38761 [==============================] - 3s 69us/step - loss: 0.5008 - acc: 0.7970 - val_loss: 1.1433 - val_acc: 0.5475\n",
            "Epoch 49/100\n",
            "38761/38761 [==============================] - 3s 69us/step - loss: 0.4951 - acc: 0.8022 - val_loss: 1.1385 - val_acc: 0.5591\n",
            "Epoch 50/100\n",
            "38761/38761 [==============================] - 3s 69us/step - loss: 0.4946 - acc: 0.8021 - val_loss: 1.2054 - val_acc: 0.5266\n",
            "Epoch 51/100\n",
            "38761/38761 [==============================] - 3s 69us/step - loss: 0.4947 - acc: 0.8016 - val_loss: 1.0753 - val_acc: 0.5809\n",
            "Epoch 52/100\n",
            "38761/38761 [==============================] - 3s 69us/step - loss: 0.4868 - acc: 0.8070 - val_loss: 1.1274 - val_acc: 0.5630\n",
            "Epoch 53/100\n",
            "38761/38761 [==============================] - 3s 70us/step - loss: 0.4823 - acc: 0.8064 - val_loss: 1.1191 - val_acc: 0.5751\n",
            "Epoch 54/100\n",
            "38761/38761 [==============================] - 3s 69us/step - loss: 0.4857 - acc: 0.8062 - val_loss: 1.2636 - val_acc: 0.5259\n",
            "Epoch 55/100\n",
            "38761/38761 [==============================] - 3s 69us/step - loss: 0.4862 - acc: 0.8026 - val_loss: 1.1981 - val_acc: 0.5421\n",
            "Epoch 56/100\n",
            "38761/38761 [==============================] - 3s 69us/step - loss: 0.4768 - acc: 0.8065 - val_loss: 1.1338 - val_acc: 0.5712\n",
            "Epoch 57/100\n",
            "38761/38761 [==============================] - 3s 69us/step - loss: 0.4739 - acc: 0.8090 - val_loss: 1.1478 - val_acc: 0.5579\n",
            "Epoch 58/100\n",
            "38761/38761 [==============================] - 3s 69us/step - loss: 0.4712 - acc: 0.8124 - val_loss: 1.2537 - val_acc: 0.5324\n",
            "Epoch 59/100\n",
            "38761/38761 [==============================] - 3s 69us/step - loss: 0.4692 - acc: 0.8132 - val_loss: 1.1982 - val_acc: 0.5584\n",
            "Epoch 60/100\n",
            "38761/38761 [==============================] - 3s 69us/step - loss: 0.4667 - acc: 0.8149 - val_loss: 1.3917 - val_acc: 0.5057\n",
            "Epoch 61/100\n",
            "38761/38761 [==============================] - 3s 69us/step - loss: 0.4756 - acc: 0.8094 - val_loss: 1.2085 - val_acc: 0.5456\n",
            "Epoch 62/100\n",
            "38761/38761 [==============================] - 3s 69us/step - loss: 0.4626 - acc: 0.8162 - val_loss: 0.9988 - val_acc: 0.6118\n",
            "Epoch 63/100\n",
            "38761/38761 [==============================] - 3s 69us/step - loss: 0.4605 - acc: 0.8177 - val_loss: 1.2816 - val_acc: 0.5384\n",
            "Epoch 64/100\n",
            "38761/38761 [==============================] - 3s 69us/step - loss: 0.4660 - acc: 0.8142 - val_loss: 1.1728 - val_acc: 0.5695\n",
            "Epoch 65/100\n",
            "38761/38761 [==============================] - 3s 69us/step - loss: 0.4639 - acc: 0.8151 - val_loss: 1.2734 - val_acc: 0.5384\n",
            "Epoch 66/100\n",
            "38761/38761 [==============================] - 3s 69us/step - loss: 0.4567 - acc: 0.8170 - val_loss: 1.1744 - val_acc: 0.5598\n",
            "Epoch 67/100\n",
            "38761/38761 [==============================] - 3s 69us/step - loss: 0.4549 - acc: 0.8189 - val_loss: 1.0860 - val_acc: 0.5902\n",
            "Epoch 68/100\n",
            "38761/38761 [==============================] - 3s 69us/step - loss: 0.4530 - acc: 0.8207 - val_loss: 1.0718 - val_acc: 0.5993\n",
            "Epoch 69/100\n",
            "38761/38761 [==============================] - 3s 69us/step - loss: 0.4571 - acc: 0.8172 - val_loss: 1.1390 - val_acc: 0.5744\n",
            "Epoch 70/100\n",
            "38761/38761 [==============================] - 3s 69us/step - loss: 0.4561 - acc: 0.8189 - val_loss: 1.2590 - val_acc: 0.5452\n",
            "Epoch 71/100\n",
            "38761/38761 [==============================] - 3s 69us/step - loss: 0.4528 - acc: 0.8194 - val_loss: 1.3345 - val_acc: 0.5224\n",
            "Epoch 72/100\n",
            "38761/38761 [==============================] - 3s 69us/step - loss: 0.4403 - acc: 0.8262 - val_loss: 1.2491 - val_acc: 0.5459\n",
            "Epoch 73/100\n",
            "38761/38761 [==============================] - 3s 69us/step - loss: 0.4473 - acc: 0.8233 - val_loss: 1.3467 - val_acc: 0.5238\n",
            "Epoch 74/100\n",
            "38761/38761 [==============================] - 3s 69us/step - loss: 0.4518 - acc: 0.8223 - val_loss: 1.0968 - val_acc: 0.5974\n",
            "Epoch 75/100\n",
            "38761/38761 [==============================] - 3s 69us/step - loss: 0.4493 - acc: 0.8221 - val_loss: 1.2298 - val_acc: 0.5510\n",
            "Epoch 76/100\n",
            "38761/38761 [==============================] - 3s 69us/step - loss: 0.4422 - acc: 0.8239 - val_loss: 1.1259 - val_acc: 0.5818\n",
            "Epoch 77/100\n",
            "38761/38761 [==============================] - 3s 70us/step - loss: 0.4367 - acc: 0.8288 - val_loss: 1.3538 - val_acc: 0.5247\n",
            "Epoch 78/100\n",
            "38761/38761 [==============================] - 3s 69us/step - loss: 0.4449 - acc: 0.8255 - val_loss: 1.1817 - val_acc: 0.5721\n",
            "Epoch 79/100\n",
            "38761/38761 [==============================] - 3s 70us/step - loss: 0.4369 - acc: 0.8270 - val_loss: 1.2776 - val_acc: 0.5445\n",
            "Epoch 80/100\n",
            "38761/38761 [==============================] - 3s 69us/step - loss: 0.4322 - acc: 0.8278 - val_loss: 1.2751 - val_acc: 0.5414\n",
            "Epoch 81/100\n",
            "38761/38761 [==============================] - 3s 69us/step - loss: 0.4357 - acc: 0.8292 - val_loss: 1.1958 - val_acc: 0.5707\n",
            "Epoch 82/100\n",
            "38761/38761 [==============================] - 3s 69us/step - loss: 0.4308 - acc: 0.8304 - val_loss: 1.3470 - val_acc: 0.5308\n",
            "Epoch 83/100\n",
            "38761/38761 [==============================] - 3s 69us/step - loss: 0.4301 - acc: 0.8312 - val_loss: 1.3736 - val_acc: 0.5226\n",
            "Epoch 84/100\n",
            "38761/38761 [==============================] - 3s 69us/step - loss: 0.4294 - acc: 0.8301 - val_loss: 1.3744 - val_acc: 0.5157\n",
            "Epoch 85/100\n",
            "38761/38761 [==============================] - 3s 69us/step - loss: 0.4270 - acc: 0.8323 - val_loss: 1.2424 - val_acc: 0.5593\n",
            "Epoch 86/100\n",
            "38761/38761 [==============================] - 3s 69us/step - loss: 0.4302 - acc: 0.8316 - val_loss: 1.4847 - val_acc: 0.4969\n",
            "Epoch 87/100\n",
            "38761/38761 [==============================] - 3s 69us/step - loss: 0.4286 - acc: 0.8308 - val_loss: 1.2527 - val_acc: 0.5600\n",
            "Epoch 88/100\n",
            "38761/38761 [==============================] - 3s 69us/step - loss: 0.4257 - acc: 0.8318 - val_loss: 1.1770 - val_acc: 0.5795\n",
            "Epoch 89/100\n",
            "38761/38761 [==============================] - 3s 69us/step - loss: 0.4255 - acc: 0.8339 - val_loss: 1.0984 - val_acc: 0.5983\n",
            "Epoch 90/100\n",
            "38761/38761 [==============================] - 3s 69us/step - loss: 0.4168 - acc: 0.8352 - val_loss: 1.2162 - val_acc: 0.5767\n",
            "Epoch 91/100\n",
            "38761/38761 [==============================] - 3s 70us/step - loss: 0.4231 - acc: 0.8337 - val_loss: 1.5670 - val_acc: 0.4855\n",
            "Epoch 92/100\n",
            "38761/38761 [==============================] - 3s 71us/step - loss: 0.4172 - acc: 0.8363 - val_loss: 1.4098 - val_acc: 0.5173\n",
            "Epoch 93/100\n",
            "38761/38761 [==============================] - 3s 70us/step - loss: 0.4185 - acc: 0.8371 - val_loss: 1.2061 - val_acc: 0.5772\n",
            "Epoch 94/100\n",
            "38761/38761 [==============================] - 3s 70us/step - loss: 0.4118 - acc: 0.8385 - val_loss: 1.3512 - val_acc: 0.5486\n",
            "Epoch 95/100\n",
            "38761/38761 [==============================] - 3s 70us/step - loss: 0.4145 - acc: 0.8400 - val_loss: 1.1256 - val_acc: 0.5993\n",
            "Epoch 96/100\n",
            "38761/38761 [==============================] - 3s 69us/step - loss: 0.4183 - acc: 0.8339 - val_loss: 1.0879 - val_acc: 0.6118\n",
            "Epoch 97/100\n",
            "38761/38761 [==============================] - 3s 69us/step - loss: 0.4180 - acc: 0.8374 - val_loss: 1.2643 - val_acc: 0.5607\n",
            "Epoch 98/100\n",
            "38761/38761 [==============================] - 3s 69us/step - loss: 0.4120 - acc: 0.8398 - val_loss: 1.4377 - val_acc: 0.5254\n",
            "Epoch 99/100\n",
            "38761/38761 [==============================] - 3s 69us/step - loss: 0.4203 - acc: 0.8358 - val_loss: 1.2616 - val_acc: 0.5647\n",
            "Epoch 100/100\n",
            "38761/38761 [==============================] - 3s 70us/step - loss: 0.4146 - acc: 0.8367 - val_loss: 1.4018 - val_acc: 0.5333\n"
          ],
          "name": "stdout"
        }
      ]
    },
    {
      "cell_type": "markdown",
      "metadata": {
        "id": "8UXetxQBYi4_",
        "colab_type": "text"
      },
      "source": [
        "## Evaluation"
      ]
    },
    {
      "cell_type": "code",
      "metadata": {
        "id": "1flDUnZtZvOT",
        "colab_type": "code",
        "outputId": "004ca678-849f-4913-d49e-d72251f84c44",
        "colab": {
          "base_uri": "https://localhost:8080/",
          "height": 191
        }
      },
      "source": [
        "from sklearn.metrics import classification_report\n",
        "import numpy as np\n",
        "\n",
        "data_test,labels_test = np.array(df_test_glove['vectors']),np.array(df_test_glove['label'])\n",
        "data_test = pad_sequences(data_test, maxlen=100, dtype='float32')\n",
        "labels_test = to_categorical(labels_test,num_classes=3)\n",
        "\n",
        "Y_test = np.argmax(labels_test, axis=1) # Convert one-hot to index\n",
        "y_pred = model_glove.predict(data_test)\n",
        "y_pred = y_pred.argmax(axis=-1)\n",
        "print(classification_report(Y_test, y_pred))"
      ],
      "execution_count": 0,
      "outputs": [
        {
          "output_type": "stream",
          "text": [
            "              precision    recall  f1-score   support\n",
            "\n",
            "           0       0.67      0.71      0.69      4829\n",
            "           1       0.59      0.75      0.66      4829\n",
            "           2       0.78      0.53      0.63      4829\n",
            "\n",
            "    accuracy                           0.66     14487\n",
            "   macro avg       0.68      0.66      0.66     14487\n",
            "weighted avg       0.68      0.66      0.66     14487\n",
            "\n"
          ],
          "name": "stdout"
        }
      ]
    },
    {
      "cell_type": "code",
      "metadata": {
        "id": "54MwDtaxvzu2",
        "colab_type": "code",
        "outputId": "14c5f021-2719-4f9e-efd2-97ec4cb4bf7f",
        "colab": {
          "base_uri": "https://localhost:8080/",
          "height": 339
        }
      },
      "source": [
        "from sklearn import metrics\n",
        "cm=metrics.confusion_matrix(Y_test,y_pred)\n",
        "\n",
        "import seaborn as sn\n",
        "import pandas as pd\n",
        "import matplotlib.pyplot as plt\n",
        "\n",
        "df_cm = pd.DataFrame(cm, index = ['negative','neutral','positive'],\n",
        "                  columns = ['negative','neutral','postive'])\n",
        "plt.figure(figsize = (5,5))\n",
        "\n",
        "ax = sn.heatmap(df_cm, annot=True)\n",
        "\n",
        "bottom, top = ax.get_ylim()\n",
        "ax.set_ylim(bottom + 0.5, top - 0.5)\n"
      ],
      "execution_count": 0,
      "outputs": [
        {
          "output_type": "execute_result",
          "data": {
            "text/plain": [
              "(3.0, 0.0)"
            ]
          },
          "metadata": {
            "tags": []
          },
          "execution_count": 72
        },
        {
          "output_type": "display_data",
          "data": {
            "image/png": "[encoded data removed]",
            "text/plain": [
              "<Figure size 360x360 with 2 Axes>"
            ]
          },
          "metadata": {
            "tags": []
          }
        }
      ]
    },
    {
      "cell_type": "markdown",
      "metadata": {
        "colab_type": "text",
        "id": "OGXgS2q5WbcF"
      },
      "source": [
        "# Word2Vec"
      ]
    },
    {
      "cell_type": "markdown",
      "metadata": {
        "colab_type": "text",
        "id": "MKMmooN0WbcP"
      },
      "source": [
        "## Training"
      ]
    },
    {
      "cell_type": "code",
      "metadata": {
        "colab_type": "code",
        "id": "dMspv0fyWbcV",
        "colab": {}
      },
      "source": [
        "data_train, labels_train = np.array(df_train_w2v['vectors']),np.array(df_train_w2v['label'])\n",
        "data_train = pad_sequences(data_train, maxlen=100, dtype='float32')\n",
        "\n",
        "labels_train = to_categorical(labels_train,num_classes=3)\n"
      ],
      "execution_count": 0,
      "outputs": []
    },
    {
      "cell_type": "code",
      "metadata": {
        "colab_type": "code",
        "outputId": "706f5991-b2c7-46da-9e58-07346870c713",
        "id": "ySD9vMX7Wbcg",
        "colab": {
          "base_uri": "https://localhost:8080/",
          "height": 1000
        }
      },
      "source": [
        "model_w2v = get_new_model(sequence_length=100, EMBEDDING_D=300)\n",
        "training=model_w2v.fit(data_train, labels_train, epochs=30, batch_size=128, validation_split=0.1)"
      ],
      "execution_count": 0,
      "outputs": [
        {
          "output_type": "stream",
          "text": [
            "Train on 19380 samples, validate on 2154 samples\n",
            "Epoch 1/30\n",
            "19380/19380 [==============================] - 4s 200us/step - loss: 1.0455 - acc: 0.4631 - val_loss: 0.9172 - val_acc: 0.5678\n",
            "Epoch 2/30\n",
            "19380/19380 [==============================] - 3s 160us/step - loss: 0.8735 - acc: 0.5970 - val_loss: 0.8487 - val_acc: 0.6230\n",
            "Epoch 3/30\n",
            "19380/19380 [==============================] - 3s 160us/step - loss: 0.7770 - acc: 0.6623 - val_loss: 0.8162 - val_acc: 0.6305\n",
            "Epoch 4/30\n",
            "19380/19380 [==============================] - 3s 159us/step - loss: 0.6970 - acc: 0.7124 - val_loss: 0.7885 - val_acc: 0.6518\n",
            "Epoch 5/30\n",
            "19380/19380 [==============================] - 3s 160us/step - loss: 0.6219 - acc: 0.7528 - val_loss: 0.7912 - val_acc: 0.6430\n",
            "Epoch 6/30\n",
            "19380/19380 [==============================] - 3s 161us/step - loss: 0.5410 - acc: 0.7954 - val_loss: 0.7801 - val_acc: 0.6620\n",
            "Epoch 7/30\n",
            "19380/19380 [==============================] - 3s 160us/step - loss: 0.4770 - acc: 0.8219 - val_loss: 0.7396 - val_acc: 0.6806\n",
            "Epoch 8/30\n",
            "19380/19380 [==============================] - 3s 160us/step - loss: 0.4084 - acc: 0.8583 - val_loss: 0.7603 - val_acc: 0.6699\n",
            "Epoch 9/30\n",
            "19380/19380 [==============================] - 3s 160us/step - loss: 0.3536 - acc: 0.8796 - val_loss: 0.7864 - val_acc: 0.6634\n",
            "Epoch 10/30\n",
            "19380/19380 [==============================] - 3s 159us/step - loss: 0.3182 - acc: 0.8914 - val_loss: 0.7480 - val_acc: 0.6801\n",
            "Epoch 11/30\n",
            "19380/19380 [==============================] - 3s 161us/step - loss: 0.2770 - acc: 0.9093 - val_loss: 0.7658 - val_acc: 0.6760\n",
            "Epoch 12/30\n",
            "19380/19380 [==============================] - 3s 160us/step - loss: 0.2460 - acc: 0.9214 - val_loss: 0.7746 - val_acc: 0.6797\n",
            "Epoch 13/30\n",
            "19380/19380 [==============================] - 3s 159us/step - loss: 0.2179 - acc: 0.9331 - val_loss: 0.7928 - val_acc: 0.6838\n",
            "Epoch 14/30\n",
            "19380/19380 [==============================] - 3s 159us/step - loss: 0.1994 - acc: 0.9384 - val_loss: 0.8001 - val_acc: 0.6713\n",
            "Epoch 15/30\n",
            "19380/19380 [==============================] - 3s 159us/step - loss: 0.1795 - acc: 0.9446 - val_loss: 0.7951 - val_acc: 0.6908\n",
            "Epoch 16/30\n",
            "19380/19380 [==============================] - 3s 159us/step - loss: 0.1704 - acc: 0.9486 - val_loss: 0.8226 - val_acc: 0.6811\n",
            "Epoch 17/30\n",
            "19380/19380 [==============================] - 3s 161us/step - loss: 0.1588 - acc: 0.9521 - val_loss: 0.8350 - val_acc: 0.6838\n",
            "Epoch 18/30\n",
            "19380/19380 [==============================] - 3s 160us/step - loss: 0.1459 - acc: 0.9568 - val_loss: 0.8544 - val_acc: 0.6750\n",
            "Epoch 19/30\n",
            "19380/19380 [==============================] - 3s 159us/step - loss: 0.1406 - acc: 0.9562 - val_loss: 0.8829 - val_acc: 0.6783\n",
            "Epoch 20/30\n",
            "19380/19380 [==============================] - 3s 159us/step - loss: 0.1336 - acc: 0.9604 - val_loss: 0.8911 - val_acc: 0.6690\n",
            "Epoch 21/30\n",
            "19380/19380 [==============================] - 3s 161us/step - loss: 0.1214 - acc: 0.9647 - val_loss: 0.8922 - val_acc: 0.6718\n",
            "Epoch 22/30\n",
            "19380/19380 [==============================] - 3s 160us/step - loss: 0.1173 - acc: 0.9650 - val_loss: 0.9142 - val_acc: 0.6699\n",
            "Epoch 23/30\n",
            "19380/19380 [==============================] - 3s 159us/step - loss: 0.1140 - acc: 0.9659 - val_loss: 0.9121 - val_acc: 0.6736\n",
            "Epoch 24/30\n",
            "19380/19380 [==============================] - 3s 160us/step - loss: 0.1120 - acc: 0.9669 - val_loss: 0.9330 - val_acc: 0.6773\n",
            "Epoch 25/30\n",
            "19380/19380 [==============================] - 3s 163us/step - loss: 0.1070 - acc: 0.9663 - val_loss: 0.9729 - val_acc: 0.6667\n",
            "Epoch 26/30\n",
            "19380/19380 [==============================] - 3s 162us/step - loss: 0.0989 - acc: 0.9705 - val_loss: 0.9814 - val_acc: 0.6741\n",
            "Epoch 27/30\n",
            "19380/19380 [==============================] - 3s 162us/step - loss: 0.0972 - acc: 0.9711 - val_loss: 0.9968 - val_acc: 0.6690\n",
            "Epoch 28/30\n",
            "19380/19380 [==============================] - 3s 158us/step - loss: 0.0960 - acc: 0.9716 - val_loss: 0.9821 - val_acc: 0.6736\n",
            "Epoch 29/30\n",
            "19380/19380 [==============================] - 3s 160us/step - loss: 0.0920 - acc: 0.9707 - val_loss: 1.0005 - val_acc: 0.6643\n",
            "Epoch 30/30\n",
            "19380/19380 [==============================] - 3s 159us/step - loss: 0.0897 - acc: 0.9721 - val_loss: 1.0172 - val_acc: 0.6704\n"
          ],
          "name": "stdout"
        }
      ]
    },
    {
      "cell_type": "markdown",
      "metadata": {
        "colab_type": "text",
        "id": "9YOBLUcVWbcq"
      },
      "source": [
        "## Evaluation"
      ]
    },
    {
      "cell_type": "code",
      "metadata": {
        "colab_type": "code",
        "outputId": "1d9b09d4-160f-4ed1-e179-41fddee7d139",
        "id": "AXEOfIFdWbcy",
        "colab": {
          "base_uri": "https://localhost:8080/",
          "height": 191
        }
      },
      "source": [
        "from sklearn.metrics import classification_report\n",
        "import numpy as np\n",
        "\n",
        "data_test,labels_test = np.array(df_test_w2v['vectors']),np.array(df_test_w2v['label'])\n",
        "data_test = pad_sequences(data_test, maxlen=100, dtype='float32')\n",
        "labels_test = to_categorical(labels_test,num_classes=3)\n",
        "\n",
        "Y_test = np.argmax(labels_test, axis=1) # Convert one-hot to index\n",
        "y_pred = model_w2v.predict(data_test)\n",
        "y_pred = y_pred.argmax(axis=-1)\n",
        "print(classification_report(Y_test, y_pred))"
      ],
      "execution_count": 0,
      "outputs": [
        {
          "output_type": "stream",
          "text": [
            "              precision    recall  f1-score   support\n",
            "\n",
            "           0       0.68      0.64      0.66      4829\n",
            "           1       0.56      0.66      0.60      4829\n",
            "           2       0.73      0.65      0.69      4829\n",
            "\n",
            "    accuracy                           0.65     14487\n",
            "   macro avg       0.66      0.65      0.65     14487\n",
            "weighted avg       0.66      0.65      0.65     14487\n",
            "\n"
          ],
          "name": "stdout"
        }
      ]
    },
    {
      "cell_type": "code",
      "metadata": {
        "colab_type": "code",
        "outputId": "fa51d3d4-9e44-49c2-b707-db577316f35e",
        "id": "uP4kA2vYWbc6",
        "colab": {
          "base_uri": "https://localhost:8080/",
          "height": 337
        }
      },
      "source": [
        "from sklearn import metrics\n",
        "cm=metrics.confusion_matrix(Y_test,y_pred)\n",
        "\n",
        "import seaborn as sn\n",
        "import pandas as pd\n",
        "import matplotlib.pyplot as plt\n",
        "\n",
        "df_cm = pd.DataFrame(cm, index = ['negative','neutral','positive'],\n",
        "                  columns = ['negative','neutral','postive'])\n",
        "plt.figure(figsize = (5,5))\n",
        "\n",
        "ax = sn.heatmap(df_cm, annot=True)\n",
        "\n",
        "bottom, top = ax.get_ylim()\n",
        "ax.set_ylim(bottom + 0.5, top - 0.5)\n"
      ],
      "execution_count": 0,
      "outputs": [
        {
          "output_type": "execute_result",
          "data": {
            "text/plain": [
              "(3.0, 0.0)"
            ]
          },
          "metadata": {
            "tags": []
          },
          "execution_count": 76
        },
        {
          "output_type": "display_data",
          "data": {
            "image/png": "[encoded data removed]",
            "text/plain": [
              "<Figure size 360x360 with 2 Axes>"
            ]
          },
          "metadata": {
            "tags": []
          }
        }
      ]
    },
    {
      "cell_type": "markdown",
      "metadata": {
        "colab_type": "text",
        "id": "1R8ra6MuWcZq"
      },
      "source": [
        "# ElMo"
      ]
    },
    {
      "cell_type": "markdown",
      "metadata": {
        "colab_type": "text",
        "id": "g8Bx71PNWcZs"
      },
      "source": [
        "## Training"
      ]
    },
    {
      "cell_type": "code",
      "metadata": {
        "colab_type": "code",
        "id": "p89VZGNUWcZv",
        "colab": {}
      },
      "source": [
        "data_train, labels_train = np.array(df_train_elmo['vectors']),np.array(df_train_elmo['label'])\n",
        "data_train = pad_sequences(data_train, maxlen=100, dtype='float32')\n",
        "\n",
        "labels_train = to_categorical(labels_train,num_classes=3)\n"
      ],
      "execution_count": 0,
      "outputs": []
    },
    {
      "cell_type": "code",
      "metadata": {
        "colab_type": "code",
        "outputId": "79a854a6-98ee-4577-d7d5-78d56fd8fbf9",
        "id": "zK6269VOWcZ0",
        "colab": {
          "base_uri": "https://localhost:8080/",
          "height": 729
        }
      },
      "source": [
        "model_elmo = get_new_model(sequence_length=100, EMBEDDING_D=1024)\n",
        "training=model_elmo.fit(data_train, labels_train, epochs=20, batch_size=128, validation_split=0.1)"
      ],
      "execution_count": 0,
      "outputs": [
        {
          "output_type": "stream",
          "text": [
            "Train on 12920 samples, validate on 1436 samples\n",
            "Epoch 1/20\n",
            "12920/12920 [==============================] - 6s 497us/step - loss: 1.5609 - acc: 0.4404 - val_loss: 0.9501 - val_acc: 0.5348\n",
            "Epoch 2/20\n",
            "12920/12920 [==============================] - 5s 397us/step - loss: 0.8952 - acc: 0.5754 - val_loss: 0.9285 - val_acc: 0.5397\n",
            "Epoch 3/20\n",
            "12920/12920 [==============================] - 5s 396us/step - loss: 0.8008 - acc: 0.6371 - val_loss: 0.8783 - val_acc: 0.5975\n",
            "Epoch 4/20\n",
            "12920/12920 [==============================] - 5s 395us/step - loss: 0.7129 - acc: 0.6891 - val_loss: 0.8638 - val_acc: 0.6184\n",
            "Epoch 5/20\n",
            "12920/12920 [==============================] - 5s 395us/step - loss: 0.6448 - acc: 0.7282 - val_loss: 0.8637 - val_acc: 0.6163\n",
            "Epoch 6/20\n",
            "12920/12920 [==============================] - 5s 393us/step - loss: 0.5731 - acc: 0.7653 - val_loss: 0.8572 - val_acc: 0.6031\n",
            "Epoch 7/20\n",
            "12920/12920 [==============================] - 5s 397us/step - loss: 0.4815 - acc: 0.8064 - val_loss: 0.8803 - val_acc: 0.6093\n",
            "Epoch 8/20\n",
            "12920/12920 [==============================] - 5s 397us/step - loss: 0.4210 - acc: 0.8392 - val_loss: 0.8883 - val_acc: 0.6184\n",
            "Epoch 9/20\n",
            "12920/12920 [==============================] - 5s 396us/step - loss: 0.3540 - acc: 0.8684 - val_loss: 0.9486 - val_acc: 0.6219\n",
            "Epoch 10/20\n",
            "12920/12920 [==============================] - 5s 398us/step - loss: 0.3083 - acc: 0.8889 - val_loss: 0.9033 - val_acc: 0.6330\n",
            "Epoch 11/20\n",
            "12920/12920 [==============================] - 5s 396us/step - loss: 0.2626 - acc: 0.9057 - val_loss: 0.9446 - val_acc: 0.6351\n",
            "Epoch 12/20\n",
            "12920/12920 [==============================] - 5s 399us/step - loss: 0.2358 - acc: 0.9195 - val_loss: 0.9783 - val_acc: 0.6344\n",
            "Epoch 13/20\n",
            "12920/12920 [==============================] - 5s 397us/step - loss: 0.2147 - acc: 0.9249 - val_loss: 0.9894 - val_acc: 0.6295\n",
            "Epoch 14/20\n",
            "12920/12920 [==============================] - 5s 397us/step - loss: 0.1908 - acc: 0.9358 - val_loss: 1.0294 - val_acc: 0.6302\n",
            "Epoch 15/20\n",
            "12920/12920 [==============================] - 5s 396us/step - loss: 0.1689 - acc: 0.9420 - val_loss: 1.0566 - val_acc: 0.6295\n",
            "Epoch 16/20\n",
            "12920/12920 [==============================] - 5s 396us/step - loss: 0.1577 - acc: 0.9456 - val_loss: 1.0919 - val_acc: 0.6274\n",
            "Epoch 17/20\n",
            "12920/12920 [==============================] - 5s 395us/step - loss: 0.1522 - acc: 0.9474 - val_loss: 1.1322 - val_acc: 0.6233\n",
            "Epoch 18/20\n",
            "12920/12920 [==============================] - 5s 395us/step - loss: 0.1394 - acc: 0.9509 - val_loss: 1.1190 - val_acc: 0.6344\n",
            "Epoch 19/20\n",
            "12920/12920 [==============================] - 5s 397us/step - loss: 0.1351 - acc: 0.9533 - val_loss: 1.2032 - val_acc: 0.6128\n",
            "Epoch 20/20\n",
            "12920/12920 [==============================] - 5s 395us/step - loss: 0.1267 - acc: 0.9551 - val_loss: 1.2673 - val_acc: 0.6184\n"
          ],
          "name": "stdout"
        }
      ]
    },
    {
      "cell_type": "markdown",
      "metadata": {
        "colab_type": "text",
        "id": "UlEN-BJdWcZ8"
      },
      "source": [
        "## Evaluation"
      ]
    },
    {
      "cell_type": "code",
      "metadata": {
        "colab_type": "code",
        "outputId": "47e2511a-a32f-4332-ce16-103e2dd97c85",
        "id": "yh1mXlk2WcZ_",
        "colab": {
          "base_uri": "https://localhost:8080/",
          "height": 191
        }
      },
      "source": [
        "from sklearn.metrics import classification_report\n",
        "import numpy as np\n",
        "\n",
        "data_test,labels_test = np.array(df_test_elmo['vectors']),np.array(df_test_elmo['label'])\n",
        "data_test = pad_sequences(data_test, maxlen=100, dtype='float32')\n",
        "labels_test = to_categorical(labels_test,num_classes=3)\n",
        "\n",
        "Y_test = np.argmax(labels_test, axis=1) # Convert one-hot to index\n",
        "y_pred = model_elmo.predict(data_test)\n",
        "y_pred = y_pred.argmax(axis=-1)\n",
        "print(classification_report(Y_test, y_pred))"
      ],
      "execution_count": 0,
      "outputs": [
        {
          "output_type": "stream",
          "text": [
            "              precision    recall  f1-score   support\n",
            "\n",
            "           0       0.59      0.74      0.65      2413\n",
            "           1       0.62      0.42      0.50      2405\n",
            "           2       0.67      0.72      0.69      2425\n",
            "\n",
            "    accuracy                           0.63      7243\n",
            "   macro avg       0.63      0.62      0.62      7243\n",
            "weighted avg       0.63      0.63      0.62      7243\n",
            "\n"
          ],
          "name": "stdout"
        }
      ]
    },
    {
      "cell_type": "code",
      "metadata": {
        "colab_type": "code",
        "outputId": "7ee9e0cd-2999-4e87-f7dd-310a6eea371e",
        "id": "r93JMQBFWcaH",
        "colab": {
          "base_uri": "https://localhost:8080/",
          "height": 337
        }
      },
      "source": [
        "from sklearn import metrics\n",
        "cm=metrics.confusion_matrix(Y_test,y_pred)\n",
        "\n",
        "import seaborn as sn\n",
        "import pandas as pd\n",
        "import matplotlib.pyplot as plt\n",
        "\n",
        "df_cm = pd.DataFrame(cm, index = ['negativlle','neutral','positive'],\n",
        "                  columns = ['negative','neutral','postive'])\n",
        "plt.figure(figsize = (5,5))\n",
        "\n",
        "ax = sn.heatmap(df_cm, annot=True)\n",
        "\n",
        "bottom, top = ax.get_ylim()\n",
        "ax.set_ylim(bottom + 0.5, top - 0.5)\n"
      ],
      "execution_count": 0,
      "outputs": [
        {
          "output_type": "execute_result",
          "data": {
            "text/plain": [
              "(3.0, 0.0)"
            ]
          },
          "metadata": {
            "tags": []
          },
          "execution_count": 123
        },
        {
          "output_type": "display_data",
          "data": {
            "image/png": "[encoded data removed]",
            "text/plain": [
              "<Figure size 360x360 with 2 Axes>"
            ]
          },
          "metadata": {
            "tags": []
          }
        }
      ]
    }
  ]
}